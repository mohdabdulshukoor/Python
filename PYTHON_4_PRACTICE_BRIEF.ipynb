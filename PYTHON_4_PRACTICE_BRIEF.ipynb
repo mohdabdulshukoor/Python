{
 "cells": [
  {
   "cell_type": "markdown",
   "id": "a8142f4a",
   "metadata": {},
   "source": [
    "# TASK 1"
   ]
  },
  {
   "cell_type": "code",
   "execution_count": null,
   "id": "91cac672",
   "metadata": {},
   "outputs": [],
   "source": [
    "#finding factorial of a number\n",
    "#using while loop\n",
    "\n",
    "num = int(input(\"Enter an integer to find factorial: \"))\n",
    "factorial=1 \n",
    "if num<0:\n",
    "   print(\"Factorial not defined for negative integer\");\n",
    "elif(num==0):\n",
    "    print(\"The factorial of 0 is 1\");\n",
    "else:\n",
    "  while(num>0):\n",
    "        factorial=factorial*num\n",
    "        \n",
    "        num=num-1\n",
    "        \n",
    "  print(\"Factorial of the given integer is: \")\n",
    "  print(factorial)"
   ]
  },
  {
   "cell_type": "markdown",
   "id": "79117b8d",
   "metadata": {},
   "source": [
    "# TASK 2"
   ]
  },
  {
   "cell_type": "code",
   "execution_count": 2,
   "id": "41170653",
   "metadata": {},
   "outputs": [
    {
     "name": "stdout",
     "output_type": "stream",
     "text": [
      "Enter a number: 7\n",
      "1\n",
      "2\n",
      "3\n",
      "4\n",
      "5\n",
      "6\n",
      "7\n"
     ]
    }
   ],
   "source": [
    "x = int(input(\"Enter a ra number: \"))\n",
    "i = 1\n",
    "\n",
    "while i <= x:\n",
    "    if i %  == 0:\n",
    "        print(i)\n",
    "    i = i + 1\n"
   ]
  },
  {
   "cell_type": "markdown",
   "id": "6ea52c86",
   "metadata": {},
   "source": [
    "# TASK 3"
   ]
  },
  {
   "cell_type": "code",
   "execution_count": null,
   "id": "acfa376e",
   "metadata": {},
   "outputs": [
    {
     "name": "stdout",
     "output_type": "stream",
     "text": [
      "Enter a number: 88888\n"
     ]
    }
   ],
   "source": [
    "n = 0\n",
    "numbers = 0\n",
    "s += int(input(\"Enter a number: \"))\n",
    "while x < 5:\n",
    "    n += 1\n",
    "    #s += (int(input(\"Enter a number: \")))\n",
    "print(numbers)"
   ]
  },
  {
   "cell_type": "markdown",
   "id": "0c8d78e4",
   "metadata": {},
   "source": [
    "# TASK 4"
   ]
  },
  {
   "cell_type": "code",
   "execution_count": 14,
   "id": "76153dba",
   "metadata": {},
   "outputs": [
    {
     "name": "stdout",
     "output_type": "stream",
     "text": [
      "enter the range : 5\n",
      "enter value of a : 1\n",
      "enter value of b : 2\n",
      "1 , 2 , 3 , 5 , 8 , None\n"
     ]
    }
   ],
   "source": [
    "def fbncci(num):\n",
    "    \n",
    "    x = int(input(\"enter value of a : \"))\n",
    "    y = int(input(\"enter value of b : \"))\n",
    "    \n",
    "    count = 0\n",
    "    while count < num :\n",
    "        print(x,end=\" , \")\n",
    "        z = x+y\n",
    "        x = y\n",
    "        y = z\n",
    "        \n",
    "        count = count+1\n",
    "        \n",
    "n = int(input(\"enter the range : \"))\n",
    "\n",
    "fib = fbncci(n)\n",
    "\n",
    "print(fib)"
   ]
  },
  {
   "cell_type": "markdown",
   "id": "41f36def",
   "metadata": {},
   "source": [
    "# TASK 5"
   ]
  },
  {
   "cell_type": "code",
   "execution_count": null,
   "id": "78a1a068",
   "metadata": {},
   "outputs": [],
   "source": [
    "t1 = (10,20,30,40,50,60,70,80,90)\n",
    "t2 = (50,60,70,80,90,10,20,30,40)\n",
    "t3 = t1 + t2\n",
    "print(t1)\n",
    "print(t2)\n",
    "print(t3)\n",
    "\n",
    "print(id(t1))\n",
    "print(id(t2))\n",
    "print(id(t3))\n",
    "#Gives different id's or location for each variable because of the execution difference and the values in it!"
   ]
  },
  {
   "cell_type": "markdown",
   "id": "0338e631",
   "metadata": {},
   "source": [
    "# TASK 6"
   ]
  },
  {
   "cell_type": "code",
   "execution_count": 1,
   "id": "e503ae2a",
   "metadata": {},
   "outputs": [
    {
     "name": "stdout",
     "output_type": "stream",
     "text": [
      "{70, 40, 10, 80, 50, 20, 90, 60, 30}\n"
     ]
    }
   ],
   "source": [
    "m = {10,20,30,40,50,60,70,80,90}\n",
    "n = {50,60,70,80,90,10,20,30,40}\n",
    "m.update(n)\n",
    "print(m)\n",
    "#Prints the unique values from both the sets (as sets contains only the uniques values (or) Non recurring values)"
   ]
  },
  {
   "cell_type": "markdown",
   "id": "cad3f5d5",
   "metadata": {},
   "source": [
    "# TASK 7"
   ]
  },
  {
   "cell_type": "code",
   "execution_count": 11,
   "id": "0d81651c",
   "metadata": {},
   "outputs": [
    {
     "name": "stdout",
     "output_type": "stream",
     "text": [
      "{'SSH': 2}\n",
      "{'http': 4}\n"
     ]
    }
   ],
   "source": [
    "dd1 = {'FTP':1,'SSH':2, 'TELNET':3, 'http':4}\n",
    "\n",
    "for i,j in dd1.items():\n",
    "    if(j%2==0):\n",
    "          print({i:j})"
   ]
  },
  {
   "cell_type": "markdown",
   "id": "7180873e",
   "metadata": {},
   "source": [
    "# TASK 8"
   ]
  },
  {
   "cell_type": "code",
   "execution_count": null,
   "id": "f35ed7c8",
   "metadata": {},
   "outputs": [],
   "source": [
    "dictionary = {i:j}\n",
    "\n",
    "for a in range(1,16):\n",
    "    b = a*a\n",
    "    dictionary[a]=b\n",
    "    \n",
    "print(dictionary)\n",
    "    "
   ]
  },
  {
   "cell_type": "markdown",
   "id": "b3baf9c5",
   "metadata": {},
   "source": [
    "# TASK 9"
   ]
  },
  {
   "cell_type": "code",
   "execution_count": 10,
   "id": "db9c7a39",
   "metadata": {},
   "outputs": [
    {
     "name": "stdout",
     "output_type": "stream",
     "text": [
      "d2 : {1: 'FTP', 2: 'SSH', 3: 'TELNET', 4: 'http'}\n"
     ]
    }
   ],
   "source": [
    "d1 = {'FTP':1,'SSH':2, 'TELNET':3, 'http':4}\n",
    "d2 = {}\n",
    "\n",
    "for i,j in d1.items():\n",
    "    d2[j]=i\n",
    "print(\"d2 :\",d2)"
   ]
  },
  {
   "cell_type": "markdown",
   "id": "43991ec1",
   "metadata": {},
   "source": [
    "# TASK 10"
   ]
  },
  {
   "cell_type": "code",
   "execution_count": null,
   "id": "54136c8e",
   "metadata": {},
   "outputs": [],
   "source": [
    "Employee = {'Emp1':{'name':'Sara','Dept':'It','Designation':'Team Lead'},\n",
    "            'Emp2':{'name':'Anna','Dept':'It','Designation':'Senior Software Engineer'},\n",
    "            'Emp3':{'name':'Andy','Dept':'BioTech','Designation':'Senior Software Engineer'},\n",
    "            'Emp4':{'name':'Andy','Dept':'Biotech','Designation':'Senior Software Engineer'}}\n",
    "\n",
    "for i,j in Employee.values():\n",
    "    if(Employee.Emp3[j]==Employee.Emp4[j]):\n",
    "        print(Employee)"
   ]
  }
 ],
 "metadata": {
  "kernelspec": {
   "display_name": "Python 3 (ipykernel)",
   "language": "python",
   "name": "python3"
  },
  "language_info": {
   "codemirror_mode": {
    "name": "ipython",
    "version": 3
   },
   "file_extension": ".py",
   "mimetype": "text/x-python",
   "name": "python",
   "nbconvert_exporter": "python",
   "pygments_lexer": "ipython3",
   "version": "3.9.7"
  }
 },
 "nbformat": 4,
 "nbformat_minor": 5
}

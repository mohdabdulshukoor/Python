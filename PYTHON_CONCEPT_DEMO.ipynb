{
 "cells": [
  {
   "cell_type": "code",
   "execution_count": 13,
   "id": "adc90035",
   "metadata": {},
   "outputs": [
    {
     "ename": "SyntaxError",
     "evalue": "invalid syntax (Temp/ipykernel_3856/3837966930.py, line 9)",
     "output_type": "error",
     "traceback": [
      "\u001b[1;36m  File \u001b[1;32m\"C:\\Users\\ADMIN\\AppData\\Local\\Temp/ipykernel_3856/3837966930.py\"\u001b[1;36m, line \u001b[1;32m9\u001b[0m\n\u001b[1;33m    area of a circle with pi value : 3:14 with radius is : 6\u001b[0m\n\u001b[1;37m         ^\u001b[0m\n\u001b[1;31mSyntaxError\u001b[0m\u001b[1;31m:\u001b[0m invalid syntax\n"
     ]
    }
   ],
   "source": [
    "r=6       #with comma without print option\n",
    "pi=3.14\n",
    "areaofcircle=pi*r**2\n",
    "\n",
    "print(\"area of a circle with pi value :\", pi, end = \" \")\n",
    "print(\"with radius is :\", r)\n",
    "print(\"area calculation : \",areaofcircle )\n",
    "\n",
    "area of a circle with pi value : 3:14 with radius is : 6\n",
    "area calculation : 113.04"
   ]
  },
  {
   "cell_type": "code",
   "execution_count": 16,
   "id": "734967f8",
   "metadata": {},
   "outputs": [
    {
     "name": "stdout",
     "output_type": "stream",
     "text": [
      " OPERATION      SHAPE      VALUE\n",
      "      area     circle      113.0\n"
     ]
    }
   ],
   "source": [
    "r=6           #with modulus symbol\n",
    "pi=3.14\n",
    "areaofcircle=pi*r**2\n",
    "\n",
    "print(\"%10s %10s %10s\" %(\"OPERATION\", \"SHAPE\", \"VALUE\"))\n",
    "print(\"%10s %10s %10.1f\" %(\"area\", \"circle\", areaofcircle))"
   ]
  },
  {
   "cell_type": "code",
   "execution_count": 18,
   "id": "35976470",
   "metadata": {},
   "outputs": [
    {
     "name": "stdout",
     "output_type": "stream",
     "text": [
      "area of a circle with radius 6 : 113.040000\n",
      "area of a circle with radius 6 : 113.04\n",
      "area of a circle with radius 6 : 113\n"
     ]
    }
   ],
   "source": [
    "print(\"area of a circle with radius %d : %f\" %(r, areaofcircle))\n",
    "print(\"area of a circle with radius %d : %.2f\" %(r, areaofcircle))\n",
    "print(\"area of a circle with radius %d : %d\" %(r, areaofcircle))\n",
    "\n"
   ]
  },
  {
   "cell_type": "code",
   "execution_count": 19,
   "id": "bd52b052",
   "metadata": {},
   "outputs": [
    {
     "name": "stdout",
     "output_type": "stream",
     "text": [
      "enter the valueof a radius :6\n",
      "area of a circle with radius 6 : 113.04\n"
     ]
    }
   ],
   "source": [
    "r=int(input(\"enter the valueof a radius :\"))\n",
    "pi=3.14\n",
    "areaofacircle=pi*r**2\n",
    "print(\"area of a circle with radius %d : %.2f\" %(r, areaofcircle))"
   ]
  },
  {
   "cell_type": "code",
   "execution_count": 20,
   "id": "372776bd",
   "metadata": {},
   "outputs": [
    {
     "name": "stdout",
     "output_type": "stream",
     "text": [
      "enter the number5\n",
      "enter another number5\n",
      "sum is 55\n"
     ]
    }
   ],
   "source": [
    "a = input(\"enter the number\")     #with out int is will join the strings!\n",
    "b = input(\"enter another number\") \n",
    "print(\"sum is\", a+b)"
   ]
  },
  {
   "cell_type": "code",
   "execution_count": 36,
   "id": "6a89b205",
   "metadata": {},
   "outputs": [
    {
     "name": "stdout",
     "output_type": "stream",
     "text": [
      "enter the number5\n",
      "enter another number5\n",
      "sum is 10\n"
     ]
    }
   ],
   "source": [
    "a = int(input(\"enter the number\") )    #with out int is will join the strings!\n",
    "b = int(input(\"enter another number\")) #EXPLICIT TYPECASTING \n",
    "#(WE CAN USE FLOAT TO)\n",
    "print(\"sum is\", a+b)"
   ]
  },
  {
   "cell_type": "code",
   "execution_count": 24,
   "id": "ea65d9c1",
   "metadata": {},
   "outputs": [
    {
     "name": "stdout",
     "output_type": "stream",
     "text": [
      "<class 'int'>\n",
      "<class 'float'>\n"
     ]
    }
   ],
   "source": [
    "#IMPLICIT TYPECASTING\n",
    "\n",
    "x=10\n",
    "print(type(x))\n",
    "y=10.1\n",
    "x=x+y\n",
    "print(type(x))"
   ]
  },
  {
   "cell_type": "code",
   "execution_count": 34,
   "id": "3d84b362",
   "metadata": {},
   "outputs": [
    {
     "name": "stdout",
     "output_type": "stream",
     "text": [
      " operation      shape      value\n",
      "      area  rectangle         50\n",
      " parameter  rectangle         30\n"
     ]
    }
   ],
   "source": [
    "w = 5           #DEMO PRACTICE\n",
    "l = 10\n",
    "areaofarectangle = w*l\n",
    "parameterofrectangle = 2*(w+l)\n",
    "print(\"%10s %10s %10s\" %(\"operation\", \"shape\", \"value\"))\n",
    "print(\"%10s %10s %10s\" %(\"area\",   \"rectangle\", areaofarectangle))\n",
    "print(\"%10s %10s %10s\" %(\"parameter\",   \"rectangle\",parameterofrectangle))              \n",
    "                "
   ]
  },
  {
   "cell_type": "code",
   "execution_count": 51,
   "id": "e21477c0",
   "metadata": {},
   "outputs": [
    {
     "name": "stdout",
     "output_type": "stream",
     "text": [
      "it is positive number 5\n"
     ]
    }
   ],
   "source": [
    "num = 5       #if statement\n",
    "if num>0:\n",
    "    print(\"it is positive number\",num)"
   ]
  },
  {
   "cell_type": "code",
   "execution_count": 52,
   "id": "2c9e127c",
   "metadata": {},
   "outputs": [
    {
     "name": "stdout",
     "output_type": "stream",
     "text": [
      "it is positive number\n"
     ]
    }
   ],
   "source": [
    "num = 5       #if, elif and else statement\n",
    "if num>0:\n",
    "    print(\"it is positive number\")\n",
    "elif num==0:\n",
    "        print(\"its is zero\")\n",
    "else:\n",
    "    print(\"it is negative\")"
   ]
  },
  {
   "cell_type": "code",
   "execution_count": 54,
   "id": "7bf03298",
   "metadata": {},
   "outputs": [],
   "source": [
    "num = 0  #if there is else statement, and statement is nt satisfied then no result.\n",
    "if num>0:\n",
    "    print(\"it is positive number\")"
   ]
  },
  {
   "cell_type": "code",
   "execution_count": 56,
   "id": "9aa8e0ac",
   "metadata": {},
   "outputs": [
    {
     "name": "stdout",
     "output_type": "stream",
     "text": [
      "it is zero\n"
     ]
    }
   ],
   "source": [
    "num = 0     \n",
    "if num>0:\n",
    "    print(\"it is positive number\")\n",
    "elif num==0:\n",
    "        print(\"it is zero\")\n",
    "else:\n",
    "    print(\"it is negative\")"
   ]
  },
  {
   "cell_type": "code",
   "execution_count": 57,
   "id": "27546f07",
   "metadata": {},
   "outputs": [
    {
     "ename": "IndentationError",
     "evalue": "expected an indented block (Temp/ipykernel_3856/268007988.py, line 3)",
     "output_type": "error",
     "traceback": [
      "\u001b[1;36m  File \u001b[1;32m\"C:\\Users\\ADMIN\\AppData\\Local\\Temp/ipykernel_3856/268007988.py\"\u001b[1;36m, line \u001b[1;32m3\u001b[0m\n\u001b[1;33m    print(\"it is positive number\")\u001b[0m\n\u001b[1;37m    ^\u001b[0m\n\u001b[1;31mIndentationError\u001b[0m\u001b[1;31m:\u001b[0m expected an indented block\n"
     ]
    }
   ],
   "source": [
    "num = 0     #indentation error as IF , ELIF & ELSE has seperate blocks....\n",
    "if num>0:\n",
    "print(\"it is positive number\")\n",
    "elif num==0:\n",
    "print(\"it is zero\")\n",
    "else:\n",
    "print(\"it is negative\")"
   ]
  },
  {
   "cell_type": "code",
   "execution_count": null,
   "id": "3c56b064",
   "metadata": {},
   "outputs": [],
   "source": [
    "#we can give multiple conditons in ELIf(esleif) statement.\n",
    "#but results in only"
   ]
  },
  {
   "cell_type": "code",
   "execution_count": 58,
   "id": "d251bf11",
   "metadata": {},
   "outputs": [
    {
     "name": "stdout",
     "output_type": "stream",
     "text": [
      "it is negative\n",
      "this is also printed coz its default & outside the loop\n"
     ]
    }
   ],
   "source": [
    "num = -1\n",
    "if num > 0:\n",
    "    print(\"it is positive number\")\n",
    "else:\n",
    "    print(\"it is negative\")\n",
    "#print(\"this is also printed coz its default & outside the loop\")  \n",
    " \n"
   ]
  },
  {
   "cell_type": "code",
   "execution_count": 66,
   "id": "cae5d9cd",
   "metadata": {},
   "outputs": [
    {
     "name": "stdout",
     "output_type": "stream",
     "text": [
      "value of a id 10\n",
      "inside the else block\n",
      "__________________________\n",
      "i'm done with my if elif and else\n"
     ]
    }
   ],
   "source": [
    "a=10\n",
    "b=33\n",
    "c=100\n",
    "if (a==10 and b==3 and c==100):\n",
    "    print(\"value of a is\",a)\n",
    "    print(\"inside the if block\")\n",
    "else:\n",
    "    print(\"value of a id\",a)\n",
    "    print(\"inside the else block\")\n",
    "print(\"__________________________\")\n",
    "print(\"i'm done with my if elif and else\")"
   ]
  },
  {
   "cell_type": "code",
   "execution_count": 75,
   "id": "d2bca599",
   "metadata": {},
   "outputs": [
    {
     "ename": "SyntaxError",
     "evalue": "invalid syntax (Temp/ipykernel_3856/3920870840.py, line 2)",
     "output_type": "error",
     "traceback": [
      "\u001b[1;36m  File \u001b[1;32m\"C:\\Users\\ADMIN\\AppData\\Local\\Temp/ipykernel_3856/3920870840.py\"\u001b[1;36m, line \u001b[1;32m2\u001b[0m\n\u001b[1;33m    if %int == 0:\u001b[0m\n\u001b[1;37m       ^\u001b[0m\n\u001b[1;31mSyntaxError\u001b[0m\u001b[1;31m:\u001b[0m invalid syntax\n"
     ]
    }
   ],
   "source": [
    "a=int(input(\"give a number\"))\n",
    "if %int == 0:\n",
    "    print(\"even\")\n",
    "else %int == 1:\n",
    "    print(\"odd\")"
   ]
  },
  {
   "cell_type": "code",
   "execution_count": null,
   "id": "a5f6a0ba",
   "metadata": {},
   "outputs": [],
   "source": [
    "A = excellent\n",
    "b = very good\n",
    "c = good\n",
    "if "
   ]
  },
  {
   "cell_type": "code",
   "execution_count": null,
   "id": "a90bda11",
   "metadata": {},
   "outputs": [],
   "source": []
  },
  {
   "cell_type": "code",
   "execution_count": null,
   "id": "1e5274a5",
   "metadata": {},
   "outputs": [],
   "source": []
  },
  {
   "cell_type": "code",
   "execution_count": null,
   "id": "c0381d51",
   "metadata": {},
   "outputs": [],
   "source": []
  },
  {
   "cell_type": "code",
   "execution_count": null,
   "id": "c88b236c",
   "metadata": {},
   "outputs": [],
   "source": []
  },
  {
   "cell_type": "code",
   "execution_count": null,
   "id": "a6089a51",
   "metadata": {},
   "outputs": [],
   "source": []
  }
 ],
 "metadata": {
  "kernelspec": {
   "display_name": "Python 3 (ipykernel)",
   "language": "python",
   "name": "python3"
  },
  "language_info": {
   "codemirror_mode": {
    "name": "ipython",
    "version": 3
   },
   "file_extension": ".py",
   "mimetype": "text/x-python",
   "name": "python",
   "nbconvert_exporter": "python",
   "pygments_lexer": "ipython3",
   "version": "3.10.2"
  }
 },
 "nbformat": 4,
 "nbformat_minor": 5
}

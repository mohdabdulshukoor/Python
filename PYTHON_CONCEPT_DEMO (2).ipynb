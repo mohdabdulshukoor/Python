{
 "cells": [
  {
   "cell_type": "markdown",
   "id": "d929cd90",
   "metadata": {},
   "source": [
    "# WHILE LOOP"
   ]
  },
  {
   "cell_type": "code",
   "execution_count": null,
   "id": "298af067",
   "metadata": {
    "scrolled": false
   },
   "outputs": [],
   "source": [
    "n = 10\n",
    "i = 1       #Control variable which controls the loop execution!\n",
    "while i<=n: #While block which has an entry condition!\n",
    "    print(i)\n",
    "    i = i + 1"
   ]
  },
  {
   "cell_type": "code",
   "execution_count": null,
   "id": "d41695e1",
   "metadata": {},
   "outputs": [],
   "source": [
    "n = 10\n",
    "i = 1       \n",
    "while i<=n:\n",
    "    i = i + 1  #concentrate on the \"i = i + 1\"\n",
    "    print(i)\n",
    "    "
   ]
  },
  {
   "cell_type": "code",
   "execution_count": null,
   "id": "65713d60",
   "metadata": {},
   "outputs": [],
   "source": [
    "n = \"hello world\"\n",
    "i = 1\n",
    "while i <=10:\n",
    "    i = i + 1\n",
    "    print(n)       \n",
    "\n",
    "    "
   ]
  },
  {
   "cell_type": "code",
   "execution_count": null,
   "id": "6f687dd0",
   "metadata": {
    "scrolled": true
   },
   "outputs": [],
   "source": [
    "count = 0\n",
    "start = 1\n",
    "\n",
    "while (count <= 25):    #counting first 25 odd numbers! \n",
    "    if (start%2!=0):\n",
    "        count=count + 1\n",
    "        print(start)\n",
    "        #count=count + 1   this also can be done it can be above the print statement or below!\n",
    "    start = start + 1"
   ]
  },
  {
   "cell_type": "code",
   "execution_count": 9,
   "id": "dbe2f7d1",
   "metadata": {},
   "outputs": [
    {
     "name": "stdout",
     "output_type": "stream",
     "text": [
      "6\n"
     ]
    }
   ],
   "source": [
    "count = 0     #use 'count' for counting the quantity of the output or values!\n",
    "start = 555\n",
    "end = 567\n",
    "\n",
    "while(start <= end): #printing even numbers in a range!\n",
    "    if(start%2==0):\n",
    "        #print(start)\n",
    "        count= count + 1\n",
    "        \n",
    "    start = start + 1\n",
    "print(count)         #counting just!"
   ]
  },
  {
   "cell_type": "code",
   "execution_count": 15,
   "id": "ba4be025",
   "metadata": {},
   "outputs": [
    {
     "name": "stdout",
     "output_type": "stream",
     "text": [
      "the sum of 10 odd numbers is : \n"
     ]
    }
   ],
   "source": [
    "start = 1\n",
    "count = 0\n",
    "mysum = 0  \n",
    "while(count<10):\n",
    "    if(start%2!=0):\n",
    "        count = count + 1\n",
    "        \n",
    "        mysum = mysum + start\n",
    "        \n",
    "    start = start + 1\n",
    "#out of the loop   \n",
    "print(\"the sum of 10 odd numbers is : \")"
   ]
  },
  {
   "cell_type": "code",
   "execution_count": 16,
   "id": "0873f22e",
   "metadata": {},
   "outputs": [
    {
     "name": "stdout",
     "output_type": "stream",
     "text": [
      "1\n",
      "2\n",
      "3\n",
      "4\n",
      "5\n"
     ]
    }
   ],
   "source": [
    "#jump statement\n",
    "n=10\n",
    "i=1\n",
    "while i<=5:\n",
    "    print(i)\n",
    "    if i==5:\n",
    "        break\n",
    "    i = i + 1"
   ]
  },
  {
   "cell_type": "code",
   "execution_count": 18,
   "id": "a1d52d4f",
   "metadata": {},
   "outputs": [
    {
     "name": "stdout",
     "output_type": "stream",
     "text": [
      "john\n",
      "ron\n",
      "cin\n",
      "mindy\n",
      "ram\n",
      "rahul\n"
     ]
    }
   ],
   "source": [
    "#continue statement (forskipping values)\n",
    "#mixed datatype\n",
    "names = (\"john\",\"ron\",4,\"cin\",54,\"mindy\",True,\"ram\",102,\"rahul\")\n",
    "for i in names:\n",
    "    if type(i) is str:\n",
    "        print(i)\n",
    "    else:\n",
    "        continue"
   ]
  },
  {
   "cell_type": "code",
   "execution_count": 3,
   "id": "7b8ce01c",
   "metadata": {},
   "outputs": [
    {
     "name": "stdout",
     "output_type": "stream",
     "text": [
      "john\n",
      "ron\n",
      "cin\n",
      "mindy\n",
      "True\n",
      "ram\n",
      "rahul\n"
     ]
    }
   ],
   "source": [
    "names = (\"john\",\"ron\",4,\"cin\",54,\"mindy\",True,\"ram\",102,\"rahul\")\n",
    "for i in names:\n",
    "    if type(i) is int:\n",
    "        continue\n",
    "    print(i)  #skipping all integers in the list!\n",
    "    #else:\n",
    "        #continue"
   ]
  },
  {
   "cell_type": "code",
   "execution_count": 1,
   "id": "5da108a2",
   "metadata": {},
   "outputs": [
    {
     "name": "stdout",
     "output_type": "stream",
     "text": [
      "variable value : 9\n",
      "variable value : 8\n",
      "variable value : 7\n",
      "variable value : 6\n",
      "variable value : 4\n",
      "variable value : 3\n",
      "variable value : 2\n",
      "variable value : 1\n",
      "variable value : 0\n"
     ]
    }
   ],
   "source": [
    "var = 10\n",
    "while var > 0:        #greater than 0\n",
    "    var = var - 1\n",
    "    if var == 5:      #skips 5\n",
    "        continue\n",
    "        \n",
    "    print(\"variable value :\", var)"
   ]
  },
  {
   "cell_type": "code",
   "execution_count": null,
   "id": "27c1aac8",
   "metadata": {},
   "outputs": [],
   "source": [
    "i = 0\n",
    "while i<"
   ]
  },
  {
   "cell_type": "code",
   "execution_count": 4,
   "id": "875ee018",
   "metadata": {},
   "outputs": [
    {
     "name": "stdout",
     "output_type": "stream",
     "text": [
      "0\n",
      "1\n",
      "2\n",
      "3\n",
      "4\n",
      "5\n",
      "6\n",
      "7\n",
      "8\n",
      "9\n"
     ]
    }
   ],
   "source": [
    "for i in range(10):\n",
    "    print(i)\n",
    "    continue         #example using continue connection with print(.)\n",
    "    print((i*10))\n"
   ]
  },
  {
   "cell_type": "code",
   "execution_count": 6,
   "id": "f36e2715",
   "metadata": {},
   "outputs": [
    {
     "name": "stdout",
     "output_type": "stream",
     "text": [
      "0\n",
      "0\n",
      "1\n",
      "10\n",
      "2\n",
      "20\n",
      "3\n",
      "30\n",
      "4\n",
      "40\n",
      "5\n",
      "50\n",
      "6\n",
      "60\n",
      "7\n",
      "70\n",
      "8\n",
      "80\n",
      "9\n",
      "90\n"
     ]
    }
   ],
   "source": [
    "for i in range(10):\n",
    "    print(i)\n",
    "    #continue   #example using continue connection with print(.)\n",
    "    print((i*10))"
   ]
  },
  {
   "cell_type": "code",
   "execution_count": 7,
   "id": "0935152b",
   "metadata": {},
   "outputs": [],
   "source": [
    "#Pass statement\n",
    "n=10\n",
    "i=0\n",
    "\n",
    "while i > n:\n",
    "    pass      #filler\n",
    "    #print(i)\n",
    "    #i=i+1"
   ]
  },
  {
   "cell_type": "markdown",
   "id": "437570b4",
   "metadata": {},
   "source": [
    "# TUPLES"
   ]
  },
  {
   "cell_type": "code",
   "execution_count": 13,
   "id": "277682c5",
   "metadata": {},
   "outputs": [
    {
     "name": "stdout",
     "output_type": "stream",
     "text": [
      "welcome\n",
      "(21.223, 'hello world', 70)\n",
      "21.223\n",
      "70\n"
     ]
    }
   ],
   "source": [
    "mytup = ('welcome',21.223,'hello world',70)\n",
    "print(mytup[0])\n",
    "print(mytup[1:4]) #1 t0 4th value\n",
    "print(mytup[-3])\n",
    "print(mytup[3])"
   ]
  },
  {
   "cell_type": "code",
   "execution_count": 15,
   "id": "145558fb",
   "metadata": {},
   "outputs": [
    {
     "data": {
      "text/plain": [
       "('welcome', 21.223, 'hello world', 70, 1, 2, 3, 4)"
      ]
     },
     "execution_count": 15,
     "metadata": {},
     "output_type": "execute_result"
    }
   ],
   "source": [
    "mytup1 = (1,2,3,4)\n",
    "mytup3 = mytup + mytup1\n",
    "mytup3"
   ]
  },
  {
   "cell_type": "markdown",
   "id": "185ae813",
   "metadata": {},
   "source": [
    "# SETS"
   ]
  },
  {
   "cell_type": "code",
   "execution_count": 2,
   "id": "e4c8ef47",
   "metadata": {},
   "outputs": [
    {
     "data": {
      "text/plain": [
       "{111, 222, 333, 444, 555, 666}"
      ]
     },
     "execution_count": 2,
     "metadata": {},
     "output_type": "execute_result"
    }
   ],
   "source": [
    "employee_ids = {111,222,333,444,555}\n",
    "type(employee_ids)\n",
    "employee_ids.add(666)\n",
    "employee_ids"
   ]
  },
  {
   "cell_type": "code",
   "execution_count": 3,
   "id": "4fd1c140",
   "metadata": {},
   "outputs": [
    {
     "name": "stdout",
     "output_type": "stream",
     "text": [
      "{666, 555, 333, 222, 111}\n"
     ]
    }
   ],
   "source": [
    "s = 333 #manually removing coz 'no indexing' in sets\n",
    "employee_ids.remove(444)\n",
    "print(employee_ids)"
   ]
  },
  {
   "cell_type": "markdown",
   "id": "6afdba8b",
   "metadata": {},
   "source": [
    "# DICTIONARY"
   ]
  },
  {
   "cell_type": "code",
   "execution_count": 7,
   "id": "b2a0b090",
   "metadata": {},
   "outputs": [
    {
     "name": "stdout",
     "output_type": "stream",
     "text": [
      "('james', 'bond')\n",
      "7\n",
      "007\n"
     ]
    }
   ],
   "source": [
    "di = {'jj':'jackson','dd':50,'ee':44,'007':[\"james\",\"bond\"],7:(\"james\",\"bond\")}\n",
    "print(di[7])\n",
    "print(7)\n",
    "print('007')"
   ]
  },
  {
   "cell_type": "code",
   "execution_count": 8,
   "id": "caa8c14f",
   "metadata": {},
   "outputs": [
    {
     "data": {
      "text/plain": [
       "dict_keys(['jj', 'dd', 'ee', '007', 7])"
      ]
     },
     "execution_count": 8,
     "metadata": {},
     "output_type": "execute_result"
    }
   ],
   "source": [
    "di.keys()   #all keys of the dictionary"
   ]
  },
  {
   "cell_type": "code",
   "execution_count": 9,
   "id": "d3161d46",
   "metadata": {},
   "outputs": [
    {
     "data": {
      "text/plain": [
       "dict_values(['jackson', 50, 44, ['james', 'bond'], ('james', 'bond')])"
      ]
     },
     "execution_count": 9,
     "metadata": {},
     "output_type": "execute_result"
    }
   ],
   "source": [
    "di.values() #all values of the dictionary"
   ]
  },
  {
   "cell_type": "code",
   "execution_count": 10,
   "id": "62fbf6b2",
   "metadata": {},
   "outputs": [
    {
     "data": {
      "text/plain": [
       "dict_items([('jj', 'jackson'), ('dd', 50), ('ee', 44), ('007', ['james', 'bond']), (7, ('james', 'bond'))])"
      ]
     },
     "execution_count": 10,
     "metadata": {},
     "output_type": "execute_result"
    }
   ],
   "source": [
    "di.items()  #all items of the dictionary"
   ]
  },
  {
   "cell_type": "code",
   "execution_count": 11,
   "id": "33fbe7bc",
   "metadata": {},
   "outputs": [
    {
     "name": "stdout",
     "output_type": "stream",
     "text": [
      "{'jj': 'jackson', 'dd': 50, 'ee': 44, '007': ['james', 'bond'], 7: ('bond', 'james')}\n"
     ]
    }
   ],
   "source": [
    "di = {'jj':'jackson','dd':50,'ee':44,'007':[\"james\",\"bond\"],7:(\"james\",\"bond\")}\n",
    "di[7]=(\"bond\",\"james\")   #replace the value(changing)\n",
    "print(di)"
   ]
  },
  {
   "cell_type": "code",
   "execution_count": 12,
   "id": "11bc4eb3",
   "metadata": {},
   "outputs": [
    {
     "name": "stdout",
     "output_type": "stream",
     "text": [
      "{'jj': 'jackson', 'dd': 50, 'ee': 44, '007': ['james', 'bond'], 17: ('bond', 'james')}\n"
     ]
    }
   ],
   "source": [
    "#REPLACING AND DELETING KEY WORDS IN A DICTIONARY!\n",
    "\n",
    "di[17]=di[7] # replacing new key word to previous one!\n",
    "del di[7]    # deleting the previous key word!\n",
    "print(di)    "
   ]
  },
  {
   "cell_type": "code",
   "execution_count": 5,
   "id": "8e91c7e0",
   "metadata": {},
   "outputs": [
    {
     "name": "stdout",
     "output_type": "stream",
     "text": [
      "{'jj': 'jackson', 'dd': 50, 'ee': 44, '007': ['james', 'bond'], 17: ('bond', 'james'), 'me': 'Jerry'}\n"
     ]
    }
   ],
   "source": [
    "di['me']='Jerry'\n",
    "print(di)"
   ]
  },
  {
   "cell_type": "markdown",
   "id": "d9aa7964",
   "metadata": {},
   "source": [
    "# ITERATORS"
   ]
  },
  {
   "cell_type": "code",
   "execution_count": 30,
   "id": "872a96d9",
   "metadata": {},
   "outputs": [
    {
     "data": {
      "text/plain": [
       "list_iterator"
      ]
     },
     "execution_count": 30,
     "metadata": {},
     "output_type": "execute_result"
    }
   ],
   "source": [
    "a = [1,2,3,4,5]\n",
    "it = iter(a)     #iterates the a contents one by one with connection of next in the print() statement.\n",
    "it1 = iter(a)\n",
    "type(it)         #just mentioning the type"
   ]
  },
  {
   "cell_type": "code",
   "execution_count": 33,
   "id": "8d38db25",
   "metadata": {},
   "outputs": [
    {
     "name": "stdout",
     "output_type": "stream",
     "text": [
      "3\n",
      "3\n"
     ]
    }
   ],
   "source": [
    "#this ''next()'' is required to execute along with the iteration function!\n",
    "\n",
    "print(next(it))\n",
    "print(next(it1))"
   ]
  },
  {
   "cell_type": "code",
   "execution_count": 35,
   "id": "47dde43d",
   "metadata": {},
   "outputs": [
    {
     "name": "stdout",
     "output_type": "stream",
     "text": [
      "1\n",
      "2\n",
      "3\n",
      "4\n"
     ]
    }
   ],
   "source": [
    "#also\n",
    "\n",
    "a = [1,2,3,4,5]\n",
    "it = iter(a)\n",
    "\n",
    "print(next(it))\n",
    "print(next(it))\n",
    "print(next(it))\n",
    "print(next(it))"
   ]
  },
  {
   "cell_type": "code",
   "execution_count": 36,
   "id": "151a0ec0",
   "metadata": {},
   "outputs": [
    {
     "name": "stdout",
     "output_type": "stream",
     "text": [
      "1\n",
      "2\n",
      "3\n",
      "4\n",
      "5\n"
     ]
    }
   ],
   "source": [
    "#the [35] line with for loop:\n",
    "\n",
    "a = [1,2,3,4,5]\n",
    "for i in a:\n",
    "    print(i)"
   ]
  },
  {
   "cell_type": "code",
   "execution_count": null,
   "id": "c97206d2",
   "metadata": {},
   "outputs": [],
   "source": []
  },
  {
   "cell_type": "code",
   "execution_count": null,
   "id": "9a06b2a8",
   "metadata": {},
   "outputs": [],
   "source": []
  },
  {
   "cell_type": "code",
   "execution_count": null,
   "id": "dfa1d94d",
   "metadata": {},
   "outputs": [],
   "source": []
  },
  {
   "cell_type": "code",
   "execution_count": null,
   "id": "9fa6ecc0",
   "metadata": {},
   "outputs": [],
   "source": []
  },
  {
   "cell_type": "code",
   "execution_count": null,
   "id": "4a2dd23a",
   "metadata": {},
   "outputs": [],
   "source": []
  },
  {
   "cell_type": "code",
   "execution_count": null,
   "id": "c7245fe0",
   "metadata": {},
   "outputs": [],
   "source": []
  },
  {
   "cell_type": "code",
   "execution_count": null,
   "id": "dd1f4217",
   "metadata": {},
   "outputs": [],
   "source": []
  }
 ],
 "metadata": {
  "kernelspec": {
   "display_name": "Python 3 (ipykernel)",
   "language": "python",
   "name": "python3"
  },
  "language_info": {
   "codemirror_mode": {
    "name": "ipython",
    "version": 3
   },
   "file_extension": ".py",
   "mimetype": "text/x-python",
   "name": "python",
   "nbconvert_exporter": "python",
   "pygments_lexer": "ipython3",
   "version": "3.10.2"
  }
 },
 "nbformat": 4,
 "nbformat_minor": 5
}

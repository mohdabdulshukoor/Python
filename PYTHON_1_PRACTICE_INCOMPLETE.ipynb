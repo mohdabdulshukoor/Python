{
 "cells": [
  {
   "cell_type": "markdown",
   "id": "89caa8bb",
   "metadata": {},
   "source": [
    "# TASK 1"
   ]
  },
  {
   "cell_type": "code",
   "execution_count": 18,
   "id": "8765174c",
   "metadata": {},
   "outputs": [],
   "source": [
    "rollno = 5  "
   ]
  },
  {
   "cell_type": "code",
   "execution_count": 19,
   "id": "b0ffb910",
   "metadata": {},
   "outputs": [
    {
     "name": "stdout",
     "output_type": "stream",
     "text": [
      "5\n",
      "2543750965680\n"
     ]
    },
    {
     "data": {
      "text/plain": [
       "int"
      ]
     },
     "execution_count": 19,
     "metadata": {},
     "output_type": "execute_result"
    }
   ],
   "source": [
    "print(rollno)\n",
    "print((id(rollno)))\n",
    "type(rollno)"
   ]
  },
  {
   "cell_type": "code",
   "execution_count": 21,
   "id": "cf18a744",
   "metadata": {},
   "outputs": [],
   "source": [
    "firstname = 'charles'"
   ]
  },
  {
   "cell_type": "code",
   "execution_count": 22,
   "id": "d2613926",
   "metadata": {
    "scrolled": true
   },
   "outputs": [
    {
     "name": "stdout",
     "output_type": "stream",
     "text": [
      "charles\n",
      "2543831795248\n"
     ]
    },
    {
     "data": {
      "text/plain": [
       "str"
      ]
     },
     "execution_count": 22,
     "metadata": {},
     "output_type": "execute_result"
    }
   ],
   "source": [
    "print(firstname)\n",
    "print((id(firstname)))\n",
    "type(firstname)"
   ]
  },
  {
   "cell_type": "code",
   "execution_count": 23,
   "id": "88caf6cd",
   "metadata": {},
   "outputs": [],
   "source": [
    "lastname = 'john'"
   ]
  },
  {
   "cell_type": "code",
   "execution_count": 24,
   "id": "dfa95bd8",
   "metadata": {},
   "outputs": [
    {
     "name": "stdout",
     "output_type": "stream",
     "text": [
      "john\n",
      "2543831835120\n"
     ]
    },
    {
     "data": {
      "text/plain": [
       "str"
      ]
     },
     "execution_count": 24,
     "metadata": {},
     "output_type": "execute_result"
    }
   ],
   "source": [
    "print(lastname)\n",
    "print((id(lastname)))\n",
    "type(lastname)"
   ]
  },
  {
   "cell_type": "code",
   "execution_count": 25,
   "id": "2e1b3be3",
   "metadata": {},
   "outputs": [],
   "source": [
    "maxmarks = 50"
   ]
  },
  {
   "cell_type": "code",
   "execution_count": 26,
   "id": "d1de8c88",
   "metadata": {},
   "outputs": [
    {
     "name": "stdout",
     "output_type": "stream",
     "text": [
      "50\n",
      "2543750967120\n"
     ]
    },
    {
     "data": {
      "text/plain": [
       "int"
      ]
     },
     "execution_count": 26,
     "metadata": {},
     "output_type": "execute_result"
    }
   ],
   "source": [
    "print(50)\n",
    "print((id(50)))\n",
    "type(50)"
   ]
  },
  {
   "cell_type": "markdown",
   "id": "f6ab4866",
   "metadata": {},
   "source": [
    "# TASK 2"
   ]
  },
  {
   "cell_type": "code",
   "execution_count": 27,
   "id": "3ebbb4e5",
   "metadata": {},
   "outputs": [
    {
     "ename": "SyntaxError",
     "evalue": "invalid syntax (Temp/ipykernel_5116/3162616672.py, line 2)",
     "output_type": "error",
     "traceback": [
      "\u001b[1;36m  File \u001b[1;32m\"C:\\Users\\ADMIN\\AppData\\Local\\Temp/ipykernel_5116/3162616672.py\"\u001b[1;36m, line \u001b[1;32m2\u001b[0m\n\u001b[1;33m    2var = 2\u001b[0m\n\u001b[1;37m     ^\u001b[0m\n\u001b[1;31mSyntaxError\u001b[0m\u001b[1;31m:\u001b[0m invalid syntax\n"
     ]
    }
   ],
   "source": [
    "var1 = 2\n",
    "2var = 2\n",
    "var 1 = 2\n",
    "var$2 = 2"
   ]
  },
  {
   "cell_type": "code",
   "execution_count": 32,
   "id": "74319837",
   "metadata": {},
   "outputs": [
    {
     "data": {
      "text/plain": [
       "'conclusion = variables cannot be started by an integer but it can be added after , \\n  because of the 2nd command the execution gets error.'"
      ]
     },
     "execution_count": 32,
     "metadata": {},
     "output_type": "execute_result"
    }
   ],
   "source": [
    "'''conclusion = variables cannot be started by an integer but it can be added after , \n",
    "  because of the 2nd command the execution gets error.'''"
   ]
  },
  {
   "cell_type": "markdown",
   "id": "977d2588",
   "metadata": {},
   "source": [
    "# TASK 3"
   ]
  },
  {
   "cell_type": "code",
   "execution_count": 37,
   "id": "18102b63",
   "metadata": {},
   "outputs": [
    {
     "ename": "SyntaxError",
     "evalue": "invalid syntax (Temp/ipykernel_5116/393697340.py, line 2)",
     "output_type": "error",
     "traceback": [
      "\u001b[1;36m  File \u001b[1;32m\"C:\\Users\\ADMIN\\AppData\\Local\\Temp/ipykernel_5116/393697340.py\"\u001b[1;36m, line \u001b[1;32m2\u001b[0m\n\u001b[1;33m    class = 14\u001b[0m\n\u001b[1;37m          ^\u001b[0m\n\u001b[1;31mSyntaxError\u001b[0m\u001b[1;31m:\u001b[0m invalid syntax\n"
     ]
    }
   ],
   "source": [
    "Class = 15\n",
    "class = 14\n",
    "DEF = 13\n",
    "def = 12\n",
    "a = true\n",
    "b = false"
   ]
  },
  {
   "cell_type": "code",
   "execution_count": 38,
   "id": "6bd02ae4",
   "metadata": {},
   "outputs": [
    {
     "data": {
      "text/plain": [
       "'given above are the variables defined by their names each and python is case sensitive by the above example of error\\n with consisting of integers for first 4 values  and the last 2 are (remaining) are the boolean data types.'"
      ]
     },
     "execution_count": 38,
     "metadata": {},
     "output_type": "execute_result"
    }
   ],
   "source": [
    "'''given above are the variables defined by their names each and python is case sensitive by the above example of error\n",
    " with consisting of integers for first 4 values  and the last 2 are (remaining) are the boolean data types.'''"
   ]
  },
  {
   "cell_type": "markdown",
   "id": "b9095093",
   "metadata": {},
   "source": [
    "# TASK 4"
   ]
  },
  {
   "cell_type": "code",
   "execution_count": 39,
   "id": "d1e178cb",
   "metadata": {},
   "outputs": [
    {
     "name": "stdout",
     "output_type": "stream",
     "text": [
      "5.9\n",
      "2543831774000\n"
     ]
    },
    {
     "data": {
      "text/plain": [
       "float"
      ]
     },
     "execution_count": 39,
     "metadata": {},
     "output_type": "execute_result"
    }
   ],
   "source": [
    "marks = 5.9\n",
    "print(marks)\n",
    "print((id(marks)))\n",
    "type(marks)"
   ]
  },
  {
   "cell_type": "code",
   "execution_count": 42,
   "id": "eb0fe2a0",
   "metadata": {},
   "outputs": [
    {
     "name": "stdout",
     "output_type": "stream",
     "text": [
      "9.5\n",
      "2543831774576\n"
     ]
    },
    {
     "data": {
      "text/plain": [
       "float"
      ]
     },
     "execution_count": 42,
     "metadata": {},
     "output_type": "execute_result"
    }
   ],
   "source": [
    "marks = 9.5\n",
    "print(marks)\n",
    "print((id(marks)))\n",
    "type(marks)"
   ]
  },
  {
   "cell_type": "code",
   "execution_count": 43,
   "id": "d839d5c0",
   "metadata": {},
   "outputs": [
    {
     "data": {
      "text/plain": [
       "' yes the id location will change in both the scenario or say for marks as their are in different rows and values'"
      ]
     },
     "execution_count": 43,
     "metadata": {},
     "output_type": "execute_result"
    }
   ],
   "source": [
    "''' yes the id location will change in both the scenario or say for marks as their are in different rows and values'''"
   ]
  },
  {
   "cell_type": "markdown",
   "id": "f2222248",
   "metadata": {},
   "source": [
    "# TASK 5"
   ]
  },
  {
   "cell_type": "code",
   "execution_count": 119,
   "id": "922da998",
   "metadata": {},
   "outputs": [],
   "source": [
    "maxmarks = 50\n",
    "percentage1 = 49/50*100\n",
    "percentage2 = 49//50*100"
   ]
  },
  {
   "cell_type": "code",
   "execution_count": 120,
   "id": "576b3ca2",
   "metadata": {},
   "outputs": [
    {
     "name": "stdout",
     "output_type": "stream",
     "text": [
      "98.0\n",
      "0\n"
     ]
    }
   ],
   "source": [
    "print(percentage1)\n",
    "print(percentage2)"
   ]
  },
  {
   "cell_type": "code",
   "execution_count": 121,
   "id": "546e304c",
   "metadata": {},
   "outputs": [
    {
     "name": "stdout",
     "output_type": "stream",
     "text": [
      "john doe\n"
     ]
    }
   ],
   "source": [
    "firstname = 'john'\n",
    "lastname = 'doe'\n",
    "\n",
    "fullname = firstname + \" \" + lastname\n",
    "print(fullname)\n",
    "\n"
   ]
  },
  {
   "cell_type": "code",
   "execution_count": 123,
   "id": "57d16731",
   "metadata": {},
   "outputs": [
    {
     "ename": "SyntaxError",
     "evalue": "expression cannot contain assignment, perhaps you meant \"==\"? (Temp/ipykernel_5116/1486606654.py, line 1)",
     "output_type": "error",
     "traceback": [
      "\u001b[1;36m  File \u001b[1;32m\"C:\\Users\\ADMIN\\AppData\\Local\\Temp/ipykernel_5116/1486606654.py\"\u001b[1;36m, line \u001b[1;32m1\u001b[0m\n\u001b[1;33m    print(fullname  +   'percentage' = 'perecentage1')\u001b[0m\n\u001b[1;37m          ^\u001b[0m\n\u001b[1;31mSyntaxError\u001b[0m\u001b[1;31m:\u001b[0m expression cannot contain assignment, perhaps you meant \"==\"?\n"
     ]
    }
   ],
   "source": [
    "print(fullname  +   percentage = perecentage1)"
   ]
  },
  {
   "cell_type": "markdown",
   "id": "0a5f422a",
   "metadata": {},
   "source": [
    "# TASK 6"
   ]
  },
  {
   "cell_type": "code",
   "execution_count": 129,
   "id": "56b93961",
   "metadata": {},
   "outputs": [],
   "source": [
    "dictionary = {\"india\":\"delhi\",  \n",
    "             \"telangana\":\"hyderabad\"}     #dictionary"
   ]
  },
  {
   "cell_type": "code",
   "execution_count": 130,
   "id": "12c2781a",
   "metadata": {},
   "outputs": [
    {
     "name": "stdout",
     "output_type": "stream",
     "text": [
      "{'india': 'delhi', 'telangana': 'hyderabad'}\n"
     ]
    }
   ],
   "source": [
    "print(dictionary)"
   ]
  },
  {
   "cell_type": "code",
   "execution_count": 131,
   "id": "45acf2fd",
   "metadata": {},
   "outputs": [],
   "source": [
    "fruits = ['apple', 'banana', 'mango']"
   ]
  },
  {
   "cell_type": "code",
   "execution_count": 132,
   "id": "2b99d13b",
   "metadata": {},
   "outputs": [
    {
     "name": "stdout",
     "output_type": "stream",
     "text": [
      "['apple', 'banana', 'mango']\n"
     ]
    }
   ],
   "source": [
    "print(fruits)   #list"
   ]
  },
  {
   "cell_type": "markdown",
   "id": "e3d02830",
   "metadata": {},
   "source": [
    "# TASK 7"
   ]
  },
  {
   "cell_type": "code",
   "execution_count": 133,
   "id": "3416eb7c",
   "metadata": {},
   "outputs": [
    {
     "ename": "TypeError",
     "evalue": "unsupported operand type(s) for +: 'int' and 'str'",
     "output_type": "error",
     "traceback": [
      "\u001b[1;31m---------------------------------------------------------------------------\u001b[0m",
      "\u001b[1;31mTypeError\u001b[0m                                 Traceback (most recent call last)",
      "\u001b[1;32m~\\AppData\\Local\\Temp/ipykernel_5116/882873384.py\u001b[0m in \u001b[0;36m<module>\u001b[1;34m\u001b[0m\n\u001b[1;32m----> 1\u001b[1;33m \u001b[1;36m1\u001b[0m\u001b[1;33m+\u001b[0m\u001b[1;34m\"2\"\u001b[0m\u001b[1;33m\u001b[0m\u001b[1;33m\u001b[0m\u001b[0m\n\u001b[0m\u001b[0;32m      2\u001b[0m \u001b[1;34m\"1\"\u001b[0m\u001b[1;33m+\u001b[0m\u001b[1;34m\"2\"\u001b[0m\u001b[1;33m\u001b[0m\u001b[1;33m\u001b[0m\u001b[0m\n\u001b[0;32m      3\u001b[0m \u001b[1;36m1\u001b[0m\u001b[1;33m/\u001b[0m\u001b[1;36m2\u001b[0m\u001b[1;33m\u001b[0m\u001b[1;33m\u001b[0m\u001b[0m\n\u001b[0;32m      4\u001b[0m \u001b[1;36m1\u001b[0m\u001b[1;33m//\u001b[0m\u001b[1;36m2\u001b[0m\u001b[1;33m\u001b[0m\u001b[1;33m\u001b[0m\u001b[0m\n",
      "\u001b[1;31mTypeError\u001b[0m: unsupported operand type(s) for +: 'int' and 'str'"
     ]
    }
   ],
   "source": [
    "1+\"2\"\n",
    "\"1\"+\"2\"\n",
    "1/2\n",
    "1//2"
   ]
  },
  {
   "cell_type": "code",
   "execution_count": 135,
   "id": "f50dbf7c",
   "metadata": {},
   "outputs": [
    {
     "data": {
      "text/plain": [
       "'theirs an error because the integers and the string datatype cannot be added or combined and the rest\\n    2nd one is additon as both are integers and added instead of strings . the 3rd and 4th are divisions can be \\n    executed sucessfully.'"
      ]
     },
     "execution_count": 135,
     "metadata": {},
     "output_type": "execute_result"
    }
   ],
   "source": [
    "'''theirs an error because the integers and the string datatype cannot be added or combined and the rest\n",
    "    2nd one is additon as both are integers and added instead of strings . the 3rd and 4th are divisions can be \n",
    "    executed sucessfully.'''"
   ]
  },
  {
   "cell_type": "markdown",
   "id": "465a04bd",
   "metadata": {},
   "source": [
    "# TASK 8"
   ]
  },
  {
   "cell_type": "code",
   "execution_count": 141,
   "id": "7ca129cc",
   "metadata": {},
   "outputs": [
    {
     "data": {
      "text/plain": [
       "True"
      ]
     },
     "execution_count": 141,
     "metadata": {},
     "output_type": "execute_result"
    }
   ],
   "source": [
    "True and True #"
   ]
  },
  {
   "cell_type": "code",
   "execution_count": null,
   "id": "25eea55c",
   "metadata": {},
   "outputs": [],
   "source": [
    "True and False\n",
    "False or True\n",
    "False or False"
   ]
  },
  {
   "cell_type": "code",
   "execution_count": null,
   "id": "d46bec04",
   "metadata": {},
   "outputs": [],
   "source": []
  }
 ],
 "metadata": {
  "kernelspec": {
   "display_name": "Python 3 (ipykernel)",
   "language": "python",
   "name": "python3"
  },
  "language_info": {
   "codemirror_mode": {
    "name": "ipython",
    "version": 3
   },
   "file_extension": ".py",
   "mimetype": "text/x-python",
   "name": "python",
   "nbconvert_exporter": "python",
   "pygments_lexer": "ipython3",
   "version": "3.9.7"
  }
 },
 "nbformat": 4,
 "nbformat_minor": 5
}

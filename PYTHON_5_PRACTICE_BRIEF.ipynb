{
 "cells": [
  {
   "cell_type": "markdown",
   "id": "c849aae0",
   "metadata": {},
   "source": [
    "# TASK 1"
   ]
  },
  {
   "cell_type": "code",
   "execution_count": 7,
   "id": "7ea9c1a8",
   "metadata": {},
   "outputs": [
    {
     "data": {
      "text/plain": [
       "True"
      ]
     },
     "execution_count": 7,
     "metadata": {},
     "output_type": "execute_result"
    }
   ],
   "source": [
    "def palindrome(x):\n",
    "    return x == x[::-1]\n",
    "\n",
    "palindrome('TENET')"
   ]
  },
  {
   "cell_type": "markdown",
   "id": "fbac2bbe",
   "metadata": {},
   "source": [
    "# TASK 2"
   ]
  },
  {
   "cell_type": "code",
   "execution_count": 17,
   "id": "dc981c4e",
   "metadata": {},
   "outputs": [
    {
     "name": "stdout",
     "output_type": "stream",
     "text": [
      "['IS', 'JERRY', 'MY', 'NAME']\n"
     ]
    }
   ],
   "source": [
    "def name(string):\n",
    "    c=string.split()\n",
    "    y=sorted(c)\n",
    "    print(y)\n",
    "    \n",
    "name(' MY NAME IS JERRY ')"
   ]
  },
  {
   "cell_type": "markdown",
   "id": "b1e33db3",
   "metadata": {},
   "source": [
    "# TASK 3"
   ]
  },
  {
   "cell_type": "code",
   "execution_count": 18,
   "id": "e1f10a11",
   "metadata": {},
   "outputs": [
    {
     "name": "stdout",
     "output_type": "stream",
     "text": [
      "['A', 'B', 'C', 'D', 'E', 'F', 'G', 'H']\n"
     ]
    }
   ],
   "source": [
    "X = 'A B C D E F G H'.split()\n",
    "print(X)"
   ]
  },
  {
   "cell_type": "markdown",
   "id": "02314f5d",
   "metadata": {},
   "source": [
    "# TASK 4"
   ]
  },
  {
   "cell_type": "code",
   "execution_count": 19,
   "id": "817a7f61",
   "metadata": {},
   "outputs": [
    {
     "name": "stdout",
     "output_type": "stream",
     "text": [
      "[14, 32, 52, 65]\n"
     ]
    }
   ],
   "source": [
    "Z = [32,52,14,65]\n",
    "\n",
    "def list1(Z):\n",
    "    j=sorted(Z)\n",
    "    print(j)\n",
    "    \n",
    "list1(Z)"
   ]
  },
  {
   "cell_type": "markdown",
   "id": "5a10cfec",
   "metadata": {},
   "source": [
    "# TASK 5"
   ]
  },
  {
   "cell_type": "code",
   "execution_count": 20,
   "id": "deb15585",
   "metadata": {},
   "outputs": [
    {
     "name": "stdout",
     "output_type": "stream",
     "text": [
      "{'item1': 45.5, 'item2': 35, 'item3': 41.3, 'item4': 29, 'item5': 48.89}\n",
      "item5\n",
      "item1\n"
     ]
    }
   ],
   "source": [
    "A1={'item1':45.50,'item2':35,'item3':41.30,'item4':29,'item5':48.89}\n",
    "\n",
    "a1=sorted(A1.values())\n",
    "\n",
    "print(A1)\n",
    "print(max(A1))\n",
    "print(min(A1))"
   ]
  },
  {
   "cell_type": "markdown",
   "id": "7f5e2b96",
   "metadata": {},
   "source": [
    "# TASK 6"
   ]
  },
  {
   "cell_type": "code",
   "execution_count": 27,
   "id": "8e62e1d6",
   "metadata": {},
   "outputs": [
    {
     "name": "stdout",
     "output_type": "stream",
     "text": [
      "enter your name: Jerry\n",
      "enter your age:9\n",
      "enter your gender: M\n",
      "profile card\n",
      "name: Jerry\n",
      "age: 9\n",
      "gender: M\n"
     ]
    }
   ],
   "source": [
    "name=''\n",
    "age=0\n",
    "gender=\"\"\n",
    "\n",
    "def func():\n",
    "    \n",
    "    global name,age,gender\n",
    "    name=input(\"enter your name: \")\n",
    "    age=int(input(\"enter your age:\"))\n",
    "    gender=input(\"enter your gender: \")\n",
    "    return name, age, gender\n",
    "\n",
    "def sas():\n",
    "    \n",
    "    print('profile card')\n",
    "    print('name:',name)\n",
    "    print('age:',age)\n",
    "    print('gender:',gender)\n",
    "    \n",
    "func()\n",
    "sas()"
   ]
  },
  {
   "cell_type": "markdown",
   "id": "0a544436",
   "metadata": {},
   "source": [
    "# TASK 7"
   ]
  },
  {
   "cell_type": "code",
   "execution_count": 28,
   "id": "21b81085",
   "metadata": {},
   "outputs": [
    {
     "name": "stdout",
     "output_type": "stream",
     "text": [
      "2\n"
     ]
    }
   ],
   "source": [
    "from functools import reduce \n",
    "\n",
    "product = reduce((lambda x,y : x**2*y),[1,2,])\n",
    "\n",
    "print(product)"
   ]
  },
  {
   "cell_type": "markdown",
   "id": "4cb06817",
   "metadata": {},
   "source": [
    "# TASK 8"
   ]
  },
  {
   "cell_type": "code",
   "execution_count": 31,
   "id": "b2ef67b7",
   "metadata": {},
   "outputs": [
    {
     "name": "stdout",
     "output_type": "stream",
     "text": [
      "Orignal Tuple : [('black', 4), ('green', 1), ('red', 5), ('blue', 2), ('yellow', 3)]\n",
      "Sorted : [('green', 1), ('blue', 2), ('yellow', 3), ('black', 4), ('red', 5)]\n"
     ]
    }
   ],
   "source": [
    "t = [('black', 4), ('green', 1), ('red', 5), ('blue', 2), ('yellow' , 3)]\n",
    "print(\"Orignal Tuple :\" ,t)\n",
    "\n",
    "def Sort(t):\n",
    "    t.sort(key = lambda a: a[1])\n",
    "    return t\n",
    "\n",
    "print(\"Sorted :\" ,Sort(t))"
   ]
  },
  {
   "cell_type": "markdown",
   "id": "e6d20e1c",
   "metadata": {},
   "source": [
    "# TASK 9"
   ]
  },
  {
   "cell_type": "code",
   "execution_count": 32,
   "id": "e2f06d3b",
   "metadata": {},
   "outputs": [
    {
     "name": "stdout",
     "output_type": "stream",
     "text": [
      "['mandy']\n"
     ]
    }
   ],
   "source": [
    "def intersection (list1,list2):\n",
    "    list3=[value for value in list1 if value in list2]\n",
    "    return list3       \n",
    "\n",
    "l1=[\"sandy\",\"mandy\",\"andy\"]\n",
    "l2=[\"handy\",\"brandy\",\"mandy\"]\n",
    "\n",
    "print(intersection(l1,l2))"
   ]
  },
  {
   "cell_type": "markdown",
   "id": "f27cd22d",
   "metadata": {},
   "source": [
    "# TASK 10"
   ]
  },
  {
   "cell_type": "code",
   "execution_count": null,
   "id": "14f37c7a",
   "metadata": {},
   "outputs": [],
   "source": [
    "c=[12,13,14]\n",
    "d=[17,16,15]\n",
    "new=list(map(lambda a,b:a+b,c,d))\n",
    "print(new)\n",
    "\n",
    "a=[12,13,14]\n",
    "b=[17,16,15]\n",
    "got=list(map(lambda a,b:a+b,a,b))\n",
    "print(got)"
   ]
  }
 ],
 "metadata": {
  "kernelspec": {
   "display_name": "Python 3 (ipykernel)",
   "language": "python",
   "name": "python3"
  },
  "language_info": {
   "codemirror_mode": {
    "name": "ipython",
    "version": 3
   },
   "file_extension": ".py",
   "mimetype": "text/x-python",
   "name": "python",
   "nbconvert_exporter": "python",
   "pygments_lexer": "ipython3",
   "version": "3.10.2"
  }
 },
 "nbformat": 4,
 "nbformat_minor": 5
}

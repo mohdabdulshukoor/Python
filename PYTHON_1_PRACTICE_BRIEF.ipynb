{
 "cells": [
  {
   "cell_type": "markdown",
   "id": "b9376efb",
   "metadata": {},
   "source": [
    "# TASK 1"
   ]
  },
  {
   "cell_type": "code",
   "execution_count": 24,
   "id": "73a8f767",
   "metadata": {},
   "outputs": [
    {
     "name": "stdout",
     "output_type": "stream",
     "text": [
      "5 2711081347504 <class 'int'>\n"
     ]
    }
   ],
   "source": [
    "#a\n",
    "\n",
    "rollno = 5\n",
    "print(rollno,id(rollno),type(rollno))"
   ]
  },
  {
   "cell_type": "code",
   "execution_count": 25,
   "id": "31d84aa7",
   "metadata": {},
   "outputs": [
    {
     "name": "stdout",
     "output_type": "stream",
     "text": [
      "charles 2711162245040 <class 'str'>\n"
     ]
    }
   ],
   "source": [
    "#b\n",
    "\n",
    "firstname = \"charles\"\n",
    "print(firstname, id(firstname), type(firstname))\n"
   ]
  },
  {
   "cell_type": "code",
   "execution_count": 26,
   "id": "a049851a",
   "metadata": {},
   "outputs": [
    {
     "name": "stdout",
     "output_type": "stream",
     "text": [
      "jerry 2711162280048 <class 'str'>\n"
     ]
    }
   ],
   "source": [
    "#c\n",
    "\n",
    "lastname = \"jerry\"\n",
    "print(lastname, id(lastname), type(lastname))"
   ]
  },
  {
   "cell_type": "code",
   "execution_count": 27,
   "id": "9a08319b",
   "metadata": {},
   "outputs": [
    {
     "name": "stdout",
     "output_type": "stream",
     "text": [
      "50 2711081348944 <class 'str'>\n"
     ]
    }
   ],
   "source": [
    "#d\n",
    "\n",
    "maxmarks = 50\n",
    "print(maxmarks, id(maxmarks), type(lastname))"
   ]
  },
  {
   "cell_type": "markdown",
   "id": "baf786bd",
   "metadata": {},
   "source": [
    "# TASK 2"
   ]
  },
  {
   "cell_type": "code",
   "execution_count": 28,
   "id": "d10f80e7",
   "metadata": {},
   "outputs": [
    {
     "data": {
      "text/plain": [
       "2"
      ]
     },
     "execution_count": 28,
     "metadata": {},
     "output_type": "execute_result"
    }
   ],
   "source": [
    "#a its variable 'var1' which consists of a value in it '2'\n",
    "\n",
    "var1 = 2\n",
    "var1"
   ]
  },
  {
   "cell_type": "code",
   "execution_count": 29,
   "id": "0b5dd4d0",
   "metadata": {},
   "outputs": [
    {
     "ename": "SyntaxError",
     "evalue": "invalid syntax (Temp/ipykernel_9188/3746873989.py, line 3)",
     "output_type": "error",
     "traceback": [
      "\u001b[1;36m  File \u001b[1;32m\"C:\\Users\\ADMIN\\AppData\\Local\\Temp/ipykernel_9188/3746873989.py\"\u001b[1;36m, line \u001b[1;32m3\u001b[0m\n\u001b[1;33m    2var = 2\u001b[0m\n\u001b[1;37m     ^\u001b[0m\n\u001b[1;31mSyntaxError\u001b[0m\u001b[1;31m:\u001b[0m invalid syntax\n"
     ]
    }
   ],
   "source": [
    "#b ERROR because variable name cannot starts with an integer\n",
    "\n",
    "2var = 2\n",
    "2var"
   ]
  },
  {
   "cell_type": "code",
   "execution_count": 30,
   "id": "760b0edc",
   "metadata": {},
   "outputs": [
    {
     "ename": "SyntaxError",
     "evalue": "invalid syntax (Temp/ipykernel_9188/3384481608.py, line 3)",
     "output_type": "error",
     "traceback": [
      "\u001b[1;36m  File \u001b[1;32m\"C:\\Users\\ADMIN\\AppData\\Local\\Temp/ipykernel_9188/3384481608.py\"\u001b[1;36m, line \u001b[1;32m3\u001b[0m\n\u001b[1;33m    var 1 = 2\u001b[0m\n\u001b[1;37m        ^\u001b[0m\n\u001b[1;31mSyntaxError\u001b[0m\u001b[1;31m:\u001b[0m invalid syntax\n"
     ]
    }
   ],
   "source": [
    "#c ERROR as their is an invalid indentation after ' var ' resulting in invalid syntax\n",
    "\n",
    "var 1 = 2\n",
    "var 1"
   ]
  },
  {
   "cell_type": "code",
   "execution_count": 31,
   "id": "8596948b",
   "metadata": {},
   "outputs": [
    {
     "ename": "SyntaxError",
     "evalue": "invalid syntax (Temp/ipykernel_9188/229045455.py, line 3)",
     "output_type": "error",
     "traceback": [
      "\u001b[1;36m  File \u001b[1;32m\"C:\\Users\\ADMIN\\AppData\\Local\\Temp/ipykernel_9188/229045455.py\"\u001b[1;36m, line \u001b[1;32m3\u001b[0m\n\u001b[1;33m    var$2 = 2\u001b[0m\n\u001b[1;37m       ^\u001b[0m\n\u001b[1;31mSyntaxError\u001b[0m\u001b[1;31m:\u001b[0m invalid syntax\n"
     ]
    }
   ],
   "source": [
    "#d ERROR as their is an invalid symbol in a variable name\n",
    "\n",
    "var$2 = 2\n",
    "var$2"
   ]
  },
  {
   "cell_type": "markdown",
   "id": "61d14197",
   "metadata": {},
   "source": [
    "# TASK 3"
   ]
  },
  {
   "cell_type": "code",
   "execution_count": 34,
   "id": "1dd4cdf8",
   "metadata": {},
   "outputs": [
    {
     "data": {
      "text/plain": [
       "15"
      ]
     },
     "execution_count": 34,
     "metadata": {},
     "output_type": "execute_result"
    }
   ],
   "source": [
    "#a\n",
    "\n",
    "Class = 15\n",
    "Class"
   ]
  },
  {
   "cell_type": "code",
   "execution_count": 35,
   "id": "262dac90",
   "metadata": {},
   "outputs": [
    {
     "ename": "SyntaxError",
     "evalue": "invalid syntax (Temp/ipykernel_9188/3254480544.py, line 3)",
     "output_type": "error",
     "traceback": [
      "\u001b[1;36m  File \u001b[1;32m\"C:\\Users\\ADMIN\\AppData\\Local\\Temp/ipykernel_9188/3254480544.py\"\u001b[1;36m, line \u001b[1;32m3\u001b[0m\n\u001b[1;33m    class = 14\u001b[0m\n\u001b[1;37m          ^\u001b[0m\n\u001b[1;31mSyntaxError\u001b[0m\u001b[1;31m:\u001b[0m invalid syntax\n"
     ]
    }
   ],
   "source": [
    "#b ERROR as the variable name is refering to an inbuilt function or keyword in python which is not acceptable\n",
    "\n",
    "class = 14\n",
    "class"
   ]
  },
  {
   "cell_type": "code",
   "execution_count": 37,
   "id": "355861af",
   "metadata": {},
   "outputs": [
    {
     "data": {
      "text/plain": [
       "13"
      ]
     },
     "execution_count": 37,
     "metadata": {},
     "output_type": "execute_result"
    }
   ],
   "source": [
    "#c  variable consisting a value(int) \n",
    "\n",
    "DEF = 13\n",
    "DEF"
   ]
  },
  {
   "cell_type": "code",
   "execution_count": 38,
   "id": "f3b7025d",
   "metadata": {},
   "outputs": [
    {
     "ename": "SyntaxError",
     "evalue": "invalid syntax (Temp/ipykernel_9188/2653306576.py, line 3)",
     "output_type": "error",
     "traceback": [
      "\u001b[1;36m  File \u001b[1;32m\"C:\\Users\\ADMIN\\AppData\\Local\\Temp/ipykernel_9188/2653306576.py\"\u001b[1;36m, line \u001b[1;32m3\u001b[0m\n\u001b[1;33m    def = 12\u001b[0m\n\u001b[1;37m        ^\u001b[0m\n\u001b[1;31mSyntaxError\u001b[0m\u001b[1;31m:\u001b[0m invalid syntax\n"
     ]
    }
   ],
   "source": [
    "#d ERROR as the variable name is refering to an inbuilt function or keyword in python which is not acceptable\n",
    "\n",
    "def = 12\n",
    "def"
   ]
  },
  {
   "cell_type": "code",
   "execution_count": 39,
   "id": "20136974",
   "metadata": {},
   "outputs": [
    {
     "ename": "NameError",
     "evalue": "name 'TRUE' is not defined",
     "output_type": "error",
     "traceback": [
      "\u001b[1;31m---------------------------------------------------------------------------\u001b[0m",
      "\u001b[1;31mNameError\u001b[0m                                 Traceback (most recent call last)",
      "\u001b[1;32m~\\AppData\\Local\\Temp/ipykernel_9188/1231292471.py\u001b[0m in \u001b[0;36m<module>\u001b[1;34m\u001b[0m\n\u001b[0;32m      1\u001b[0m \u001b[1;31m#e\u001b[0m\u001b[1;33m\u001b[0m\u001b[1;33m\u001b[0m\u001b[0m\n\u001b[0;32m      2\u001b[0m \u001b[1;33m\u001b[0m\u001b[0m\n\u001b[1;32m----> 3\u001b[1;33m \u001b[0ma\u001b[0m\u001b[1;33m=\u001b[0m\u001b[0mTRUE\u001b[0m\u001b[1;33m\u001b[0m\u001b[1;33m\u001b[0m\u001b[0m\n\u001b[0m\u001b[0;32m      4\u001b[0m \u001b[0ma\u001b[0m\u001b[1;33m\u001b[0m\u001b[1;33m\u001b[0m\u001b[0m\n",
      "\u001b[1;31mNameError\u001b[0m: name 'TRUE' is not defined"
     ]
    }
   ],
   "source": [
    "#e variable is a container of intergers or strings or floats.....so here the variable value is not defined as str or any!\n",
    "\n",
    "a=TRUE\n",
    "a"
   ]
  },
  {
   "cell_type": "code",
   "execution_count": 40,
   "id": "6a523dc0",
   "metadata": {},
   "outputs": [
    {
     "ename": "NameError",
     "evalue": "name 'false' is not defined",
     "output_type": "error",
     "traceback": [
      "\u001b[1;31m---------------------------------------------------------------------------\u001b[0m",
      "\u001b[1;31mNameError\u001b[0m                                 Traceback (most recent call last)",
      "\u001b[1;32m~\\AppData\\Local\\Temp/ipykernel_9188/1241228464.py\u001b[0m in \u001b[0;36m<module>\u001b[1;34m\u001b[0m\n\u001b[0;32m      1\u001b[0m \u001b[1;31m#f\u001b[0m\u001b[1;33m\u001b[0m\u001b[1;33m\u001b[0m\u001b[0m\n\u001b[0;32m      2\u001b[0m \u001b[1;33m\u001b[0m\u001b[0m\n\u001b[1;32m----> 3\u001b[1;33m \u001b[0mb\u001b[0m\u001b[1;33m=\u001b[0m\u001b[0mfalse\u001b[0m\u001b[1;33m\u001b[0m\u001b[1;33m\u001b[0m\u001b[0m\n\u001b[0m\u001b[0;32m      4\u001b[0m \u001b[0mb\u001b[0m\u001b[1;33m\u001b[0m\u001b[1;33m\u001b[0m\u001b[0m\n",
      "\u001b[1;31mNameError\u001b[0m: name 'false' is not defined"
     ]
    }
   ],
   "source": [
    "#f variable is a container of intergers or strings or floats.....so here the variable value is not defined as str or any!\n",
    "\n",
    "b=false\n",
    "b"
   ]
  },
  {
   "cell_type": "markdown",
   "id": "ef131fce",
   "metadata": {},
   "source": [
    "# TASK 4"
   ]
  },
  {
   "cell_type": "code",
   "execution_count": 41,
   "id": "9c9c50e7",
   "metadata": {},
   "outputs": [
    {
     "name": "stdout",
     "output_type": "stream",
     "text": [
      "5 2711081347504 <class 'int'>\n"
     ]
    }
   ],
   "source": [
    "#a\n",
    "\n",
    "marksi = 5\n",
    "print(marksi, id(marksi), type(marksi))"
   ]
  },
  {
   "cell_type": "code",
   "execution_count": 42,
   "id": "e728844f",
   "metadata": {},
   "outputs": [
    {
     "name": "stdout",
     "output_type": "stream",
     "text": [
      "9 2711081347632 2711081347632\n"
     ]
    }
   ],
   "source": [
    "#b\n",
    "\n",
    "marksii = 9\n",
    "print(marksii, id(marksii), id(marksii))"
   ]
  },
  {
   "cell_type": "code",
   "execution_count": 43,
   "id": "04ac19b5",
   "metadata": {},
   "outputs": [],
   "source": [
    "#c\n",
    "\n",
    "#so here the location of both the 'marks' or say cells are different so the location also varies! "
   ]
  },
  {
   "cell_type": "markdown",
   "id": "821460b7",
   "metadata": {},
   "source": [
    "# TASK 5"
   ]
  },
  {
   "cell_type": "code",
   "execution_count": 45,
   "id": "7ae8fee4",
   "metadata": {},
   "outputs": [
    {
     "name": "stdout",
     "output_type": "stream",
     "text": [
      "the percentage 50.0 %\n"
     ]
    }
   ],
   "source": [
    "#a\n",
    "marks = 50\n",
    "maxmarks = 100\n",
    "percentage = ((marks/maxmarks)*100)\n",
    "print(\"the percentage\",percentage,\"%\")"
   ]
  },
  {
   "cell_type": "code",
   "execution_count": 46,
   "id": "777c2ee1",
   "metadata": {},
   "outputs": [
    {
     "data": {
      "text/plain": [
       "' jerry'"
      ]
     },
     "execution_count": 46,
     "metadata": {},
     "output_type": "execute_result"
    }
   ],
   "source": [
    "#b\n",
    "\n",
    "fullname = fullname = \" \" + lastname\n",
    "fullname"
   ]
  },
  {
   "cell_type": "code",
   "execution_count": 47,
   "id": "5efe1694",
   "metadata": {},
   "outputs": [
    {
     "name": "stdout",
     "output_type": "stream",
     "text": [
      " jerry scored 50.0 %\n"
     ]
    }
   ],
   "source": [
    "#c\n",
    "\n",
    "scored = \"scored\"\n",
    "print(fullname, scored, percentage, \"%\")"
   ]
  },
  {
   "cell_type": "markdown",
   "id": "18f1faeb",
   "metadata": {},
   "source": [
    "# TASK 6"
   ]
  },
  {
   "cell_type": "code",
   "execution_count": 55,
   "id": "c919523f",
   "metadata": {},
   "outputs": [
    {
     "name": "stdout",
     "output_type": "stream",
     "text": [
      "{'INDIA': 'DELHI'}\n",
      "{'rollno': 'fullname'}\n"
     ]
    }
   ],
   "source": [
    "MYDICTIONARY = {\"INDIA\":\"DELHI\"} \n",
    "MYDICTIONARYi = {\"rollno\":\"fullname\"}\n",
    "print(MYDICTIONARY)\n",
    "print(MYDICTIONARYi)"
   ]
  },
  {
   "cell_type": "markdown",
   "id": "c4cfa25b",
   "metadata": {},
   "source": [
    "# TASK 7"
   ]
  },
  {
   "cell_type": "code",
   "execution_count": 56,
   "id": "2c378831",
   "metadata": {},
   "outputs": [
    {
     "ename": "SyntaxError",
     "evalue": "cannot assign to literal (Temp/ipykernel_9188/3635268063.py, line 3)",
     "output_type": "error",
     "traceback": [
      "\u001b[1;36m  File \u001b[1;32m\"C:\\Users\\ADMIN\\AppData\\Local\\Temp/ipykernel_9188/3635268063.py\"\u001b[1;36m, line \u001b[1;32m3\u001b[0m\n\u001b[1;33m    1=\"2\"\u001b[0m\n\u001b[1;37m    ^\u001b[0m\n\u001b[1;31mSyntaxError\u001b[0m\u001b[1;31m:\u001b[0m cannot assign to literal\n"
     ]
    }
   ],
   "source": [
    "#a Concatenation of 'str' and 'int' is not acceptable!\n",
    "\n",
    "\n",
    "1=\"2\""
   ]
  },
  {
   "cell_type": "code",
   "execution_count": 57,
   "id": "891d113b",
   "metadata": {},
   "outputs": [
    {
     "data": {
      "text/plain": [
       "'12'"
      ]
     },
     "execution_count": 57,
     "metadata": {},
     "output_type": "execute_result"
    }
   ],
   "source": [
    "#b Two strings are combined with each other as strings cannot be added if and only if they are typecasted!\n",
    "\n",
    "\"1\"+\"2\""
   ]
  },
  {
   "cell_type": "code",
   "execution_count": 58,
   "id": "32fc09ea",
   "metadata": {},
   "outputs": [
    {
     "data": {
      "text/plain": [
       "0.5"
      ]
     },
     "execution_count": 58,
     "metadata": {},
     "output_type": "execute_result"
    }
   ],
   "source": [
    "#c It gives the exact value with decimal value (float)\n",
    "\n",
    "1/2"
   ]
  },
  {
   "cell_type": "code",
   "execution_count": 59,
   "id": "bb662ee0",
   "metadata": {},
   "outputs": [
    {
     "data": {
      "text/plain": [
       "0"
      ]
     },
     "execution_count": 59,
     "metadata": {},
     "output_type": "execute_result"
    }
   ],
   "source": [
    "#d It gives the output without the decimal points(integer)\n",
    "\n",
    "1//2"
   ]
  },
  {
   "cell_type": "markdown",
   "id": "ed0deed3",
   "metadata": {},
   "source": [
    "# TASK 8"
   ]
  },
  {
   "cell_type": "code",
   "execution_count": 61,
   "id": "a86167bf",
   "metadata": {},
   "outputs": [
    {
     "data": {
      "text/plain": [
       "True"
      ]
     },
     "execution_count": 61,
     "metadata": {},
     "output_type": "execute_result"
    }
   ],
   "source": [
    "#a This output refers to logical conditions which gives the output 'True' if and only if both the ends are true!\n",
    "\n",
    "True and True"
   ]
  },
  {
   "cell_type": "code",
   "execution_count": 62,
   "id": "05ccd2c0",
   "metadata": {},
   "outputs": [
    {
     "data": {
      "text/plain": [
       "False"
      ]
     },
     "execution_count": 62,
     "metadata": {},
     "output_type": "execute_result"
    }
   ],
   "source": [
    "#b This output refers to logical conditions which gives the output 'False' if either of the end is false!\n",
    "\n",
    "\n",
    "True and False"
   ]
  },
  {
   "cell_type": "code",
   "execution_count": 63,
   "id": "8a820f9d",
   "metadata": {},
   "outputs": [
    {
     "data": {
      "text/plain": [
       "False"
      ]
     },
     "execution_count": 63,
     "metadata": {},
     "output_type": "execute_result"
    }
   ],
   "source": [
    "#c This output refers to logical conditions which gives the output 'True' if either of the ends are true!\n",
    "\n",
    "False or true"
   ]
  },
  {
   "cell_type": "code",
   "execution_count": 64,
   "id": "3f71ec15",
   "metadata": {},
   "outputs": [
    {
     "data": {
      "text/plain": [
       "False"
      ]
     },
     "execution_count": 64,
     "metadata": {},
     "output_type": "execute_result"
    }
   ],
   "source": [
    "#d This output refers to logical conditions which gives the output 'False' if both the ends are false!\n",
    "\n",
    "False or False"
   ]
  },
  {
   "cell_type": "markdown",
   "id": "15920734",
   "metadata": {},
   "source": [
    "# TASK 9"
   ]
  },
  {
   "cell_type": "code",
   "execution_count": 65,
   "id": "dda5d3e2",
   "metadata": {},
   "outputs": [
    {
     "data": {
      "text/plain": [
       "False"
      ]
     },
     "execution_count": 65,
     "metadata": {},
     "output_type": "execute_result"
    }
   ],
   "source": [
    "#a As firstname is not in the full name so its false!\n",
    "\n",
    "firstname in fullname"
   ]
  },
  {
   "cell_type": "code",
   "execution_count": 66,
   "id": "abfda239",
   "metadata": {},
   "outputs": [
    {
     "data": {
      "text/plain": [
       "False"
      ]
     },
     "execution_count": 66,
     "metadata": {},
     "output_type": "execute_result"
    }
   ],
   "source": [
    "#b As firstname is not the fullname or same so its false!\n",
    "\n",
    "firstname is fullname"
   ]
  },
  {
   "cell_type": "markdown",
   "id": "4f642575",
   "metadata": {},
   "source": [
    "# TASK 10"
   ]
  },
  {
   "cell_type": "code",
   "execution_count": 67,
   "id": "d6673b42",
   "metadata": {},
   "outputs": [
    {
     "name": "stdout",
     "output_type": "stream",
     "text": [
      "66\n",
      "1024\n"
     ]
    }
   ],
   "source": [
    "a = 4\n",
    "b = 3\n",
    "c = 2\n",
    "d = a**b+c\n",
    "e = a**(b+c)\n",
    "\n",
    "print(d)\n",
    "print(e)"
   ]
  },
  {
   "cell_type": "code",
   "execution_count": null,
   "id": "f06615df",
   "metadata": {},
   "outputs": [],
   "source": [
    "'''The values are diff. because of the order using \n",
    "PEMDAS: \n",
    "Parentheses,\n",
    "Exponents, \n",
    "Multiplication and Division (from left to right),\n",
    "Addition and Subtraction (from left to right).'''"
   ]
  },
  {
   "cell_type": "markdown",
   "id": "fdae5895",
   "metadata": {},
   "source": [
    "# TASK 11"
   ]
  },
  {
   "cell_type": "code",
   "execution_count": 70,
   "id": "f0190a00",
   "metadata": {},
   "outputs": [
    {
     "data": {
      "text/plain": [
       "113.04"
      ]
     },
     "execution_count": 70,
     "metadata": {},
     "output_type": "execute_result"
    }
   ],
   "source": [
    "radius_of_circle = 6\n",
    "area_of_circle = 3.14*(radius_of_circle**2) #'pi' value in python is 3.14\n",
    "\n",
    "area_of_circle"
   ]
  },
  {
   "cell_type": "markdown",
   "id": "3a426e27",
   "metadata": {},
   "source": [
    "# TASK 12"
   ]
  },
  {
   "cell_type": "code",
   "execution_count": 74,
   "id": "c328f8ac",
   "metadata": {},
   "outputs": [
    {
     "name": "stdout",
     "output_type": "stream",
     "text": [
      "15.299999999999999\n",
      "100.3\n"
     ]
    }
   ],
   "source": [
    "selling_price = 85\n",
    "sales_tax = 18\n",
    "overall_tax = (18/100)*selling_price\n",
    "final_price = (selling_price + overall_tax)\n",
    "\n",
    "print(overall_tax)\n",
    "print(final_price)\n"
   ]
  },
  {
   "cell_type": "markdown",
   "id": "574dbb48",
   "metadata": {},
   "source": [
    "# TASK 13"
   ]
  },
  {
   "cell_type": "code",
   "execution_count": 80,
   "id": "f73ed998",
   "metadata": {},
   "outputs": [
    {
     "name": "stdout",
     "output_type": "stream",
     "text": [
      "Rupees into Dollars for 3333/- INR is 44.44 $\n"
     ]
    }
   ],
   "source": [
    "dollar = 1\n",
    "inr = 75\n",
    "inr_for_3333dollars = 3333/75\n",
    "\n",
    "print(\"Rupees into Dollars for 3333/- INR is\", inr_for_3333dollars,\"$\")"
   ]
  },
  {
   "cell_type": "markdown",
   "id": "f4f1a1be",
   "metadata": {},
   "source": [
    "# TASK 14"
   ]
  },
  {
   "cell_type": "code",
   "execution_count": 82,
   "id": "0b934b2e",
   "metadata": {},
   "outputs": [
    {
     "data": {
      "text/plain": [
       "465.0"
      ]
     },
     "execution_count": 82,
     "metadata": {},
     "output_type": "execute_result"
    }
   ],
   "source": [
    "amount = 500\n",
    "inflation_rate = 7\n",
    "purchasing_power = amount - (inflation_rate/100)*amount\n",
    " \n",
    "purchasing_power"
   ]
  }
 ],
 "metadata": {
  "kernelspec": {
   "display_name": "Python 3 (ipykernel)",
   "language": "python",
   "name": "python3"
  },
  "language_info": {
   "codemirror_mode": {
    "name": "ipython",
    "version": 3
   },
   "file_extension": ".py",
   "mimetype": "text/x-python",
   "name": "python",
   "nbconvert_exporter": "python",
   "pygments_lexer": "ipython3",
   "version": "3.9.7"
  }
 },
 "nbformat": 4,
 "nbformat_minor": 5
}

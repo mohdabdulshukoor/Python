{
 "cells": [
  {
   "cell_type": "markdown",
   "id": "edcf44a0",
   "metadata": {},
   "source": [
    "# TASK 1"
   ]
  },
  {
   "cell_type": "code",
   "execution_count": 1,
   "id": "1f6d1326",
   "metadata": {},
   "outputs": [
    {
     "name": "stdout",
     "output_type": "stream",
     "text": [
      "Enter : apple\n",
      "Enter : ball\n",
      "Enter : cat\n",
      "Enter : dog\n",
      "Enter : eagle\n",
      "Enter : frog\n",
      "Enter : goat\n",
      "Enter : horse\n",
      "Enter : ice\n",
      "Enter : joker\n",
      "Enter : lemon\n",
      "['apple', 'ball', 'cat', 'dog', 'eagle', 'frog', 'goat', 'horse', 'ice', 'joker', 'lemon']\n",
      "['lemon', 'joker', 'ice', 'horse', 'goat', 'frog', 'eagle', 'dog', 'cat', 'ball', 'apple'] "
     ]
    }
   ],
   "source": [
    "a = []\n",
    "for i in range (11):\n",
    "    a.append(input(\"Enter : \"))    #list reversing!\n",
    "print(a)\n",
    "\n",
    "rvrse_a = []\n",
    "for i in range(len(a)):\n",
    "    rvrse_a.append(a.pop())\n",
    "print(rvrse_a, end=\" \")"
   ]
  },
  {
   "cell_type": "markdown",
   "id": "eab7f59a",
   "metadata": {},
   "source": [
    "# TASK 2"
   ]
  },
  {
   "cell_type": "code",
   "execution_count": 4,
   "id": "e74c3ad0",
   "metadata": {},
   "outputs": [
    {
     "name": "stdout",
     "output_type": "stream",
     "text": [
      "Enter :  apple\n",
      "Enter :  ball\n",
      "Enter :  cat\n",
      "Enter :  doll\n",
      "Enter :  eagle\n",
      "Enter :  fun\n",
      "Enter :  goal\n",
      "Enter :  hat\n",
      "Enter :  iterate\n",
      "Enter :  jam\n",
      "List :   ['jam', 'iterate', 'hat', 'goal', 'fun', 'eagle', 'doll', 'cat', 'ball', 'apple']\n"
     ]
    }
   ],
   "source": [
    "l = []                     #list reversing!\n",
    "for i in range(0,10):\n",
    "    x = input(\"Enter :  \")\n",
    "    l.insert(i,x)\n",
    "l.reverse()\n",
    "print(\"List :  \",l)"
   ]
  },
  {
   "cell_type": "markdown",
   "id": "d25386ba",
   "metadata": {},
   "source": [
    "# TASK 3, 4 & 5."
   ]
  },
  {
   "cell_type": "code",
   "execution_count": 10,
   "id": "2f682217",
   "metadata": {},
   "outputs": [
    {
     "name": "stdout",
     "output_type": "stream",
     "text": [
      "Enter :  apple\n",
      "Enter :  apple\n",
      "Enter :  ball\n",
      "Enter :  ball\n",
      "Enter :  cat\n",
      "Enter :  cat\n",
      "Enter :  doll\n",
      "Enter :  doll\n",
      "Enter :  eat\n",
      "Enter :  eat\n",
      "List :   ['apple', 'apple', 'ball', 'ball', 'cat', 'cat', 'doll', 'doll', 'eat', 'eat']\n",
      "['doll', 'ball', 'eat', 'apple', 'cat']\n",
      "['apple', 'ball', 'cat', 'doll', 'eat']\n"
     ]
    }
   ],
   "source": [
    "#task 3\n",
    "alist = []\n",
    "for i in range(0,10):\n",
    "    a = input(\"Enter :  \")\n",
    "    alist.insert(i,a)\n",
    "print(\"List :  \",alist)\n",
    "\n",
    "\n",
    "#task 4\n",
    "blist = list(set(alist))\n",
    "print(blist)\n",
    "\n",
    "\n",
    "#task 5\n",
    "blist.sort()\n",
    "print(blist)"
   ]
  },
  {
   "cell_type": "markdown",
   "id": "4368fba4",
   "metadata": {},
   "source": [
    "# TASK 6"
   ]
  },
  {
   "cell_type": "code",
   "execution_count": 11,
   "id": "d0860f97",
   "metadata": {},
   "outputs": [
    {
     "name": "stdout",
     "output_type": "stream",
     "text": [
      "blist item :   eat\n",
      "blist item :   doll\n",
      "blist item :   cat\n",
      "blist item :   ball\n",
      "blist item :   apple\n",
      "[]\n"
     ]
    }
   ],
   "source": [
    "#blist=['apple', 'apple', 'ball', 'cat', 'dog', 'fun', 'fun', 'eat', 'eat', 'gun']\n",
    "for i in range (len(blist)):\n",
    "    j= blist.pop()\n",
    "    print(\"blist item :  \",j)\n",
    "print(blist)"
   ]
  },
  {
   "cell_type": "markdown",
   "id": "2d9a5423",
   "metadata": {},
   "source": [
    "# TASK 7"
   ]
  },
  {
   "cell_type": "code",
   "execution_count": 12,
   "id": "fb7d9b5c",
   "metadata": {},
   "outputs": [
    {
     "name": "stdout",
     "output_type": "stream",
     "text": [
      "1505\n",
      "1540\n",
      "1575\n",
      "1610\n",
      "1645\n",
      "1680\n",
      "1715\n",
      "1750\n",
      "1785\n",
      "1820\n",
      "1855\n",
      "1890\n",
      "1925\n",
      "1960\n",
      "1995\n",
      "2030\n",
      "2065\n",
      "2100\n",
      "2135\n",
      "2170\n",
      "2205\n",
      "2240\n",
      "2275\n",
      "2310\n",
      "2345\n",
      "2380\n",
      "2415\n",
      "2450\n",
      "2485\n",
      "2520\n",
      "2555\n",
      "2590\n",
      "2625\n",
      "2660\n",
      "2695\n"
     ]
    }
   ],
   "source": [
    "for i in range (1500,2700):\n",
    "    if(i%7==0 and i%5==0):\n",
    "        print(i)"
   ]
  },
  {
   "cell_type": "markdown",
   "id": "9d566a7c",
   "metadata": {},
   "source": [
    "# TASK 8"
   ]
  },
  {
   "cell_type": "code",
   "execution_count": 1,
   "id": "3ca6bdda",
   "metadata": {},
   "outputs": [
    {
     "name": "stdout",
     "output_type": "stream",
     "text": [
      "Enter a number :  9\n",
      "1\n",
      "2\n",
      "3\n",
      "4\n",
      "5\n",
      "6\n",
      "7\n",
      "8\n",
      "10\n",
      "11\n",
      "12\n",
      "13\n",
      "14\n",
      "15\n",
      "16\n",
      "17\n",
      "19\n",
      "20\n",
      "21\n",
      "22\n",
      "23\n",
      "24\n",
      "25\n",
      "26\n",
      "28\n",
      "29\n"
     ]
    }
   ],
   "source": [
    "r = list(range(1,30))\n",
    "num = int(input(\"Enter a number :  \"))\n",
    "for i in r:\n",
    "    if(i%num !=0):\n",
    "        print(i)"
   ]
  },
  {
   "cell_type": "markdown",
   "id": "b6421f15",
   "metadata": {},
   "source": [
    "# TASK 9"
   ]
  },
  {
   "cell_type": "code",
   "execution_count": 6,
   "id": "1a2bb6bb",
   "metadata": {},
   "outputs": [
    {
     "name": "stdout",
     "output_type": "stream",
     "text": [
      "[20, 20, 20]\n",
      "[20, 20, 20]\n",
      "[20, 20, 20]\n"
     ]
    }
   ],
   "source": [
    "#merging and adding two matrices (consisting  sub matrices in it)!\n",
    "l1 = [[1,2,3],[4,5,6],[7,8,9]]\n",
    "l2 = [[19,18,17],[16,15,14],[13,12,11]]\n",
    "l3 = [[0,0,0],[0,0,0],[0,0,0]]\n",
    "for i in range(len(l1)):\n",
    "    for j in range(len(l2)):\n",
    "        l3[i][j] = l1[i][j] + l2[i][j]\n",
    "for i in l3:\n",
    "    print(i)"
   ]
  },
  {
   "cell_type": "markdown",
   "id": "4c2a34f1",
   "metadata": {},
   "source": [
    "# TASK 10"
   ]
  },
  {
   "cell_type": "code",
   "execution_count": 8,
   "id": "3c42d4e8",
   "metadata": {},
   "outputs": [
    {
     "name": "stdout",
     "output_type": "stream",
     "text": [
      "Enter a number : 10\n",
      "Enter a number : 9\n",
      "Enter a number : 8\n",
      "Enter a number : 7\n",
      "Enter a number : 6\n",
      "Enter a number : 5\n",
      "Enter a number : 4\n",
      "Enter a number : 3\n",
      "Enter a number : 2\n",
      "[[10, 9, 8], [7, 6, 5], [4, 3, 2]]\n"
     ]
    }
   ],
   "source": [
    "l1 = [[1,2,3],[5,6,7],[8,9,10]]\n",
    "\n",
    "fl1   = []\n",
    "subl1 = []\n",
    "subl2 = []\n",
    "subl3 = []\n",
    "for i in range(3):\n",
    "    for j in range(3):\n",
    "        if (len(subl1)<3):\n",
    "            subl1.append(int(input(\"Enter a number : \")))\n",
    "        elif(len(subl2)<3):\n",
    "            subl2.append(int(input(\"Enter a number : \")))\n",
    "        elif(len(subl3)<3):\n",
    "            subl3.append(int(input(\"Enter a number : \")))\n",
    "fl1.append(subl1)\n",
    "fl1.append(subl2)\n",
    "fl1.append(subl3)\n",
    "print(fl1)"
   ]
  },
  {
   "cell_type": "code",
   "execution_count": null,
   "id": "dbf99b88",
   "metadata": {},
   "outputs": [],
   "source": []
  }
 ],
 "metadata": {
  "kernelspec": {
   "display_name": "Python 3 (ipykernel)",
   "language": "python",
   "name": "python3"
  },
  "language_info": {
   "codemirror_mode": {
    "name": "ipython",
    "version": 3
   },
   "file_extension": ".py",
   "mimetype": "text/x-python",
   "name": "python",
   "nbconvert_exporter": "python",
   "pygments_lexer": "ipython3",
   "version": "3.10.2"
  }
 },
 "nbformat": 4,
 "nbformat_minor": 5
}

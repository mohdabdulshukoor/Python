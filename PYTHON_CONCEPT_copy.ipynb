{
 "cells": [
  {
   "cell_type": "code",
   "execution_count": 3,
   "id": "5e118ddd",
   "metadata": {},
   "outputs": [],
   "source": [
    "#,end =\" \"   -   for executing the output in one line"
   ]
  },
  {
   "cell_type": "code",
   "execution_count": 4,
   "id": "af5ce9c8",
   "metadata": {},
   "outputs": [
    {
     "name": "stdout",
     "output_type": "stream",
     "text": [
      "PYTHON : HELLO WORLD "
     ]
    }
   ],
   "source": [
    "l1=[\"PYTHON :\",\"HELLO\",\"WORLD\"]\n",
    "\n",
    "for i in l1:\n",
    "    print(i, end = \" \")"
   ]
  },
  {
   "cell_type": "code",
   "execution_count": 5,
   "id": "8e1c3e66",
   "metadata": {},
   "outputs": [
    {
     "name": "stdout",
     "output_type": "stream",
     "text": [
      "PYTHON : \n",
      "HELLO\n",
      "WORLD\n"
     ]
    }
   ],
   "source": [
    "l1=[\"PYTHON : \",\"HELLO\",\"WORLD\"]\n",
    "\n",
    "for i in l1:\n",
    "    print(i)"
   ]
  },
  {
   "cell_type": "code",
   "execution_count": 6,
   "id": "f8c7fdd7",
   "metadata": {},
   "outputs": [
    {
     "name": "stdout",
     "output_type": "stream",
     "text": [
      "23\n",
      "1\n",
      "0\n",
      "12\n",
      "45\n",
      "i'm done with for loop\n"
     ]
    }
   ],
   "source": [
    "l2 = [23,1,0,12,45]\n",
    "\n",
    "for i in l2:\n",
    "    print(i)\n",
    "    \n",
    "print(\"i'm done with for loop\")"
   ]
  },
  {
   "cell_type": "markdown",
   "id": "c41f6e1c",
   "metadata": {},
   "source": [
    "# START  AND  END \n",
    "# [RANGE OPERATOR]\n",
    "# (START, STOP[,STEP])"
   ]
  },
  {
   "cell_type": "code",
   "execution_count": 7,
   "id": "071726aa",
   "metadata": {},
   "outputs": [
    {
     "name": "stdout",
     "output_type": "stream",
     "text": [
      "0\n",
      "1\n",
      "2\n",
      "3\n",
      "4\n",
      "5\n",
      "6\n",
      "7\n",
      "8\n",
      "9\n",
      "10\n"
     ]
    }
   ],
   "source": [
    "for i in range(11):\n",
    "    print(i) "
   ]
  },
  {
   "cell_type": "code",
   "execution_count": 8,
   "id": "7dc8415b",
   "metadata": {},
   "outputs": [
    {
     "name": "stdout",
     "output_type": "stream",
     "text": [
      "0\n",
      "1\n",
      "2\n",
      "3\n",
      "4\n",
      "5\n",
      "6\n",
      "7\n",
      "8\n",
      "9\n",
      "10\n"
     ]
    }
   ],
   "source": [
    "for i in range(0,11):\n",
    "    print(i) "
   ]
  },
  {
   "cell_type": "code",
   "execution_count": 9,
   "id": "78e32c43",
   "metadata": {},
   "outputs": [
    {
     "name": "stdout",
     "output_type": "stream",
     "text": [
      "1\n",
      "2\n",
      "3\n",
      "4\n",
      "5\n",
      "6\n",
      "7\n",
      "8\n",
      "9\n",
      "10\n"
     ]
    }
   ],
   "source": [
    "for i in range(1,11):\n",
    "    print(i) "
   ]
  },
  {
   "cell_type": "code",
   "execution_count": 10,
   "id": "a68f9a78",
   "metadata": {},
   "outputs": [
    {
     "name": "stdout",
     "output_type": "stream",
     "text": [
      "0\n",
      "2\n",
      "4\n",
      "6\n",
      "8\n",
      "10\n"
     ]
    }
   ],
   "source": [
    "for i in range(0,11,2):   #STEP\n",
    "    print(i) "
   ]
  },
  {
   "cell_type": "code",
   "execution_count": 11,
   "id": "f75967e0",
   "metadata": {},
   "outputs": [
    {
     "name": "stdout",
     "output_type": "stream",
     "text": [
      "'i' refers iteration 1\n",
      "'i' refers iteration 2\n",
      "'i' refers iteration 3\n",
      "'i' refers iteration 4\n",
      "'i' refers iteration 5\n"
     ]
    }
   ],
   "source": [
    "for i in range(1,6):\n",
    "    print(\"'i' refers iteration\",i)"
   ]
  },
  {
   "cell_type": "code",
   "execution_count": 12,
   "id": "4307e2b7",
   "metadata": {},
   "outputs": [
    {
     "name": "stdout",
     "output_type": "stream",
     "text": [
      "'i' refers iteration 1 'i' refers iteration 2 'i' refers iteration 3 'i' refers iteration 4 'i' refers iteration 5 "
     ]
    }
   ],
   "source": [
    "for i in range(1,6):\n",
    "    print(\"'i' refers iteration\", i, end =\" \")"
   ]
  },
  {
   "cell_type": "code",
   "execution_count": 13,
   "id": "bf469de4",
   "metadata": {},
   "outputs": [
    {
     "name": "stdout",
     "output_type": "stream",
     "text": [
      "john doe\n",
      "ron doe\n",
      "cindy\n",
      "mindy\n",
      "rakesh\n",
      "rahul\n"
     ]
    }
   ],
   "source": [
    "students_list = [\"john doe\",\"ron doe\",\"cindy\",\"mindy\",\"rakesh\",\"rahul\"]\n",
    "\n",
    "for student in students_list:\n",
    "    print(student)"
   ]
  },
  {
   "cell_type": "code",
   "execution_count": 14,
   "id": "eb18239e",
   "metadata": {},
   "outputs": [
    {
     "name": "stdout",
     "output_type": "stream",
     "text": [
      "hi joe good morning !\n",
      "hi zoe good morning !\n",
      "hi brad good morning !\n",
      "hi angelina good morning !\n",
      "hi zuki good morning !\n",
      "hi tom good morning !\n",
      "hi paris good morning !\n"
     ]
    }
   ],
   "source": [
    " mynames = [\"joe \",\"zoe \",\"brad \",\"angelina \",\"zuki \",\"tom \",\"paris \"]   \n",
    "\n",
    "for x in mynames:\n",
    "    greetings = \"good morning !\"   #inside the for loop formatting!\n",
    "    invite = \"hi \" + x + greetings #creating a new string(string is another variable)\n",
    "    print(invite)\n"
   ]
  },
  {
   "cell_type": "code",
   "execution_count": 15,
   "id": "c266495d",
   "metadata": {},
   "outputs": [
    {
     "name": "stdout",
     "output_type": "stream",
     "text": [
      "hi joe good morning !\n",
      "hi zoe good morning !\n",
      "hi brad good morning !\n",
      "hi angelina good morning !\n",
      "hi zuki good morning !\n",
      "hi tom good morning !\n",
      "hi paris good morning !\n"
     ]
    }
   ],
   "source": [
    "mynames = [\"joe \",\"zoe \",\"brad \",\"angelina \",\"zuki \",\"tom \",\"paris \"]\n",
    "\n",
    "greetings = \"good morning !\"   #outside the for loop formatting!\n",
    "\n",
    "for x in mynames:\n",
    "    greetings = \"good morning !\"\n",
    "    invite = \"hi \" + x + greetings #creating a new string(string is another variable)\n",
    "    print(invite)"
   ]
  },
  {
   "cell_type": "code",
   "execution_count": 16,
   "id": "cbd36824",
   "metadata": {},
   "outputs": [
    {
     "name": "stdout",
     "output_type": "stream",
     "text": [
      "[1, 2, 3, 4, 5, 6, 7, 8, 9, 10]\n",
      "2\n",
      "4\n",
      "6\n",
      "8\n",
      "10\n",
      "the total number of even numbers is 5\n"
     ]
    }
   ],
   "source": [
    "mylist=[1,2,3,4,5,6,7,8,9,10]\n",
    "print(mylist)\n",
    "count=0\n",
    "for num in mylist:\n",
    "    if (num % 2 == 0):\n",
    "        count=count + 1  #COUNTS VARIABLES IN INCREMENTED MANNER ONLY IF THE DATA OR LIST IS CONSISTING ANY EVEN NUMBERS\n",
    "        print(num)\n",
    "print(\"the total number of even numbers is\",count)\n",
    "    "
   ]
  },
  {
   "cell_type": "markdown",
   "id": "7bba3680",
   "metadata": {},
   "source": [
    "# break statement"
   ]
  },
  {
   "cell_type": "code",
   "execution_count": 17,
   "id": "ba043687",
   "metadata": {},
   "outputs": [
    {
     "name": "stdout",
     "output_type": "stream",
     "text": [
      "2\n",
      "4\n"
     ]
    }
   ],
   "source": [
    "count=0     #STARTS COUNTING FROM 0\n",
    "mylist = [1,2,3,4,5,6,7,8,9,10]\n",
    "for x in mylist:\n",
    "    if (x%2==0):\n",
    "        count=count + 1\n",
    "        print(x)\n",
    "        if (count==2):\n",
    "            break\n",
    "#BREAK STATEMENT WILL EXIT THE LOOP BLOCK EVEN THOUGH THE LOOP CAN RUN 8 TIMES"
   ]
  },
  {
   "cell_type": "code",
   "execution_count": 18,
   "id": "12199771",
   "metadata": {},
   "outputs": [
    {
     "name": "stdout",
     "output_type": "stream",
     "text": [
      "FALSE\n"
     ]
    }
   ],
   "source": [
    "flag = 0     #global variable\n",
    "data = [1,2,3,4,5,67,78,85,95,109]\n",
    "\n",
    "for x in data:\n",
    "    if (x==500):\n",
    "        flag = 1 #we are setting the flag to 1\n",
    "        break #which will exit the for loop, even if the list is not fully exhausted.\n",
    "    \n",
    "if(flag==1):\n",
    "    print(\"TRUE\")\n",
    "else:\n",
    "    print(\"FALSE\")"
   ]
  },
  {
   "cell_type": "code",
   "execution_count": 19,
   "id": "be7c7e9a",
   "metadata": {
    "scrolled": true
   },
   "outputs": [
    {
     "name": "stdout",
     "output_type": "stream",
     "text": [
      "['__add__', '__class__', '__class_getitem__', '__contains__', '__delattr__', '__delitem__', '__dir__', '__doc__', '__eq__', '__format__', '__ge__', '__getattribute__', '__getitem__', '__gt__', '__hash__', '__iadd__', '__imul__', '__init__', '__init_subclass__', '__iter__', '__le__', '__len__', '__lt__', '__mul__', '__ne__', '__new__', '__reduce__', '__reduce_ex__', '__repr__', '__reversed__', '__rmul__', '__setattr__', '__setitem__', '__sizeof__', '__str__', '__subclasshook__', 'append', 'clear', 'copy', 'count', 'extend', 'index', 'insert', 'pop', 'remove', 'reverse', 'sort']\n"
     ]
    }
   ],
   "source": [
    "print(dir(list))      #all the list of functions for \"LISTS\""
   ]
  },
  {
   "cell_type": "code",
   "execution_count": 20,
   "id": "8531362d",
   "metadata": {},
   "outputs": [
    {
     "name": "stdout",
     "output_type": "stream",
     "text": [
      "['__add__', '__class__', '__class_getitem__', '__contains__', '__delattr__', '__dir__', '__doc__', '__eq__', '__format__', '__ge__', '__getattribute__', '__getitem__', '__getnewargs__', '__gt__', '__hash__', '__init__', '__init_subclass__', '__iter__', '__le__', '__len__', '__lt__', '__mul__', '__ne__', '__new__', '__reduce__', '__reduce_ex__', '__repr__', '__rmul__', '__setattr__', '__sizeof__', '__str__', '__subclasshook__', 'count', 'index']\n"
     ]
    }
   ],
   "source": [
    "print(dir(tuple))     #all the list of functions for \"TUPLE\""
   ]
  },
  {
   "cell_type": "code",
   "execution_count": 21,
   "id": "8b1fbcb8",
   "metadata": {},
   "outputs": [
    {
     "name": "stdout",
     "output_type": "stream",
     "text": [
      "['__class__', '__class_getitem__', '__contains__', '__delattr__', '__delitem__', '__dir__', '__doc__', '__eq__', '__format__', '__ge__', '__getattribute__', '__getitem__', '__gt__', '__hash__', '__init__', '__init_subclass__', '__ior__', '__iter__', '__le__', '__len__', '__lt__', '__ne__', '__new__', '__or__', '__reduce__', '__reduce_ex__', '__repr__', '__reversed__', '__ror__', '__setattr__', '__setitem__', '__sizeof__', '__str__', '__subclasshook__', 'clear', 'copy', 'fromkeys', 'get', 'items', 'keys', 'pop', 'popitem', 'setdefault', 'update', 'values']\n"
     ]
    }
   ],
   "source": [
    "print(dir(dict))     #all the list of functions for \"DICTIONARY\""
   ]
  },
  {
   "cell_type": "markdown",
   "id": "a43463e1",
   "metadata": {},
   "source": [
    "# FUNCTIONS :"
   ]
  },
  {
   "cell_type": "code",
   "execution_count": 22,
   "id": "0834e04f",
   "metadata": {},
   "outputs": [
    {
     "name": "stdout",
     "output_type": "stream",
     "text": [
      "[1, 101, 'B', 3, 'm', 4, 'x']\n"
     ]
    }
   ],
   "source": [
    "l1 = [1,\"B\",3,'m',4,'x']\n",
    "l1.insert(1,101)          #INSERTING single number in list\n",
    "print(l1)"
   ]
  },
  {
   "cell_type": "code",
   "execution_count": 23,
   "id": "e97bc2ea",
   "metadata": {},
   "outputs": [
    {
     "name": "stdout",
     "output_type": "stream",
     "text": [
      "[1, 2, 3, 4, 5]\n"
     ]
    }
   ],
   "source": [
    "l1 = [1,2,3,4]\n",
    "l1.append(5)        #APPENDING single number in list #APPEND function\n",
    "print(l1)\n"
   ]
  },
  {
   "cell_type": "code",
   "execution_count": 24,
   "id": "f12c83f4",
   "metadata": {},
   "outputs": [
    {
     "data": {
      "text/plain": [
       "3"
      ]
     },
     "execution_count": 24,
     "metadata": {},
     "output_type": "execute_result"
    }
   ],
   "source": [
    "l1[2] #locating particular index value"
   ]
  },
  {
   "cell_type": "code",
   "execution_count": 30,
   "id": "c086c1fc",
   "metadata": {},
   "outputs": [
    {
     "data": {
      "text/plain": [
       "'r'"
      ]
     },
     "execution_count": 30,
     "metadata": {},
     "output_type": "execute_result"
    }
   ],
   "source": [
    "str1 = \"string\"#extracting particular letter or value frm string\n",
    "str1[2]"
   ]
  },
  {
   "cell_type": "code",
   "execution_count": 34,
   "id": "2dfe427d",
   "metadata": {},
   "outputs": [
    {
     "name": "stdout",
     "output_type": "stream",
     "text": [
      "[1, 2, 3, 4, 5, 6, 7]\n"
     ]
    }
   ],
   "source": [
    "l1 = [1,2,3,4]\n",
    "l1.extend([5,6,7])   #extend function\n",
    "print(l1)"
   ]
  },
  {
   "cell_type": "code",
   "execution_count": 39,
   "id": "197c0098",
   "metadata": {},
   "outputs": [],
   "source": [
    "l4 = [23,1,0,45,-1]\n",
    "del l4[2]              #delete keyword"
   ]
  },
  {
   "cell_type": "code",
   "execution_count": 36,
   "id": "3acbef7e",
   "metadata": {},
   "outputs": [
    {
     "name": "stdout",
     "output_type": "stream",
     "text": [
      "['joe', 'zoe', 'brad', 'tom']\n",
      "['joe', 'zoe', 'brad']\n"
     ]
    }
   ],
   "source": [
    "mynames = ['joe','zoe', 'brad','tom']\n",
    "print(mynames)\n",
    "del(mynames[3])        #delete function\n",
    "print(mynames)"
   ]
  },
  {
   "cell_type": "code",
   "execution_count": 40,
   "id": "aef222dc",
   "metadata": {},
   "outputs": [
    {
     "name": "stdout",
     "output_type": "stream",
     "text": [
      "['joe', 'zoe', 'brad', 'tom']\n",
      "['joe', 'brad']\n"
     ]
    }
   ],
   "source": [
    "mynames = ['joe','zoe', 'brad','tom']\n",
    "print(mynames)\n",
    "del(mynames[1],mynames[2])  #delete function (more than one value)\n",
    "print(mynames)"
   ]
  },
  {
   "cell_type": "code",
   "execution_count": 42,
   "id": "f7ac05c1",
   "metadata": {},
   "outputs": [
    {
     "name": "stdout",
     "output_type": "stream",
     "text": [
      "the popped out value or item from the list is 3\n"
     ]
    }
   ],
   "source": [
    "l1 = [1,2,3,4,5,6]\n",
    "p = l1.pop(2)       #POP fuction just for display..\n",
    "print('the popped out value or item from the list is', p)"
   ]
  },
  {
   "cell_type": "code",
   "execution_count": 48,
   "id": "aaebe2b0",
   "metadata": {},
   "outputs": [
    {
     "name": "stdout",
     "output_type": "stream",
     "text": [
      "[1, 2, 3, 4, 5]\n"
     ]
    }
   ],
   "source": [
    "l1 = [1,2,3,4,5,6]\n",
    "p = l1.pop()      #if not mentioned the index it directly eleminates the last value or item from the list.\n",
    "print(l1)"
   ]
  },
  {
   "cell_type": "code",
   "execution_count": 49,
   "id": "efd88df4",
   "metadata": {},
   "outputs": [
    {
     "name": "stdout",
     "output_type": "stream",
     "text": [
      "['my', 'funny']\n"
     ]
    }
   ],
   "source": [
    "oldlist = ['my','funny','world']\n",
    "\n",
    "oldlist.remove('world')       #REMOVE function\n",
    "print(oldlist)"
   ]
  },
  {
   "cell_type": "code",
   "execution_count": 50,
   "id": "26103086",
   "metadata": {},
   "outputs": [
    {
     "name": "stdout",
     "output_type": "stream",
     "text": [
      "['hello', 2, 3, 4, 2, 'world']\n"
     ]
    }
   ],
   "source": [
    "newlist = ['hello',2,3,4,'world',2,'world']\n",
    "newlist.remove('world')       #REMOVE function\n",
    "print(newlist)"
   ]
  },
  {
   "cell_type": "code",
   "execution_count": 51,
   "id": "84d94dbd",
   "metadata": {},
   "outputs": [
    {
     "name": "stdout",
     "output_type": "stream",
     "text": [
      "[]\n"
     ]
    }
   ],
   "source": [
    "list = ['my','funny','world']\n",
    "\n",
    "list.clear()         #CLEAR function\n",
    "print(list)"
   ]
  },
  {
   "cell_type": "code",
   "execution_count": 53,
   "id": "322b2cd4",
   "metadata": {},
   "outputs": [
    {
     "data": {
      "text/plain": [
       "2150233606896"
      ]
     },
     "execution_count": 53,
     "metadata": {},
     "output_type": "execute_result"
    }
   ],
   "source": [
    "id(newlist[0]) #LOCATION"
   ]
  },
  {
   "cell_type": "code",
   "execution_count": 54,
   "id": "c08d0aea",
   "metadata": {},
   "outputs": [
    {
     "name": "stdout",
     "output_type": "stream",
     "text": [
      "[3, 4, 6, 7]\n",
      "[3, 4, 6]\n"
     ]
    }
   ],
   "source": [
    "#REMOVE removes the first matching value, not a specific index\n",
    "a = [3,4,6,7]\n",
    "print(a)\n",
    "a.remove(7)\n",
    "print(a)"
   ]
  },
  {
   "cell_type": "code",
   "execution_count": 56,
   "id": "1210884b",
   "metadata": {},
   "outputs": [
    {
     "name": "stdout",
     "output_type": "stream",
     "text": [
      "[3, 6, 7]\n"
     ]
    }
   ],
   "source": [
    "#DEL removes the item at a specific index\n",
    "a = [3,4,6,7]\n",
    "del a[1]\n",
    "print(a)"
   ]
  },
  {
   "cell_type": "code",
   "execution_count": 57,
   "id": "474600f9",
   "metadata": {},
   "outputs": [
    {
     "name": "stdout",
     "output_type": "stream",
     "text": [
      "[3, 6, 7]\n",
      "4\n"
     ]
    }
   ],
   "source": [
    "#POP removes the item at a specific index and returns it\n",
    "a = [3,4,6,7]\n",
    "result = a.pop(1)\n",
    "print(a)\n",
    "print(result)"
   ]
  },
  {
   "cell_type": "code",
   "execution_count": 55,
   "id": "bbb7c612",
   "metadata": {},
   "outputs": [
    {
     "name": "stdout",
     "output_type": "stream",
     "text": [
      "[3, 4, 6]\n"
     ]
    }
   ],
   "source": [
    "#POP removes the last item and returns it\n",
    "a = [3,4,6,7]\n",
    "a.pop()\n",
    "print(a)"
   ]
  },
  {
   "cell_type": "code",
   "execution_count": 59,
   "id": "1189080b",
   "metadata": {},
   "outputs": [
    {
     "name": "stdout",
     "output_type": "stream",
     "text": [
      "['apple', 'mango', 'brad', 'tom', 'paris']\n"
     ]
    }
   ],
   "source": [
    "mynames = ['world','apple','mango','brad','world','tom','paris']\n",
    "\n",
    "for x in mynames:\n",
    "     if(x == 'world'):\n",
    "            mynames.remove(x)\n",
    "print(mynames)"
   ]
  },
  {
   "cell_type": "markdown",
   "id": "d48200c1",
   "metadata": {},
   "source": [
    " # String Slicing :"
   ]
  },
  {
   "cell_type": "code",
   "execution_count": 63,
   "id": "c0eef29f",
   "metadata": {},
   "outputs": [
    {
     "name": "stdout",
     "output_type": "stream",
     "text": [
      "Data Science\n",
      "D\n",
      "D\n",
      "a Science\n",
      "ata Scien\n",
      "Data ScienceData ScienceData Science\n",
      "e\n",
      " \n"
     ]
    }
   ],
   "source": [
    "string1 = 'Data Science'\n",
    "print(string1)\n",
    "print(string1[0])\n",
    "print(string1[-12])\n",
    "print(string1[3:])\n",
    "print(string1[1:-2])\n",
    "print(string1*3)\n",
    "print(string1[-1]) #LAST CHARACTER\n",
    "print(string1[4]) #SPACE"
   ]
  },
  {
   "cell_type": "code",
   "execution_count": 64,
   "id": "e3970a5f",
   "metadata": {},
   "outputs": [
    {
     "name": "stdout",
     "output_type": "stream",
     "text": [
      "banglore\n",
      "['delhi', 'chennai', 2000, 'delhi']\n",
      "cool\n"
     ]
    }
   ],
   "source": [
    "mylist = ['banglore','delhi','chennai',2000,'delhi','cool']\n",
    "print(mylist[0])\n",
    "print(mylist[1:5])\n",
    "print(mylist[-1])"
   ]
  },
  {
   "cell_type": "code",
   "execution_count": 66,
   "id": "114b7558",
   "metadata": {},
   "outputs": [
    {
     "ename": "NameError",
     "evalue": "name 'd' is not defined",
     "output_type": "error",
     "traceback": [
      "\u001b[1;31m---------------------------------------------------------------------------\u001b[0m",
      "\u001b[1;31mNameError\u001b[0m                                 Traceback (most recent call last)",
      "\u001b[1;32m~\\AppData\\Local\\Temp/ipykernel_7688/3416905297.py\u001b[0m in \u001b[0;36m<module>\u001b[1;34m\u001b[0m\n\u001b[0;32m      2\u001b[0m \u001b[0mb\u001b[0m \u001b[1;33m=\u001b[0m \u001b[1;33m[\u001b[0m\u001b[1;34m'1A'\u001b[0m\u001b[1;33m,\u001b[0m\u001b[1;34m'2B'\u001b[0m\u001b[1;33m,\u001b[0m\u001b[1;34m'3C'\u001b[0m\u001b[1;33m,\u001b[0m\u001b[1;34m'4D'\u001b[0m\u001b[1;33m]\u001b[0m\u001b[1;33m\u001b[0m\u001b[1;33m\u001b[0m\u001b[0m\n\u001b[0;32m      3\u001b[0m \u001b[0mc\u001b[0m \u001b[1;33m=\u001b[0m \u001b[1;33m[\u001b[0m\u001b[1;34m'A'\u001b[0m\u001b[1;33m,\u001b[0m\u001b[1;34m'B'\u001b[0m\u001b[1;33m,\u001b[0m\u001b[1;34m'C'\u001b[0m\u001b[1;33m,\u001b[0m\u001b[1;34m'D'\u001b[0m\u001b[1;33m]\u001b[0m\u001b[1;33m\u001b[0m\u001b[1;33m\u001b[0m\u001b[0m\n\u001b[1;32m----> 4\u001b[1;33m \u001b[0md\u001b[0m \u001b[1;33m=\u001b[0m \u001b[0ma\u001b[0m \u001b[1;33m+\u001b[0m \u001b[0mb\u001b[0m \u001b[1;33m+\u001b[0m \u001b[0mc\u001b[0m \u001b[1;33m+\u001b[0m \u001b[0md\u001b[0m\u001b[1;33m\u001b[0m\u001b[1;33m\u001b[0m\u001b[0m\n\u001b[0m\u001b[0;32m      5\u001b[0m \u001b[0mprint\u001b[0m\u001b[1;33m(\u001b[0m\u001b[0md\u001b[0m\u001b[1;33m)\u001b[0m\u001b[1;33m\u001b[0m\u001b[1;33m\u001b[0m\u001b[0m\n\u001b[0;32m      6\u001b[0m \u001b[0mtype\u001b[0m\u001b[1;33m(\u001b[0m\u001b[0md\u001b[0m\u001b[1;33m)\u001b[0m\u001b[1;33m\u001b[0m\u001b[1;33m\u001b[0m\u001b[0m\n",
      "\u001b[1;31mNameError\u001b[0m: name 'd' is not defined"
     ]
    }
   ],
   "source": [
    "a = [1,2,3,4]\n",
    "b = ['1A','2B','3C','4D']\n",
    "c = ['A','B','C','D']\n",
    "d = a + b + c + d\n",
    "print(d)\n",
    "type(d)"
   ]
  },
  {
   "cell_type": "code",
   "execution_count": 67,
   "id": "e748d9bc",
   "metadata": {},
   "outputs": [
    {
     "name": "stdout",
     "output_type": "stream",
     "text": [
      "2\n"
     ]
    }
   ],
   "source": [
    "mylist = ['banglore','delhi','chennai',2000,'delhi','cool']\n",
    "y = mylist.count('delhi')                                    #COUNT function\n",
    "print(y)"
   ]
  },
  {
   "cell_type": "code",
   "execution_count": 74,
   "id": "58e24f4a",
   "metadata": {},
   "outputs": [
    {
     "name": "stdout",
     "output_type": "stream",
     "text": [
      "[45, 23, 1, 0, -1]\n"
     ]
    }
   ],
   "source": [
    "l2 = [23,0,1,45,-1]\n",
    "l2.sort()           #FOR DESCENDING ORDRE BUT FIRST SORTING IT IN ASCENDING ORDER\n",
    "l2.reverse()\n",
    "print(l2)"
   ]
  },
  {
   "cell_type": "code",
   "execution_count": 71,
   "id": "ea1415b8",
   "metadata": {},
   "outputs": [
    {
     "name": "stdout",
     "output_type": "stream",
     "text": [
      "[-1, 0, 1, 23, 45]\n"
     ]
    }
   ],
   "source": [
    "l2 = [23,0,1,45,-1]\n",
    "l2.sort()          #SORTING IN ASCENDING ORDER \n",
    "print(l2) "
   ]
  },
  {
   "cell_type": "code",
   "execution_count": 72,
   "id": "44a36c87",
   "metadata": {},
   "outputs": [
    {
     "name": "stdout",
     "output_type": "stream",
     "text": [
      "['world', 'hello']\n"
     ]
    }
   ],
   "source": [
    "l3 = ['hello','world']\n",
    "l3.reverse()           #REVERSE function\n",
    "print(l3)"
   ]
  },
  {
   "cell_type": "code",
   "execution_count": 76,
   "id": "350070b9",
   "metadata": {},
   "outputs": [
    {
     "name": "stdout",
     "output_type": "stream",
     "text": [
      "[23, 0, 1, 45, -1]\n"
     ]
    }
   ],
   "source": [
    "l2 = [23,0,1,45,-1]\n",
    "l5 = l2.copy()\n",
    "print(l5)       #COPIED TO LIST L5."
   ]
  },
  {
   "cell_type": "code",
   "execution_count": null,
   "id": "bcfa89c1",
   "metadata": {},
   "outputs": [],
   "source": []
  }
 ],
 "metadata": {
  "kernelspec": {
   "display_name": "Python 3 (ipykernel)",
   "language": "python",
   "name": "python3"
  },
  "language_info": {
   "codemirror_mode": {
    "name": "ipython",
    "version": 3
   },
   "file_extension": ".py",
   "mimetype": "text/x-python",
   "name": "python",
   "nbconvert_exporter": "python",
   "pygments_lexer": "ipython3",
   "version": "3.10.2"
  }
 },
 "nbformat": 4,
 "nbformat_minor": 5
}

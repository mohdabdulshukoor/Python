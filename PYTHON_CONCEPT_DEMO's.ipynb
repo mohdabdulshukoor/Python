{
 "cells": [
  {
   "cell_type": "markdown",
   "id": "d4941763",
   "metadata": {},
   "source": [
    "# CREATING  FUNCTION's \" def \" "
   ]
  },
  {
   "cell_type": "code",
   "execution_count": 1,
   "id": "38ad35e0",
   "metadata": {},
   "outputs": [],
   "source": [
    "#function definition\n",
    "\n",
    "def area_of_circle(r):\n",
    "    c = 3.14*r**2\n",
    "    return c"
   ]
  },
  {
   "cell_type": "code",
   "execution_count": 2,
   "id": "be759ce5",
   "metadata": {},
   "outputs": [
    {
     "name": "stdout",
     "output_type": "stream",
     "text": [
      "50.24\n"
     ]
    }
   ],
   "source": [
    "#function call\n",
    "\n",
    "print(area_of_circle(4))"
   ]
  },
  {
   "cell_type": "code",
   "execution_count": 4,
   "id": "ab25c7ab",
   "metadata": {},
   "outputs": [
    {
     "name": "stdout",
     "output_type": "stream",
     "text": [
      "Area of a circle having radius '4' is 50.24\n"
     ]
    }
   ],
   "source": [
    "#function call\n",
    "\n",
    "print(\"Area of a circle having radius '4' is\",area_of_circle(4))"
   ]
  },
  {
   "cell_type": "code",
   "execution_count": 11,
   "id": "f103b8b5",
   "metadata": {},
   "outputs": [],
   "source": [
    "#fuction definition\n",
    "#return or print is optional because by default it prints or return\n",
    "\n",
    "def greetings_call():\n",
    "    print(\"This is my first function\")"
   ]
  },
  {
   "cell_type": "code",
   "execution_count": 12,
   "id": "eb58712f",
   "metadata": {},
   "outputs": [
    {
     "name": "stdout",
     "output_type": "stream",
     "text": [
      "This is my first function\n"
     ]
    }
   ],
   "source": [
    "greetings_call()"
   ]
  },
  {
   "cell_type": "code",
   "execution_count": 15,
   "id": "4253f28d",
   "metadata": {},
   "outputs": [],
   "source": [
    "#fuction returns none:\n",
    "\n",
    "def return_none():\n",
    "    print()\n",
    "    #or you can write 'return' instead 'print()'"
   ]
  },
  {
   "cell_type": "code",
   "execution_count": 16,
   "id": "5a53a1f9",
   "metadata": {},
   "outputs": [
    {
     "name": "stdout",
     "output_type": "stream",
     "text": [
      "\n",
      "None\n"
     ]
    }
   ],
   "source": [
    "print(return_none())"
   ]
  },
  {
   "cell_type": "code",
   "execution_count": 17,
   "id": "bfab8941",
   "metadata": {},
   "outputs": [],
   "source": [
    "#python function that returns single value\n",
    "\n",
    "def type_of_int(i):\n",
    "    if i%2==0:\n",
    "        return 'Even'\n",
    "    else:\n",
    "        return 'odd'"
   ]
  },
  {
   "cell_type": "code",
   "execution_count": 21,
   "id": "8600625a",
   "metadata": {},
   "outputs": [
    {
     "data": {
      "text/plain": [
       "'odd'"
      ]
     },
     "execution_count": 21,
     "metadata": {},
     "output_type": "execute_result"
    }
   ],
   "source": [
    "#print or return can be igrored here optional\n",
    "type_of_int(5)"
   ]
  },
  {
   "cell_type": "code",
   "execution_count": 24,
   "id": "197c707c",
   "metadata": {},
   "outputs": [],
   "source": [
    "#python function that returns multiole values\n",
    "\n",
    "def return_multiple_value():\n",
    "    return 1,2,3"
   ]
  },
  {
   "cell_type": "code",
   "execution_count": 25,
   "id": "0587c508",
   "metadata": {},
   "outputs": [
    {
     "data": {
      "text/plain": [
       "(1, 2, 3)"
      ]
     },
     "execution_count": 25,
     "metadata": {},
     "output_type": "execute_result"
    }
   ],
   "source": [
    "return_multiple_value()"
   ]
  },
  {
   "cell_type": "code",
   "execution_count": 26,
   "id": "2696ded8",
   "metadata": {},
   "outputs": [
    {
     "name": "stdout",
     "output_type": "stream",
     "text": [
      "<class 'tuple'>\n"
     ]
    }
   ],
   "source": [
    "#by default it returns the values as tuple\n",
    "\n",
    "print(type(return_multiple_value()))"
   ]
  },
  {
   "cell_type": "markdown",
   "id": "20547922",
   "metadata": {},
   "source": [
    "# Local and Global variable:"
   ]
  },
  {
   "cell_type": "code",
   "execution_count": 29,
   "id": "76f72c1f",
   "metadata": {},
   "outputs": [],
   "source": [
    " # Local variable\n",
    "\n",
    "def f():\n",
    "    str1 = \"les learn python\"\n",
    "    print(\"inside function\")\n",
    "    "
   ]
  },
  {
   "cell_type": "code",
   "execution_count": 30,
   "id": "039a2b1b",
   "metadata": {},
   "outputs": [
    {
     "ename": "NameError",
     "evalue": "name 'str1' is not defined",
     "output_type": "error",
     "traceback": [
      "\u001b[1;31m---------------------------------------------------------------------------\u001b[0m",
      "\u001b[1;31mNameError\u001b[0m                                 Traceback (most recent call last)",
      "Input \u001b[1;32mIn [30]\u001b[0m, in \u001b[0;36m<cell line: 2>\u001b[1;34m()\u001b[0m\n\u001b[0;32m      1\u001b[0m \u001b[38;5;66;03m#f()\u001b[39;00m\n\u001b[1;32m----> 2\u001b[0m \u001b[38;5;28mprint\u001b[39m(\u001b[43mstr1\u001b[49m)\n",
      "\u001b[1;31mNameError\u001b[0m: name 'str1' is not defined"
     ]
    }
   ],
   "source": [
    "#f()\n",
    "print(str1)"
   ]
  },
  {
   "cell_type": "code",
   "execution_count": 35,
   "id": "cb458fe2",
   "metadata": {},
   "outputs": [],
   "source": [
    "# Global variable\n",
    "\n",
    "def f():\n",
    "    print(\"inside function\", str2)"
   ]
  },
  {
   "cell_type": "code",
   "execution_count": 38,
   "id": "0eb7a9a6",
   "metadata": {},
   "outputs": [],
   "source": [
    "#creating a variable outside the function but we can include it in a functoin\n",
    "str2 = \"understand  python\""
   ]
  },
  {
   "cell_type": "code",
   "execution_count": 39,
   "id": "4e532da9",
   "metadata": {},
   "outputs": [
    {
     "name": "stdout",
     "output_type": "stream",
     "text": [
      "inside function understand  python\n",
      "outside function understand  python\n"
     ]
    }
   ],
   "source": [
    "f()\n",
    "print(\"outside function\", str2)"
   ]
  },
  {
   "cell_type": "markdown",
   "id": "117b935f",
   "metadata": {},
   "source": [
    "# Function with Default Argument:"
   ]
  },
  {
   "cell_type": "code",
   "execution_count": 40,
   "id": "de4f6ad8",
   "metadata": {},
   "outputs": [],
   "source": [
    "def yoursum(a,b=200): # a and b are called arguments, b is default arguments!\n",
    "    c=a+b\n",
    "    print(\"The sum of\", a ,\"and\", b ,\"=\", c)"
   ]
  },
  {
   "cell_type": "code",
   "execution_count": 42,
   "id": "65fb5a53",
   "metadata": {},
   "outputs": [
    {
     "name": "stdout",
     "output_type": "stream",
     "text": [
      "The sum of 100 and 200 = 300\n",
      "The sum of 100 and 300 = 400\n"
     ]
    }
   ],
   "source": [
    "yoursum(100) # a is but nt b so it considers the default value of b (given in the function)\n",
    "yoursum(100,300) # now both a and b are given and the latest value or the particular given value of b is considered nt the default one."
   ]
  },
  {
   "cell_type": "markdown",
   "id": "c9ce388d",
   "metadata": {},
   "source": [
    "# DEMO:"
   ]
  },
  {
   "cell_type": "code",
   "execution_count": 51,
   "id": "d192ef1c",
   "metadata": {},
   "outputs": [
    {
     "data": {
      "text/plain": [
       "'Write a user defined function which takes a list of the following list of the numbers as an argument [1,3,6,8,10,17].\\nThe function should return the first even number identified and the even number should be printed from the point of function call'"
      ]
     },
     "execution_count": 51,
     "metadata": {},
     "output_type": "execute_result"
    }
   ],
   "source": [
    "'''Write a user defined function which takes a list of the following list of the numbers as an argument [1,3,6,8,10,17].\n",
    "The function should return the first even number identified and the even number should be printed from the point of function call'''"
   ]
  },
  {
   "cell_type": "code",
   "execution_count": 58,
   "id": "469c8895",
   "metadata": {},
   "outputs": [],
   "source": [
    "e = [1,3,6,8,10,17]\n",
    "def even_num(e):\n",
    "    for i in e:\n",
    "        if i%2==0:\n",
    "            return(i)  #for single even value from 'e'\n",
    "            #print(i)  #for all even values from 'e'"
   ]
  },
  {
   "cell_type": "code",
   "execution_count": 59,
   "id": "8e245b57",
   "metadata": {},
   "outputs": [
    {
     "data": {
      "text/plain": [
       "6"
      ]
     },
     "execution_count": 59,
     "metadata": {},
     "output_type": "execute_result"
    }
   ],
   "source": [
    "even_num(e) "
   ]
  },
  {
   "cell_type": "markdown",
   "id": "dd86877d",
   "metadata": {},
   "source": [
    "# LAMBDA FUNCTION:"
   ]
  },
  {
   "cell_type": "code",
   "execution_count": 62,
   "id": "a224a073",
   "metadata": {},
   "outputs": [],
   "source": [
    "# Lambda function is a single line expression function.\n",
    "\n",
    "myfunc2 = lambda a,b:a*b\n",
    "\n",
    "myfunc3 = lambda a,b,c:a+b+c\n",
    "\n",
    "# myfunc2 is the name of the function, it takes two arguments"
   ]
  },
  {
   "cell_type": "code",
   "execution_count": 63,
   "id": "d08973a3",
   "metadata": {},
   "outputs": [
    {
     "name": "stdout",
     "output_type": "stream",
     "text": [
      "200\n",
      "60\n"
     ]
    }
   ],
   "source": [
    "x = myfunc2(10,20)\n",
    "\n",
    "y = myfunc3(10,20,30)\n",
    "\n",
    "print(x)\n",
    "\n",
    "print(y)"
   ]
  },
  {
   "cell_type": "markdown",
   "id": "798893b1",
   "metadata": {},
   "source": [
    "# Understanding Built-in Functions in Python :-\n",
    "# (i)   Filter\n",
    "# (ii)  Map \n",
    "# (iii) Reduce "
   ]
  },
  {
   "cell_type": "code",
   "execution_count": 69,
   "id": "60a0e05f",
   "metadata": {},
   "outputs": [],
   "source": [
    "#funtion syntax \"filter = (function,sequence)\"\n",
    "\n",
    "def numgreaterthan30(j):\n",
    "    return j > 30\n",
    "    #print(j > 30)"
   ]
  },
  {
   "cell_type": "code",
   "execution_count": 70,
   "id": "a7cc6f6d",
   "metadata": {},
   "outputs": [
    {
     "name": "stdout",
     "output_type": "stream",
     "text": [
      "[31, 32, 33, 34, 35, 36, 37, 38, 39, 40, 41, 42, 43, 44, 45, 46, 47, 48, 49]\n"
     ]
    }
   ],
   "source": [
    "num_seq = range(10,50)\n",
    "#print(list(num_seq))\n",
    "\n",
    "new_list = list(filter(numgreaterthan30, num_seq))\n",
    "#new_list = list(filter(lambda x : x > 30, num_seq))\n",
    "\n",
    "print(new_list)"
   ]
  },
  {
   "cell_type": "code",
   "execution_count": 72,
   "id": "036387c9",
   "metadata": {},
   "outputs": [],
   "source": [
    "#function syntax \"reduce = (function,sequence)\" \n",
    "\n",
    "def multiply2num(x,y):\n",
    "    return x * y"
   ]
  },
  {
   "cell_type": "code",
   "execution_count": 74,
   "id": "82a0bb80",
   "metadata": {},
   "outputs": [
    {
     "name": "stdout",
     "output_type": "stream",
     "text": [
      "6\n"
     ]
    }
   ],
   "source": [
    "from functools import reduce\n",
    "\n",
    "product = reduce(multiply2num,[1,2,3])\n",
    "#product = reduce((lambda x , y : x * y),[1,2,3,4]) (extra method without def)\n",
    "\n",
    "print(product)"
   ]
  },
  {
   "cell_type": "code",
   "execution_count": 75,
   "id": "f5836bce",
   "metadata": {},
   "outputs": [],
   "source": [
    "#fuction syntax \"map = (function,sequence)\"\n",
    "\n"
   ]
  },
  {
   "cell_type": "code",
   "execution_count": 78,
   "id": "412a4b49",
   "metadata": {},
   "outputs": [
    {
     "name": "stdout",
     "output_type": "stream",
     "text": [
      "[1, 4, 9, 16, 25]\n"
     ]
    }
   ],
   "source": [
    "data = [1,2,3,4,5]\n",
    "\n",
    "new_list = map((lambda a : a*a),data)\n",
    "#new_list = map((lambda a : a+1),data)\n",
    "\n",
    "print(list(new_list))"
   ]
  },
  {
   "cell_type": "code",
   "execution_count": 1,
   "id": "d3047408",
   "metadata": {},
   "outputs": [],
   "source": [
    "def area_of_circle(r):\n",
    "    return 3.14*r**2\n",
    "\n",
    "if __name__==\"__main--\":\n",
    "    print(area_of_circle(4))\n",
    "    \n",
    "#The 'main' is a function that acts (by default) as a point of execution of any program"
   ]
  },
  {
   "cell_type": "code",
   "execution_count": 2,
   "id": "7d951d94",
   "metadata": {},
   "outputs": [
    {
     "name": "stdout",
     "output_type": "stream",
     "text": [
      "50.24\n"
     ]
    }
   ],
   "source": [
    "def area_of_circle(r):\n",
    "    return 3.14*r**2\n",
    "print(area_of_circle(4))"
   ]
  },
  {
   "cell_type": "markdown",
   "id": "a03b0479",
   "metadata": {},
   "source": [
    "# Built-in Function's (used in strings):"
   ]
  },
  {
   "cell_type": "code",
   "execution_count": 5,
   "id": "228584d2",
   "metadata": {},
   "outputs": [
    {
     "data": {
      "text/plain": [
       "'PYTHON'"
      ]
     },
     "execution_count": 5,
     "metadata": {},
     "output_type": "execute_result"
    }
   ],
   "source": [
    "a = 'python'\n",
    "a.upper()"
   ]
  },
  {
   "cell_type": "code",
   "execution_count": 6,
   "id": "ba292eff",
   "metadata": {},
   "outputs": [
    {
     "data": {
      "text/plain": [
       "'python'"
      ]
     },
     "execution_count": 6,
     "metadata": {},
     "output_type": "execute_result"
    }
   ],
   "source": [
    "b = 'PYTHON'\n",
    "b.lower()"
   ]
  },
  {
   "cell_type": "code",
   "execution_count": 31,
   "id": "3a2ecb3c",
   "metadata": {},
   "outputs": [
    {
     "data": {
      "text/plain": [
       "2"
      ]
     },
     "execution_count": 31,
     "metadata": {},
     "output_type": "execute_result"
    }
   ],
   "source": [
    "c = 'Pythonn'\n",
    "c.count(\"n\")"
   ]
  },
  {
   "cell_type": "code",
   "execution_count": 15,
   "id": "ae102381",
   "metadata": {},
   "outputs": [
    {
     "data": {
      "text/plain": [
       "'Python 3'"
      ]
     },
     "execution_count": 15,
     "metadata": {},
     "output_type": "execute_result"
    }
   ],
   "source": [
    "d = 'Python Language'\n",
    "d.replace('Language','3')"
   ]
  },
  {
   "cell_type": "code",
   "execution_count": 12,
   "id": "2b330d97",
   "metadata": {},
   "outputs": [],
   "source": [
    "str1 = \"data science is easy to learn\""
   ]
  },
  {
   "cell_type": "code",
   "execution_count": 13,
   "id": "b3ea08e6",
   "metadata": {},
   "outputs": [
    {
     "name": "stdout",
     "output_type": "stream",
     "text": [
      "['data', 'science', 'is', 'easy', 'to', 'learn']\n"
     ]
    }
   ],
   "source": [
    "word = str1.split(\" \")\n",
    "print(word)"
   ]
  },
  {
   "cell_type": "code",
   "execution_count": 17,
   "id": "5db0a743",
   "metadata": {},
   "outputs": [],
   "source": [
    "#len() function"
   ]
  },
  {
   "cell_type": "code",
   "execution_count": 19,
   "id": "ec97580b",
   "metadata": {},
   "outputs": [
    {
     "name": "stdout",
     "output_type": "stream",
     "text": [
      "(2, 3, 0, 3, 1, 4, 7, 1)\n",
      "[0, 1, 1, 2, 3, 3, 4, 7]\n",
      "(0, 1, 1, 2, 3, 3, 4, 7)\n"
     ]
    }
   ],
   "source": [
    "tup1 = (2,3,0,3,1,4,7,1)\n",
    "tup3 = sorted(tup1)\n",
    "\n",
    "print(tup1)\n",
    "print(tup3)\n",
    "\n",
    "print(tuple(tup3))"
   ]
  },
  {
   "cell_type": "code",
   "execution_count": 39,
   "id": "6f85c0b5",
   "metadata": {},
   "outputs": [
    {
     "name": "stdout",
     "output_type": "stream",
     "text": [
      "<reversed object at 0x000001B29B6F8D90>\n",
      "(1, 7, 4, 1, 3, 0, 3, 2)\n"
     ]
    }
   ],
   "source": [
    "tup4 = (2,3,0,3,1,4,7,1)\n",
    "tup5 = reversed(tup4)\n",
    "print(tup5)\n",
    "print(tuple(tup5)) #converted list into tuple"
   ]
  },
  {
   "cell_type": "markdown",
   "id": "031e1a37",
   "metadata": {},
   "source": [
    "# \"CALLING FUNCTION INSIDE A FUNCTION\""
   ]
  },
  {
   "cell_type": "code",
   "execution_count": 44,
   "id": "0f1a6152",
   "metadata": {},
   "outputs": [],
   "source": [
    "def check_oddeven(a):\n",
    "    print(\"Inside the function check_oddeven\")\n",
    "    print(a, \"can be odd or even\")\n",
    "    \n",
    "def getnum(b):\n",
    "    print(\"Inside the function getnum\")\n",
    "    check_oddeven(b) #From the getnum function we are now calling another function \"check_oddeven\"\n",
    "    print(\"I'm still inside the getnum\")"
   ]
  },
  {
   "cell_type": "code",
   "execution_count": 45,
   "id": "22c950bf",
   "metadata": {},
   "outputs": [
    {
     "name": "stdout",
     "output_type": "stream",
     "text": [
      "Inside the function getnum\n",
      "Inside the function check_oddeven\n",
      "100 can be odd or even\n",
      "I'm still inside the getnum\n"
     ]
    }
   ],
   "source": [
    "getnum(100) #calling the first function only"
   ]
  },
  {
   "cell_type": "code",
   "execution_count": null,
   "id": "6931b32c",
   "metadata": {},
   "outputs": [],
   "source": []
  },
  {
   "cell_type": "code",
   "execution_count": null,
   "id": "df47428b",
   "metadata": {},
   "outputs": [],
   "source": []
  },
  {
   "cell_type": "code",
   "execution_count": null,
   "id": "f50d3e72",
   "metadata": {},
   "outputs": [],
   "source": []
  },
  {
   "cell_type": "code",
   "execution_count": null,
   "id": "ef5ecd57",
   "metadata": {},
   "outputs": [],
   "source": []
  },
  {
   "cell_type": "code",
   "execution_count": null,
   "id": "5570ea7b",
   "metadata": {},
   "outputs": [],
   "source": []
  },
  {
   "cell_type": "code",
   "execution_count": null,
   "id": "6417c92f",
   "metadata": {},
   "outputs": [],
   "source": []
  }
 ],
 "metadata": {
  "kernelspec": {
   "display_name": "Python 3 (ipykernel)",
   "language": "python",
   "name": "python3"
  },
  "language_info": {
   "codemirror_mode": {
    "name": "ipython",
    "version": 3
   },
   "file_extension": ".py",
   "mimetype": "text/x-python",
   "name": "python",
   "nbconvert_exporter": "python",
   "pygments_lexer": "ipython3",
   "version": "3.10.2"
  }
 },
 "nbformat": 4,
 "nbformat_minor": 5
}

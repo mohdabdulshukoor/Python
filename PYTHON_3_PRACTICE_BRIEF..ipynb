{
 "cells": [
  {
   "cell_type": "markdown",
   "id": "720e8545",
   "metadata": {},
   "source": [
    "# TASK 1"
   ]
  },
  {
   "cell_type": "code",
   "execution_count": 3,
   "id": "15436e37",
   "metadata": {},
   "outputs": [
    {
     "name": "stdout",
     "output_type": "stream",
     "text": [
      "False\n"
     ]
    }
   ],
   "source": [
    "mynames = [\"joe\",\"xoe\",\"world\",\"brad\",\"angelina\",\"world\",\"zuki\",\"tom\",\"paris\",\"world\",\"magic\"]\n",
    "print(\"USA\" in mynames)"
   ]
  },
  {
   "cell_type": "markdown",
   "id": "fc56ebeb",
   "metadata": {},
   "source": [
    "# TASK 2"
   ]
  },
  {
   "cell_type": "code",
   "execution_count": 2,
   "id": "4bc22988",
   "metadata": {},
   "outputs": [
    {
     "name": "stdout",
     "output_type": "stream",
     "text": [
      "'world' is repeated 3 times in mynames list !\n"
     ]
    }
   ],
   "source": [
    "mynames = [\"joe\",\"xoe\",\"world\",\"brad\",\"angelina\",\"world\",\"zuki\",\"tom\",\"paris\",\"world\",\"magic\"]\n",
    "count = mynames.count(\"world\")\n",
    "print(\"'world' is repeated\",count,\"times in mynames list !\")"
   ]
  },
  {
   "cell_type": "markdown",
   "id": "1569ecf1",
   "metadata": {},
   "source": [
    "# TASK 3"
   ]
  },
  {
   "cell_type": "code",
   "execution_count": 2,
   "id": "b3787b07",
   "metadata": {},
   "outputs": [
    {
     "name": "stdout",
     "output_type": "stream",
     "text": [
      "No of Even numbers between 1 t0 30 :  15\n",
      "No of Odd numbers between 1 to 30 :  16\n"
     ]
    }
   ],
   "source": [
    "dataset = list(range(1,30))\n",
    "countE = 0\n",
    "countO = 0\n",
    "for num in dataset:\n",
    "    if(num % 2 == 0):\n",
    "        countE= count1+1\n",
    "    if (num % 2 != 0):\n",
    "        countO=count2+1\n",
    "print(\"No of Even numbers between 1 t0 30 : \",countE)\n",
    "print(\"No of Odd numbers between 1 to 30 : \",countO)"
   ]
  },
  {
   "cell_type": "markdown",
   "id": "23a8fa0e",
   "metadata": {},
   "source": [
    "# TASK 4"
   ]
  },
  {
   "cell_type": "code",
   "execution_count": 117,
   "id": "951efef2",
   "metadata": {},
   "outputs": [
    {
     "name": "stdout",
     "output_type": "stream",
     "text": [
      "[2, 4, 6, 8, 10]\n"
     ]
    }
   ],
   "source": [
    "count = 0\n",
    "dataset = list(range(1,30))\n",
    "l1 = []\n",
    "for i in dataset:\n",
    "    if(i%2==0):\n",
    "        count = count + 1\n",
    "        l1.append(i)\n",
    "        \n",
    "        if count == 5:\n",
    "            break\n",
    "print(l1)     "
   ]
  },
  {
   "cell_type": "markdown",
   "id": "f039b226",
   "metadata": {},
   "source": [
    "# TASK 5"
   ]
  },
  {
   "cell_type": "code",
   "execution_count": 119,
   "id": "58e994b7",
   "metadata": {},
   "outputs": [
    {
     "name": "stdout",
     "output_type": "stream",
     "text": [
      "[1, 3, 5, 7, 9, 11, 13, 15, 17, 19, 21, 23, 25, 27, 29]\n"
     ]
    }
   ],
   "source": [
    "dataset = list(range(1,30))\n",
    "l1 = []\n",
    "for i in dataset:\n",
    "    if(i%2==1):\n",
    "        l1.append(i)\n",
    "        \n",
    "    if(count==2):\n",
    "        break\n",
    "print(l1)     \n"
   ]
  },
  {
   "cell_type": "markdown",
   "id": "fca59111",
   "metadata": {},
   "source": [
    "# TASK 6"
   ]
  },
  {
   "cell_type": "code",
   "execution_count": 2,
   "id": "35445916",
   "metadata": {},
   "outputs": [
    {
     "name": "stdout",
     "output_type": "stream",
     "text": [
      "Enter a limit : 5\n",
      "Enter items : 9\n",
      "Enter items : 10\n",
      "Enter items : 11\n",
      "Enter items : 15\n",
      "Enter items : 19\n",
      "Enter items : 68\n",
      "Enter items : 1\n",
      "Enter items : 6\n",
      "Enter items : 3\n",
      "Enter items : 5\n",
      "['9', '10', '11', '15', '19'] ['68', '1', '6', '3', '5']\n",
      "['9', '10', '11', '15', '19', '68', '1', '6', '3', '5']\n"
     ]
    }
   ],
   "source": [
    "m1 = []\n",
    "n1 = []\n",
    "\n",
    "n = int(input(\"Enter a limit : \"))\n",
    "\n",
    "for i in range(1,n+1):\n",
    "    m=input(\"Enter items : \")\n",
    "    m1.append(m)\n",
    "\n",
    "for j in range(1,n+1):\n",
    "    n=input(\"Enter items : \")\n",
    "    n1.append(n)\n",
    "    \n",
    "print(m1,n1)\n",
    "\n",
    "m1.extend(n1)\n",
    "print(m1)"
   ]
  },
  {
   "cell_type": "markdown",
   "id": "70454253",
   "metadata": {},
   "source": [
    "# TASK 7"
   ]
  },
  {
   "cell_type": "code",
   "execution_count": 4,
   "id": "59a09c56",
   "metadata": {},
   "outputs": [
    {
     "name": "stdout",
     "output_type": "stream",
     "text": [
      "list : [1, 4, 9, 16, 25, 36, 49, 64, 81, 100, 961, 1024, 1089, 1156, 1225, 1296, 1369, 1444, 1521, 1600]\n"
     ]
    }
   ],
   "source": [
    "l1 = []\n",
    "\n",
    "for x in range(1,11):\n",
    "    square = x*x\n",
    "    l1.append(square)\n",
    "    \n",
    "l2 = []\n",
    "\n",
    "for y in range(31,41):\n",
    "    square = y*y\n",
    "    l2.append(square)\n",
    "    \n",
    "l1.extend(l2)\n",
    "print(\"list :\", l1)"
   ]
  },
  {
   "cell_type": "markdown",
   "id": "dd2c1f64",
   "metadata": {},
   "source": [
    "# TASK 8"
   ]
  },
  {
   "cell_type": "code",
   "execution_count": null,
   "id": "08ec3742",
   "metadata": {},
   "outputs": [],
   "source": [
    "num = int(input(\"Enter a number\"))\n",
    "for i in range(1,11):\n",
    "    print(num,\"x\",i,\"=\",num*i)"
   ]
  }
 ],
 "metadata": {
  "kernelspec": {
   "display_name": "Python 3 (ipykernel)",
   "language": "python",
   "name": "python3"
  },
  "language_info": {
   "codemirror_mode": {
    "name": "ipython",
    "version": 3
   },
   "file_extension": ".py",
   "mimetype": "text/x-python",
   "name": "python",
   "nbconvert_exporter": "python",
   "pygments_lexer": "ipython3",
   "version": "3.9.7"
  }
 },
 "nbformat": 4,
 "nbformat_minor": 5
}

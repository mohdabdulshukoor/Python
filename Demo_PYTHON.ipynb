{
 "cells": [
  {
   "cell_type": "markdown",
   "id": "901f86b0",
   "metadata": {},
   "source": [
    "### INTRODUCTION TO PYTHON:"
   ]
  },
  {
   "cell_type": "code",
   "execution_count": 3,
   "id": "769e4e53",
   "metadata": {},
   "outputs": [
    {
     "name": "stdout",
     "output_type": "stream",
     "text": [
      "hello, world !\n"
     ]
    }
   ],
   "source": [
    "print('hello, world !')"
   ]
  },
  {
   "cell_type": "code",
   "execution_count": 4,
   "id": "43cb6b02",
   "metadata": {},
   "outputs": [
    {
     "name": "stdout",
     "output_type": "stream",
     "text": [
      "welcome to python programming\n"
     ]
    }
   ],
   "source": [
    "print('welcome to python programming')"
   ]
  },
  {
   "cell_type": "code",
   "execution_count": 5,
   "id": "01829840",
   "metadata": {},
   "outputs": [
    {
     "name": "stdout",
     "output_type": "stream",
     "text": [
      "coding is fun\n"
     ]
    }
   ],
   "source": [
    "print('coding is fun')"
   ]
  },
  {
   "cell_type": "markdown",
   "id": "4893606a",
   "metadata": {},
   "source": [
    "### SINGLE LINE COMMENT"
   ]
  },
  {
   "cell_type": "code",
   "execution_count": 6,
   "id": "4c0c5796",
   "metadata": {},
   "outputs": [],
   "source": [
    "# HI PYTHON"
   ]
  },
  {
   "cell_type": "markdown",
   "id": "63c80d7c",
   "metadata": {},
   "source": [
    "### MULTIPLE LINE COMMENT"
   ]
  },
  {
   "cell_type": "code",
   "execution_count": 13,
   "id": "b4e4b132",
   "metadata": {},
   "outputs": [
    {
     "data": {
      "text/plain": [
       "'FGSFGH \\nXHJRTRHS \\nUJCYJTUY'"
      ]
     },
     "execution_count": 13,
     "metadata": {},
     "output_type": "execute_result"
    }
   ],
   "source": [
    "\"\"\"FGSFGH \n",
    "XHJRTRHS \n",
    "UJCYJTUY\"\"\" \n"
   ]
  },
  {
   "cell_type": "code",
   "execution_count": 14,
   "id": "bdf073ce",
   "metadata": {},
   "outputs": [
    {
     "data": {
      "text/plain": [
       "'XHBXTH \\nDXHJDYJ \\nGXHJJVBG'"
      ]
     },
     "execution_count": 14,
     "metadata": {},
     "output_type": "execute_result"
    }
   ],
   "source": [
    "'''XHBXTH \n",
    "DXHJDYJ \n",
    "GXHJJVBG'''"
   ]
  },
  {
   "cell_type": "code",
   "execution_count": 20,
   "id": "335f94ac",
   "metadata": {},
   "outputs": [
    {
     "name": "stdout",
     "output_type": "stream",
     "text": [
      "5\n"
     ]
    }
   ],
   "source": [
    "print(5)"
   ]
  },
  {
   "cell_type": "code",
   "execution_count": 21,
   "id": "fb4a93c0",
   "metadata": {},
   "outputs": [
    {
     "name": "stdout",
     "output_type": "stream",
     "text": [
      "3\n"
     ]
    }
   ],
   "source": [
    "1+2"
   ]
  },
  {
   "cell_type": "code",
   "execution_count": 23,
   "id": "87eafc0d",
   "metadata": {},
   "outputs": [
    {
     "data": {
      "text/plain": [
       "24"
      ]
     },
     "execution_count": 23,
     "metadata": {},
     "output_type": "execute_result"
    }
   ],
   "source": [
    "28-4"
   ]
  },
  {
   "cell_type": "code",
   "execution_count": 24,
   "id": "bda4edbc",
   "metadata": {},
   "outputs": [
    {
     "data": {
      "text/plain": [
       "5.0"
      ]
     },
     "execution_count": 24,
     "metadata": {},
     "output_type": "execute_result"
    }
   ],
   "source": [
    "25/5"
   ]
  },
  {
   "cell_type": "code",
   "execution_count": 25,
   "id": "73d9350a",
   "metadata": {},
   "outputs": [
    {
     "data": {
      "text/plain": [
       "10"
      ]
     },
     "execution_count": 25,
     "metadata": {},
     "output_type": "execute_result"
    }
   ],
   "source": [
    "5*2"
   ]
  },
  {
   "cell_type": "code",
   "execution_count": 27,
   "id": "165fcff7",
   "metadata": {},
   "outputs": [
    {
     "name": "stdout",
     "output_type": "stream",
     "text": [
      "5\n",
      "29\n",
      "207\n",
      "0.783068783068783\n",
      "145\n"
     ]
    }
   ],
   "source": [
    "print(5)\n",
    "print(33-4)\n",
    "print(23*9)\n",
    "print(444/567)\n",
    "print(100+45)"
   ]
  },
  {
   "cell_type": "code",
   "execution_count": 65,
   "id": "37319d1c",
   "metadata": {},
   "outputs": [],
   "source": [
    "Value = 'python variables'\n",
    "value = 235\n",
    "a = 43\n",
    "j = 1\n",
    "k = 1\n",
    "i = 1"
   ]
  },
  {
   "cell_type": "code",
   "execution_count": 66,
   "id": "0c2ba95a",
   "metadata": {},
   "outputs": [],
   "source": [
    "i = j = k = 1"
   ]
  },
  {
   "cell_type": "code",
   "execution_count": 67,
   "id": "db8eabcd",
   "metadata": {},
   "outputs": [
    {
     "data": {
      "text/plain": [
       "(1, 1, 1)"
      ]
     },
     "execution_count": 67,
     "metadata": {},
     "output_type": "execute_result"
    }
   ],
   "source": [
    "j,k,i"
   ]
  },
  {
   "cell_type": "code",
   "execution_count": 68,
   "id": "b282a92e",
   "metadata": {},
   "outputs": [],
   "source": [
    "value += 15"
   ]
  },
  {
   "cell_type": "code",
   "execution_count": 69,
   "id": "a0c7d642",
   "metadata": {},
   "outputs": [
    {
     "data": {
      "text/plain": [
       "245"
      ]
     },
     "execution_count": 69,
     "metadata": {},
     "output_type": "execute_result"
    }
   ],
   "source": [
    "value - 5"
   ]
  },
  {
   "cell_type": "code",
   "execution_count": 70,
   "id": "97ed2a83",
   "metadata": {},
   "outputs": [
    {
     "data": {
      "text/plain": [
       "False"
      ]
     },
     "execution_count": 70,
     "metadata": {},
     "output_type": "execute_result"
    }
   ],
   "source": [
    "value > 555"
   ]
  },
  {
   "cell_type": "code",
   "execution_count": 71,
   "id": "87cf3b2d",
   "metadata": {},
   "outputs": [
    {
     "data": {
      "text/plain": [
       "True"
      ]
     },
     "execution_count": 71,
     "metadata": {},
     "output_type": "execute_result"
    }
   ],
   "source": [
    "value < 555"
   ]
  },
  {
   "cell_type": "code",
   "execution_count": 85,
   "id": "83431e76",
   "metadata": {},
   "outputs": [],
   "source": [
    "value += 15"
   ]
  },
  {
   "cell_type": "code",
   "execution_count": 86,
   "id": "69d9e68f",
   "metadata": {},
   "outputs": [
    {
     "data": {
      "text/plain": [
       "280"
      ]
     },
     "execution_count": 86,
     "metadata": {},
     "output_type": "execute_result"
    }
   ],
   "source": [
    "value * 1"
   ]
  },
  {
   "cell_type": "code",
   "execution_count": 87,
   "id": "4c415f54",
   "metadata": {},
   "outputs": [],
   "source": [
    "x = 243546475689\n"
   ]
  },
  {
   "cell_type": "code",
   "execution_count": 88,
   "id": "f2d74ee2",
   "metadata": {},
   "outputs": [],
   "source": [
    "x =+ 1"
   ]
  },
  {
   "cell_type": "code",
   "execution_count": 90,
   "id": "610af6cb",
   "metadata": {},
   "outputs": [
    {
     "data": {
      "text/plain": [
       "int"
      ]
     },
     "execution_count": 90,
     "metadata": {},
     "output_type": "execute_result"
    }
   ],
   "source": [
    "type(a)   #data type of variable"
   ]
  },
  {
   "cell_type": "code",
   "execution_count": 91,
   "id": "33d31b08",
   "metadata": {},
   "outputs": [
    {
     "data": {
      "text/plain": [
       "2354910555760"
      ]
     },
     "execution_count": 91,
     "metadata": {},
     "output_type": "execute_result"
    }
   ],
   "source": [
    "id(a)     #location of the variable"
   ]
  },
  {
   "cell_type": "code",
   "execution_count": 92,
   "id": "97ec53bd",
   "metadata": {},
   "outputs": [],
   "source": [
    "dollar = 456.768\n",
    "area = 356.879"
   ]
  },
  {
   "cell_type": "code",
   "execution_count": 93,
   "id": "854255bb",
   "metadata": {},
   "outputs": [
    {
     "data": {
      "text/plain": [
       "float"
      ]
     },
     "execution_count": 93,
     "metadata": {},
     "output_type": "execute_result"
    }
   ],
   "source": [
    "type(dollar)"
   ]
  },
  {
   "cell_type": "code",
   "execution_count": 94,
   "id": "6d43aa79",
   "metadata": {},
   "outputs": [
    {
     "data": {
      "text/plain": [
       "float"
      ]
     },
     "execution_count": 94,
     "metadata": {},
     "output_type": "execute_result"
    }
   ],
   "source": [
    "type(area)"
   ]
  },
  {
   "cell_type": "code",
   "execution_count": 96,
   "id": "8d2a3a36",
   "metadata": {},
   "outputs": [
    {
     "data": {
      "text/plain": [
       "2.6666666666666665"
      ]
     },
     "execution_count": 96,
     "metadata": {},
     "output_type": "execute_result"
    }
   ],
   "source": [
    "8/3"
   ]
  },
  {
   "cell_type": "code",
   "execution_count": 100,
   "id": "4ff67cdb",
   "metadata": {},
   "outputs": [
    {
     "data": {
      "text/plain": [
       "2"
      ]
     },
     "execution_count": 100,
     "metadata": {},
     "output_type": "execute_result"
    }
   ],
   "source": [
    "8%3"
   ]
  },
  {
   "cell_type": "code",
   "execution_count": 97,
   "id": "7ee30a09",
   "metadata": {},
   "outputs": [
    {
     "data": {
      "text/plain": [
       "2.0"
      ]
     },
     "execution_count": 97,
     "metadata": {},
     "output_type": "execute_result"
    }
   ],
   "source": [
    "4/2"
   ]
  },
  {
   "cell_type": "code",
   "execution_count": 104,
   "id": "a8e78a31",
   "metadata": {},
   "outputs": [
    {
     "data": {
      "text/plain": [
       "4.0"
      ]
     },
     "execution_count": 104,
     "metadata": {},
     "output_type": "execute_result"
    }
   ],
   "source": [
    "1.2+2.8"
   ]
  },
  {
   "cell_type": "code",
   "execution_count": 103,
   "id": "7ce2476f",
   "metadata": {},
   "outputs": [
    {
     "data": {
      "text/plain": [
       "6.8"
      ]
     },
     "execution_count": 103,
     "metadata": {},
     "output_type": "execute_result"
    }
   ],
   "source": [
    "3.4*2"
   ]
  },
  {
   "cell_type": "code",
   "execution_count": 102,
   "id": "c082f7a9",
   "metadata": {},
   "outputs": [
    {
     "data": {
      "text/plain": [
       "2.0"
      ]
     },
     "execution_count": 102,
     "metadata": {},
     "output_type": "execute_result"
    }
   ],
   "source": [
    "4.4/2.2"
   ]
  },
  {
   "cell_type": "code",
   "execution_count": 122,
   "id": "1e88d677",
   "metadata": {},
   "outputs": [
    {
     "name": "stdout",
     "output_type": "stream",
     "text": [
      "john deo\n",
      "data science is a culture john deo 54.56\n"
     ]
    }
   ],
   "source": [
    "quote = \"data science is a culture\"\n",
    "print(name)\n",
    "name = \"john deo\"\n",
    "print(quote,name, area)\n",
    "area = 54.56"
   ]
  },
  {
   "cell_type": "code",
   "execution_count": 127,
   "id": "9a8480c7",
   "metadata": {},
   "outputs": [
    {
     "data": {
      "text/plain": [
       "'hello world '"
      ]
     },
     "execution_count": 127,
     "metadata": {},
     "output_type": "execute_result"
    }
   ],
   "source": [
    "a = \"hello \"\n",
    "b = \"world \"\n",
    "a + b "
   ]
  },
  {
   "cell_type": "code",
   "execution_count": 128,
   "id": "6397ef39",
   "metadata": {},
   "outputs": [
    {
     "data": {
      "text/plain": [
       "'hello hello world '"
      ]
     },
     "execution_count": 128,
     "metadata": {},
     "output_type": "execute_result"
    }
   ],
   "source": [
    "a * 2 + b"
   ]
  },
  {
   "cell_type": "code",
   "execution_count": 129,
   "id": "a83753e3",
   "metadata": {},
   "outputs": [
    {
     "data": {
      "text/plain": [
       "'hello world world '"
      ]
     },
     "execution_count": 129,
     "metadata": {},
     "output_type": "execute_result"
    }
   ],
   "source": [
    "a + b *  2"
   ]
  },
  {
   "cell_type": "code",
   "execution_count": 136,
   "id": "05cfec63",
   "metadata": {},
   "outputs": [
    {
     "name": "stdout",
     "output_type": "stream",
     "text": [
      "5.666666666666667\n",
      "5\n",
      "2\n",
      "25\n",
      "128\n",
      "2.0\n"
     ]
    }
   ],
   "source": [
    "print(17/3)\n",
    "print(17//3)\n",
    "print(17%3)\n",
    "print(5**2)\n",
    "print(2**7)\n",
    "print(4**(1/2))\n"
   ]
  },
  {
   "cell_type": "code",
   "execution_count": 142,
   "id": "9dd3779a",
   "metadata": {},
   "outputs": [
    {
     "name": "stdout",
     "output_type": "stream",
     "text": [
      "False\n",
      "False\n",
      "False\n",
      "True\n",
      "True\n",
      "True\n",
      "True\n",
      "False\n"
     ]
    }
   ],
   "source": [
    "a =  100\n",
    "b = 100\n",
    "print(a != b)\n",
    "print(a > b)\n",
    "print(a < b)\n",
    "print(a >= b)\n",
    "print(a <= b)\n",
    "print(a == b)\n",
    "print(a is b)\n",
    "print(a is not b)\n"
   ]
  },
  {
   "cell_type": "code",
   "execution_count": 144,
   "id": "b590bc60",
   "metadata": {},
   "outputs": [],
   "source": [
    "x = 2\n",
    "y = 2"
   ]
  },
  {
   "cell_type": "code",
   "execution_count": 145,
   "id": "29b6f417",
   "metadata": {},
   "outputs": [
    {
     "name": "stdout",
     "output_type": "stream",
     "text": [
      "True\n"
     ]
    }
   ],
   "source": [
    "print(x is y)"
   ]
  },
  {
   "cell_type": "code",
   "execution_count": 147,
   "id": "591886ca",
   "metadata": {},
   "outputs": [
    {
     "name": "stdout",
     "output_type": "stream",
     "text": [
      "2354910554448 2354910554448\n"
     ]
    }
   ],
   "source": [
    "print(id(x), id(y)) #same location"
   ]
  },
  {
   "cell_type": "code",
   "execution_count": 148,
   "id": "c6e9e0fd",
   "metadata": {},
   "outputs": [
    {
     "data": {
      "text/plain": [
       "2354910555344"
      ]
     },
     "execution_count": 148,
     "metadata": {},
     "output_type": "execute_result"
    }
   ],
   "source": [
    "y = 30 \n",
    "id(y)"
   ]
  },
  {
   "cell_type": "code",
   "execution_count": 149,
   "id": "01ed9ff0",
   "metadata": {},
   "outputs": [
    {
     "data": {
      "text/plain": [
       "False"
      ]
     },
     "execution_count": 149,
     "metadata": {},
     "output_type": "execute_result"
    }
   ],
   "source": [
    "x is y"
   ]
  },
  {
   "cell_type": "code",
   "execution_count": 150,
   "id": "0c279157",
   "metadata": {},
   "outputs": [],
   "source": [
    "x = 2 \n",
    "x = 3"
   ]
  },
  {
   "cell_type": "code",
   "execution_count": 151,
   "id": "4f1f099d",
   "metadata": {},
   "outputs": [
    {
     "name": "stdout",
     "output_type": "stream",
     "text": [
      "2354910554480 2354910555344\n"
     ]
    }
   ],
   "source": [
    "print(id(x), id(y))#different location"
   ]
  },
  {
   "cell_type": "code",
   "execution_count": 152,
   "id": "fb519203",
   "metadata": {},
   "outputs": [],
   "source": [
    "l1 = [1,2,3]  #lists with same numbers but diff. location (memory)\n",
    "l2 = [1,2,3]"
   ]
  },
  {
   "cell_type": "code",
   "execution_count": 153,
   "id": "073e2642",
   "metadata": {},
   "outputs": [
    {
     "data": {
      "text/plain": [
       "False"
      ]
     },
     "execution_count": 153,
     "metadata": {},
     "output_type": "execute_result"
    }
   ],
   "source": [
    "l1 is l2 #because the memory location is diff."
   ]
  },
  {
   "cell_type": "code",
   "execution_count": 154,
   "id": "2d24b0cc",
   "metadata": {},
   "outputs": [
    {
     "name": "stdout",
     "output_type": "stream",
     "text": [
      "2354992344064 2354991459072\n"
     ]
    }
   ],
   "source": [
    "print(id(l1),id(l2)) #diff. location"
   ]
  },
  {
   "cell_type": "code",
   "execution_count": 155,
   "id": "065fb169",
   "metadata": {},
   "outputs": [
    {
     "data": {
      "text/plain": [
       "True"
      ]
     },
     "execution_count": 155,
     "metadata": {},
     "output_type": "execute_result"
    }
   ],
   "source": [
    "l1 == l2  #just checking the values similarity in both lists "
   ]
  },
  {
   "cell_type": "code",
   "execution_count": 156,
   "id": "74308608",
   "metadata": {},
   "outputs": [
    {
     "data": {
      "text/plain": [
       "True"
      ]
     },
     "execution_count": 156,
     "metadata": {},
     "output_type": "execute_result"
    }
   ],
   "source": [
    "'data science' in 'data science is culture' #case sensitive"
   ]
  },
  {
   "cell_type": "code",
   "execution_count": 157,
   "id": "ffff2557",
   "metadata": {},
   "outputs": [
    {
     "data": {
      "text/plain": [
       "False"
      ]
     },
     "execution_count": 157,
     "metadata": {},
     "output_type": "execute_result"
    }
   ],
   "source": [
    "'data science' in 'Data science is culture' #case sensitive"
   ]
  },
  {
   "cell_type": "code",
   "execution_count": 159,
   "id": "1e02dfff",
   "metadata": {},
   "outputs": [
    {
     "data": {
      "text/plain": [
       "178"
      ]
     },
     "execution_count": 159,
     "metadata": {},
     "output_type": "execute_result"
    }
   ],
   "source": [
    "50 + (32 * 4)"
   ]
  },
  {
   "cell_type": "code",
   "execution_count": 160,
   "id": "453cbf6f",
   "metadata": {},
   "outputs": [
    {
     "data": {
      "text/plain": [
       "35.0"
      ]
     },
     "execution_count": 160,
     "metadata": {},
     "output_type": "execute_result"
    }
   ],
   "source": [
    "(10 * 3) + (25 / 5)"
   ]
  },
  {
   "cell_type": "code",
   "execution_count": 161,
   "id": "c3f87c59",
   "metadata": {},
   "outputs": [
    {
     "data": {
      "text/plain": [
       "2417851639229258349412352"
      ]
     },
     "execution_count": 161,
     "metadata": {},
     "output_type": "execute_result"
    }
   ],
   "source": [
    "2 ** (3 ** 4)"
   ]
  },
  {
   "cell_type": "code",
   "execution_count": 163,
   "id": "64c4b2f6",
   "metadata": {},
   "outputs": [
    {
     "data": {
      "text/plain": [
       "26"
      ]
     },
     "execution_count": 163,
     "metadata": {},
     "output_type": "execute_result"
    }
   ],
   "source": [
    "3 + 5 + 9 * 2\n",
    "#((3 + 5) + (9 * 2))"
   ]
  },
  {
   "cell_type": "code",
   "execution_count": 164,
   "id": "70fad5f2",
   "metadata": {},
   "outputs": [
    {
     "data": {
      "text/plain": [
       "6"
      ]
     },
     "execution_count": 164,
     "metadata": {},
     "output_type": "execute_result"
    }
   ],
   "source": [
    "#what is the precedence order?\n",
    "(5 + 3) - 2"
   ]
  },
  {
   "cell_type": "code",
   "execution_count": 165,
   "id": "0c2a7076",
   "metadata": {},
   "outputs": [
    {
     "data": {
      "text/plain": [
       "0"
      ]
     },
     "execution_count": 165,
     "metadata": {},
     "output_type": "execute_result"
    }
   ],
   "source": [
    "5 - (2 + 3)"
   ]
  },
  {
   "cell_type": "code",
   "execution_count": 167,
   "id": "57cdde71",
   "metadata": {},
   "outputs": [
    {
     "data": {
      "text/plain": [
       "6.0"
      ]
     },
     "execution_count": 167,
     "metadata": {},
     "output_type": "execute_result"
    }
   ],
   "source": [
    "#4 + 3 ** 2/3 - 1\n",
    "(4 + (3 ** 2) / (3))-1"
   ]
  },
  {
   "cell_type": "code",
   "execution_count": 168,
   "id": "5011f64e",
   "metadata": {},
   "outputs": [
    {
     "data": {
      "text/plain": [
       "1"
      ]
     },
     "execution_count": 168,
     "metadata": {},
     "output_type": "execute_result"
    }
   ],
   "source": [
    "#5 * 2 % 3\n",
    "(5 * 2) % 3"
   ]
  },
  {
   "cell_type": "code",
   "execution_count": 169,
   "id": "d4b76827",
   "metadata": {},
   "outputs": [
    {
     "data": {
      "text/plain": [
       "26"
      ]
     },
     "execution_count": 169,
     "metadata": {},
     "output_type": "execute_result"
    }
   ],
   "source": [
    "#3 + 5 + 9 * 2\n",
    "(3 + 5) + (9 * 2)"
   ]
  },
  {
   "cell_type": "code",
   "execution_count": null,
   "id": "b18fbdcc",
   "metadata": {},
   "outputs": [],
   "source": []
  },
  {
   "cell_type": "code",
   "execution_count": null,
   "id": "3f933382",
   "metadata": {},
   "outputs": [],
   "source": []
  },
  {
   "cell_type": "code",
   "execution_count": null,
   "id": "a9ea3b9a",
   "metadata": {},
   "outputs": [],
   "source": []
  },
  {
   "cell_type": "code",
   "execution_count": null,
   "id": "2115415a",
   "metadata": {},
   "outputs": [],
   "source": []
  },
  {
   "cell_type": "code",
   "execution_count": null,
   "id": "94957113",
   "metadata": {},
   "outputs": [],
   "source": []
  },
  {
   "cell_type": "code",
   "execution_count": null,
   "id": "fe4b9798",
   "metadata": {},
   "outputs": [],
   "source": []
  },
  {
   "cell_type": "code",
   "execution_count": null,
   "id": "a50d68bd",
   "metadata": {},
   "outputs": [],
   "source": []
  },
  {
   "cell_type": "code",
   "execution_count": null,
   "id": "4422ba8e",
   "metadata": {},
   "outputs": [],
   "source": []
  },
  {
   "cell_type": "code",
   "execution_count": null,
   "id": "3ec28748",
   "metadata": {},
   "outputs": [],
   "source": []
  }
 ],
 "metadata": {
  "kernelspec": {
   "display_name": "Python 3 (ipykernel)",
   "language": "python",
   "name": "python3"
  },
  "language_info": {
   "codemirror_mode": {
    "name": "ipython",
    "version": 3
   },
   "file_extension": ".py",
   "mimetype": "text/x-python",
   "name": "python",
   "nbconvert_exporter": "python",
   "pygments_lexer": "ipython3",
   "version": "3.9.7"
  }
 },
 "nbformat": 4,
 "nbformat_minor": 5
}

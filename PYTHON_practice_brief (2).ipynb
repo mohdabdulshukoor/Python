{
 "cells": [
  {
   "cell_type": "markdown",
   "id": "27c5ce74",
   "metadata": {},
   "source": [
    "# TASK 1"
   ]
  },
  {
   "cell_type": "code",
   "execution_count": 1,
   "id": "31f36da2",
   "metadata": {},
   "outputs": [
    {
     "name": "stdout",
     "output_type": "stream",
     "text": [
      "enter an alphabet - \n",
      "HOLIDAY\n"
     ]
    }
   ],
   "source": [
    "A = input(\"enter an alphabet - \")\n",
    "if A==\"a\":\n",
    "    print(\"PYTHON\")\n",
    "elif A==\"b\":\n",
    "        print(\"MYSQL\")\n",
    "elif A==\"c\":\n",
    "            print(\"EXCEL\")\n",
    "else:\n",
    "    print(\"HOLIDAY\")"
   ]
  },
  {
   "cell_type": "markdown",
   "id": "2a8b28b5",
   "metadata": {},
   "source": [
    "# TASK 2"
   ]
  },
  {
   "cell_type": "code",
   "execution_count": 2,
   "id": "6d165e58",
   "metadata": {},
   "outputs": [
    {
     "name": "stdout",
     "output_type": "stream",
     "text": [
      "num1 5\n",
      "num2 9\n",
      "num2 is greater than num1\n"
     ]
    }
   ],
   "source": [
    "num1=int(input(\"num1 \"))\n",
    "num2=int(input(\"num2 \"))\n",
    "if (num1>num2):\n",
    "    print(\"num1 is greater than num2\")\n",
    "elif(num1<num2):\n",
    "    print(\"num2 is greater than num1\")\n",
    "else:\n",
    "    print(\"both the numbers are equal\")"
   ]
  },
  {
   "cell_type": "markdown",
   "id": "4e02bdfc",
   "metadata": {},
   "source": [
    "# TASK 3"
   ]
  },
  {
   "cell_type": "code",
   "execution_count": 4,
   "id": "e4ac645f",
   "metadata": {},
   "outputs": [
    {
     "name": "stdout",
     "output_type": "stream",
     "text": [
      "enter your basic_salary : 100\n",
      "100.5\n"
     ]
    }
   ],
   "source": [
    "basic_salary = int(input(\"enter your basic_salary : \"))\n",
    "if (basic_salary <= 4000):\n",
    "    print(basic_salary + (basic_salary*(0.10*0.05)))\n",
    "else(basic_salary 4001>10000 ):\n",
    "    print(basic_salary + (basic_salary*(0.20*0.10*0.15)))\n",
    "else(basic_salary > 100000):\n",
    "    print(basic_salary + (basic_salary*(0.25*0.))"
   ]
  },
  {
   "cell_type": "code",
   "execution_count": null,
   "id": "4d529b89",
   "metadata": {},
   "outputs": [],
   "source": []
  },
  {
   "cell_type": "code",
   "execution_count": null,
   "id": "629a261b",
   "metadata": {},
   "outputs": [],
   "source": []
  }
 ],
 "metadata": {
  "kernelspec": {
   "display_name": "Python 3 (ipykernel)",
   "language": "python",
   "name": "python3"
  },
  "language_info": {
   "codemirror_mode": {
    "name": "ipython",
    "version": 3
   },
   "file_extension": ".py",
   "mimetype": "text/x-python",
   "name": "python",
   "nbconvert_exporter": "python",
   "pygments_lexer": "ipython3",
   "version": "3.9.7"
  }
 },
 "nbformat": 4,
 "nbformat_minor": 5
}

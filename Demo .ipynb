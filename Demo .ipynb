{
 "cells": [
  {
   "cell_type": "markdown",
   "id": "63d31df0",
   "metadata": {},
   "source": [
    "### INTRODUCTION TO PYTHON:"
   ]
  },
  {
   "cell_type": "code",
   "execution_count": 3,
   "id": "4c3a3797",
   "metadata": {},
   "outputs": [
    {
     "name": "stdout",
     "output_type": "stream",
     "text": [
      "hello, world !\n"
     ]
    }
   ],
   "source": [
    "print('hello, world !')"
   ]
  },
  {
   "cell_type": "code",
   "execution_count": 4,
   "id": "bc9d25a4",
   "metadata": {},
   "outputs": [
    {
     "name": "stdout",
     "output_type": "stream",
     "text": [
      "welcome to python programming\n"
     ]
    }
   ],
   "source": [
    "print('welcome to python programming')"
   ]
  },
  {
   "cell_type": "code",
   "execution_count": 5,
   "id": "49eea253",
   "metadata": {},
   "outputs": [
    {
     "name": "stdout",
     "output_type": "stream",
     "text": [
      "coding is fun\n"
     ]
    }
   ],
   "source": [
    "print('coding is fun')"
   ]
  },
  {
   "cell_type": "markdown",
   "id": "4b11eacc",
   "metadata": {},
   "source": [
    "### SINGLE LINE COMMENT"
   ]
  },
  {
   "cell_type": "code",
   "execution_count": 6,
   "id": "bb6e4651",
   "metadata": {},
   "outputs": [],
   "source": [
    "# HI PYTHON"
   ]
  },
  {
   "cell_type": "markdown",
   "id": "70433409",
   "metadata": {},
   "source": [
    "### MULTIPLE LINE COMMENT"
   ]
  },
  {
   "cell_type": "code",
   "execution_count": 13,
   "id": "894c9bdb",
   "metadata": {},
   "outputs": [
    {
     "data": {
      "text/plain": [
       "'FGSFGH \\nXHJRTRHS \\nUJCYJTUY'"
      ]
     },
     "execution_count": 13,
     "metadata": {},
     "output_type": "execute_result"
    }
   ],
   "source": [
    "\"\"\"FGSFGH \n",
    "XHJRTRHS \n",
    "UJCYJTUY\"\"\" \n"
   ]
  },
  {
   "cell_type": "code",
   "execution_count": 14,
   "id": "d3fb3087",
   "metadata": {},
   "outputs": [
    {
     "data": {
      "text/plain": [
       "'XHBXTH \\nDXHJDYJ \\nGXHJJVBG'"
      ]
     },
     "execution_count": 14,
     "metadata": {},
     "output_type": "execute_result"
    }
   ],
   "source": [
    "'''XHBXTH \n",
    "DXHJDYJ \n",
    "GXHJJVBG'''"
   ]
  },
  {
   "cell_type": "code",
   "execution_count": 20,
   "id": "363950bb",
   "metadata": {},
   "outputs": [
    {
     "name": "stdout",
     "output_type": "stream",
     "text": [
      "5\n"
     ]
    }
   ],
   "source": [
    "print(5)"
   ]
  },
  {
   "cell_type": "code",
   "execution_count": 21,
   "id": "f6296fdb",
   "metadata": {},
   "outputs": [
    {
     "name": "stdout",
     "output_type": "stream",
     "text": [
      "3\n"
     ]
    }
   ],
   "source": [
    "1+2"
   ]
  },
  {
   "cell_type": "code",
   "execution_count": 23,
   "id": "7ee163d5",
   "metadata": {},
   "outputs": [
    {
     "data": {
      "text/plain": [
       "24"
      ]
     },
     "execution_count": 23,
     "metadata": {},
     "output_type": "execute_result"
    }
   ],
   "source": [
    "28-4"
   ]
  },
  {
   "cell_type": "code",
   "execution_count": 24,
   "id": "c8b70a10",
   "metadata": {},
   "outputs": [
    {
     "data": {
      "text/plain": [
       "5.0"
      ]
     },
     "execution_count": 24,
     "metadata": {},
     "output_type": "execute_result"
    }
   ],
   "source": [
    "25/5"
   ]
  },
  {
   "cell_type": "code",
   "execution_count": 25,
   "id": "18808547",
   "metadata": {},
   "outputs": [
    {
     "data": {
      "text/plain": [
       "10"
      ]
     },
     "execution_count": 25,
     "metadata": {},
     "output_type": "execute_result"
    }
   ],
   "source": [
    "5*2"
   ]
  },
  {
   "cell_type": "code",
   "execution_count": 27,
   "id": "8595b411",
   "metadata": {},
   "outputs": [
    {
     "name": "stdout",
     "output_type": "stream",
     "text": [
      "5\n",
      "29\n",
      "207\n",
      "0.783068783068783\n",
      "145\n"
     ]
    }
   ],
   "source": [
    "print(5)\n",
    "print(33-4)\n",
    "print(23*9)\n",
    "print(444/567)\n",
    "print(100+45)"
   ]
  },
  {
   "cell_type": "code",
   "execution_count": 65,
   "id": "f68c0568",
   "metadata": {},
   "outputs": [],
   "source": [
    "Value = 'python variables'\n",
    "value = 235\n",
    "a = 43\n",
    "j = 1\n",
    "k = 1\n",
    "i = 1"
   ]
  },
  {
   "cell_type": "code",
   "execution_count": 66,
   "id": "93fe9766",
   "metadata": {},
   "outputs": [],
   "source": [
    "i = j = k = 1"
   ]
  },
  {
   "cell_type": "code",
   "execution_count": 67,
   "id": "007f66a2",
   "metadata": {},
   "outputs": [
    {
     "data": {
      "text/plain": [
       "(1, 1, 1)"
      ]
     },
     "execution_count": 67,
     "metadata": {},
     "output_type": "execute_result"
    }
   ],
   "source": [
    "j,k,i"
   ]
  },
  {
   "cell_type": "code",
   "execution_count": 68,
   "id": "53e5cc96",
   "metadata": {},
   "outputs": [],
   "source": [
    "value += 15"
   ]
  },
  {
   "cell_type": "code",
   "execution_count": 69,
   "id": "4a02b08f",
   "metadata": {},
   "outputs": [
    {
     "data": {
      "text/plain": [
       "245"
      ]
     },
     "execution_count": 69,
     "metadata": {},
     "output_type": "execute_result"
    }
   ],
   "source": [
    "value - 5"
   ]
  },
  {
   "cell_type": "code",
   "execution_count": 70,
   "id": "1d982a17",
   "metadata": {},
   "outputs": [
    {
     "data": {
      "text/plain": [
       "False"
      ]
     },
     "execution_count": 70,
     "metadata": {},
     "output_type": "execute_result"
    }
   ],
   "source": [
    "value > 555"
   ]
  },
  {
   "cell_type": "code",
   "execution_count": 71,
   "id": "c54e336a",
   "metadata": {},
   "outputs": [
    {
     "data": {
      "text/plain": [
       "True"
      ]
     },
     "execution_count": 71,
     "metadata": {},
     "output_type": "execute_result"
    }
   ],
   "source": [
    "value < 555"
   ]
  },
  {
   "cell_type": "code",
   "execution_count": 85,
   "id": "2c9560e2",
   "metadata": {},
   "outputs": [],
   "source": [
    "value += 15"
   ]
  },
  {
   "cell_type": "code",
   "execution_count": 86,
   "id": "567d31ba",
   "metadata": {},
   "outputs": [
    {
     "data": {
      "text/plain": [
       "280"
      ]
     },
     "execution_count": 86,
     "metadata": {},
     "output_type": "execute_result"
    }
   ],
   "source": [
    "value * 1"
   ]
  },
  {
   "cell_type": "code",
   "execution_count": 87,
   "id": "d162b3d9",
   "metadata": {},
   "outputs": [],
   "source": [
    "x = 243546475689\n"
   ]
  },
  {
   "cell_type": "code",
   "execution_count": 88,
   "id": "3a5609c3",
   "metadata": {},
   "outputs": [],
   "source": [
    "x =+ 1"
   ]
  },
  {
   "cell_type": "code",
   "execution_count": 90,
   "id": "52eb2428",
   "metadata": {},
   "outputs": [
    {
     "data": {
      "text/plain": [
       "int"
      ]
     },
     "execution_count": 90,
     "metadata": {},
     "output_type": "execute_result"
    }
   ],
   "source": [
    "type(a)   #data type of variable"
   ]
  },
  {
   "cell_type": "code",
   "execution_count": 91,
   "id": "b8181a20",
   "metadata": {},
   "outputs": [
    {
     "data": {
      "text/plain": [
       "2354910555760"
      ]
     },
     "execution_count": 91,
     "metadata": {},
     "output_type": "execute_result"
    }
   ],
   "source": [
    "id(a)     #location of the variable"
   ]
  },
  {
   "cell_type": "code",
   "execution_count": 92,
   "id": "c1641fa1",
   "metadata": {},
   "outputs": [],
   "source": [
    "dollar = 456.768\n",
    "area = 356.879"
   ]
  },
  {
   "cell_type": "code",
   "execution_count": 93,
   "id": "379633ca",
   "metadata": {},
   "outputs": [
    {
     "data": {
      "text/plain": [
       "float"
      ]
     },
     "execution_count": 93,
     "metadata": {},
     "output_type": "execute_result"
    }
   ],
   "source": [
    "type(dollar)"
   ]
  },
  {
   "cell_type": "code",
   "execution_count": 94,
   "id": "fa6d71f8",
   "metadata": {},
   "outputs": [
    {
     "data": {
      "text/plain": [
       "float"
      ]
     },
     "execution_count": 94,
     "metadata": {},
     "output_type": "execute_result"
    }
   ],
   "source": [
    "type(area)"
   ]
  },
  {
   "cell_type": "code",
   "execution_count": 96,
   "id": "5453fe59",
   "metadata": {},
   "outputs": [
    {
     "data": {
      "text/plain": [
       "2.6666666666666665"
      ]
     },
     "execution_count": 96,
     "metadata": {},
     "output_type": "execute_result"
    }
   ],
   "source": [
    "8/3"
   ]
  },
  {
   "cell_type": "code",
   "execution_count": 100,
   "id": "b1466a3e",
   "metadata": {},
   "outputs": [
    {
     "data": {
      "text/plain": [
       "2"
      ]
     },
     "execution_count": 100,
     "metadata": {},
     "output_type": "execute_result"
    }
   ],
   "source": [
    "8%3"
   ]
  },
  {
   "cell_type": "code",
   "execution_count": 97,
   "id": "0a38e163",
   "metadata": {},
   "outputs": [
    {
     "data": {
      "text/plain": [
       "2.0"
      ]
     },
     "execution_count": 97,
     "metadata": {},
     "output_type": "execute_result"
    }
   ],
   "source": [
    "4/2"
   ]
  },
  {
   "cell_type": "code",
   "execution_count": 104,
   "id": "4d5e25bd",
   "metadata": {},
   "outputs": [
    {
     "data": {
      "text/plain": [
       "4.0"
      ]
     },
     "execution_count": 104,
     "metadata": {},
     "output_type": "execute_result"
    }
   ],
   "source": [
    "1.2+2.8"
   ]
  },
  {
   "cell_type": "code",
   "execution_count": 103,
   "id": "3610c77e",
   "metadata": {},
   "outputs": [
    {
     "data": {
      "text/plain": [
       "6.8"
      ]
     },
     "execution_count": 103,
     "metadata": {},
     "output_type": "execute_result"
    }
   ],
   "source": [
    "3.4*2"
   ]
  },
  {
   "cell_type": "code",
   "execution_count": 102,
   "id": "ae88d916",
   "metadata": {},
   "outputs": [
    {
     "data": {
      "text/plain": [
       "2.0"
      ]
     },
     "execution_count": 102,
     "metadata": {},
     "output_type": "execute_result"
    }
   ],
   "source": [
    "4.4/2.2"
   ]
  },
  {
   "cell_type": "code",
   "execution_count": 122,
   "id": "80e184cf",
   "metadata": {},
   "outputs": [
    {
     "name": "stdout",
     "output_type": "stream",
     "text": [
      "john deo\n",
      "data science is a culture john deo 54.56\n"
     ]
    }
   ],
   "source": [
    "quote = \"data science is a culture\"\n",
    "print(name)\n",
    "name = \"john deo\"\n",
    "print(quote,name, area)\n",
    "area = 54.56"
   ]
  },
  {
   "cell_type": "code",
   "execution_count": 127,
   "id": "a4e95def",
   "metadata": {},
   "outputs": [
    {
     "data": {
      "text/plain": [
       "'hello world '"
      ]
     },
     "execution_count": 127,
     "metadata": {},
     "output_type": "execute_result"
    }
   ],
   "source": [
    "a = \"hello \"\n",
    "b = \"world \"\n",
    "a + b "
   ]
  },
  {
   "cell_type": "code",
   "execution_count": 128,
   "id": "a34c23f5",
   "metadata": {},
   "outputs": [
    {
     "data": {
      "text/plain": [
       "'hello hello world '"
      ]
     },
     "execution_count": 128,
     "metadata": {},
     "output_type": "execute_result"
    }
   ],
   "source": [
    "a * 2 + b"
   ]
  },
  {
   "cell_type": "code",
   "execution_count": 129,
   "id": "9d806a47",
   "metadata": {},
   "outputs": [
    {
     "data": {
      "text/plain": [
       "'hello world world '"
      ]
     },
     "execution_count": 129,
     "metadata": {},
     "output_type": "execute_result"
    }
   ],
   "source": [
    "a + b *  2"
   ]
  },
  {
   "cell_type": "code",
   "execution_count": 136,
   "id": "974dcede",
   "metadata": {},
   "outputs": [
    {
     "name": "stdout",
     "output_type": "stream",
     "text": [
      "5.666666666666667\n",
      "5\n",
      "2\n",
      "25\n",
      "128\n",
      "2.0\n"
     ]
    }
   ],
   "source": [
    "print(17/3)\n",
    "print(17//3)\n",
    "print(17%3)\n",
    "print(5**2)\n",
    "print(2**7)\n",
    "print(4**(1/2))\n"
   ]
  },
  {
   "cell_type": "code",
   "execution_count": 142,
   "id": "5cd1ef2c",
   "metadata": {},
   "outputs": [
    {
     "name": "stdout",
     "output_type": "stream",
     "text": [
      "False\n",
      "False\n",
      "False\n",
      "True\n",
      "True\n",
      "True\n",
      "True\n",
      "False\n"
     ]
    }
   ],
   "source": [
    "a =  100\n",
    "b = 100\n",
    "print(a != b)\n",
    "print(a > b)\n",
    "print(a < b)\n",
    "print(a >= b)\n",
    "print(a <= b)\n",
    "print(a == b)\n",
    "print(a is b)\n",
    "print(a is not b)\n"
   ]
  },
  {
   "cell_type": "code",
   "execution_count": 144,
   "id": "4be08183",
   "metadata": {},
   "outputs": [],
   "source": [
    "x = 2\n",
    "y = 2"
   ]
  },
  {
   "cell_type": "code",
   "execution_count": 145,
   "id": "02d005ed",
   "metadata": {},
   "outputs": [
    {
     "name": "stdout",
     "output_type": "stream",
     "text": [
      "True\n"
     ]
    }
   ],
   "source": [
    "print(x is y)"
   ]
  },
  {
   "cell_type": "code",
   "execution_count": 147,
   "id": "b7846336",
   "metadata": {},
   "outputs": [
    {
     "name": "stdout",
     "output_type": "stream",
     "text": [
      "2354910554448 2354910554448\n"
     ]
    }
   ],
   "source": [
    "print(id(x), id(y)) #same location"
   ]
  },
  {
   "cell_type": "code",
   "execution_count": 148,
   "id": "fe99479b",
   "metadata": {},
   "outputs": [
    {
     "data": {
      "text/plain": [
       "2354910555344"
      ]
     },
     "execution_count": 148,
     "metadata": {},
     "output_type": "execute_result"
    }
   ],
   "source": [
    "y = 30 \n",
    "id(y)"
   ]
  },
  {
   "cell_type": "code",
   "execution_count": 149,
   "id": "4048b4e8",
   "metadata": {},
   "outputs": [
    {
     "data": {
      "text/plain": [
       "False"
      ]
     },
     "execution_count": 149,
     "metadata": {},
     "output_type": "execute_result"
    }
   ],
   "source": [
    "x is y"
   ]
  },
  {
   "cell_type": "code",
   "execution_count": 150,
   "id": "1cb71f1c",
   "metadata": {},
   "outputs": [],
   "source": [
    "x = 2 \n",
    "x = 3"
   ]
  },
  {
   "cell_type": "code",
   "execution_count": 151,
   "id": "964c1436",
   "metadata": {},
   "outputs": [
    {
     "name": "stdout",
     "output_type": "stream",
     "text": [
      "2354910554480 2354910555344\n"
     ]
    }
   ],
   "source": [
    "print(id(x), id(y))#different location"
   ]
  },
  {
   "cell_type": "code",
   "execution_count": 152,
   "id": "86cc728c",
   "metadata": {},
   "outputs": [],
   "source": [
    "l1 = [1,2,3]  #lists with same numbers but diff. location (memory)\n",
    "l2 = [1,2,3]"
   ]
  },
  {
   "cell_type": "code",
   "execution_count": 153,
   "id": "0046261b",
   "metadata": {},
   "outputs": [
    {
     "data": {
      "text/plain": [
       "False"
      ]
     },
     "execution_count": 153,
     "metadata": {},
     "output_type": "execute_result"
    }
   ],
   "source": [
    "l1 is l2 #because the memory location is diff."
   ]
  },
  {
   "cell_type": "code",
   "execution_count": 154,
   "id": "215960fb",
   "metadata": {},
   "outputs": [
    {
     "name": "stdout",
     "output_type": "stream",
     "text": [
      "2354992344064 2354991459072\n"
     ]
    }
   ],
   "source": [
    "print(id(l1),id(l2)) #diff. location"
   ]
  },
  {
   "cell_type": "code",
   "execution_count": 155,
   "id": "5193fcdf",
   "metadata": {},
   "outputs": [
    {
     "data": {
      "text/plain": [
       "True"
      ]
     },
     "execution_count": 155,
     "metadata": {},
     "output_type": "execute_result"
    }
   ],
   "source": [
    "l1 == l2  #just checking the values similarity in both lists "
   ]
  },
  {
   "cell_type": "code",
   "execution_count": 156,
   "id": "726d1928",
   "metadata": {},
   "outputs": [
    {
     "data": {
      "text/plain": [
       "True"
      ]
     },
     "execution_count": 156,
     "metadata": {},
     "output_type": "execute_result"
    }
   ],
   "source": [
    "'data science' in 'data science is culture' #case sensitive"
   ]
  },
  {
   "cell_type": "code",
   "execution_count": 157,
   "id": "5d360802",
   "metadata": {},
   "outputs": [
    {
     "data": {
      "text/plain": [
       "False"
      ]
     },
     "execution_count": 157,
     "metadata": {},
     "output_type": "execute_result"
    }
   ],
   "source": [
    "'data science' in 'Data science is culture' #case sensitive"
   ]
  },
  {
   "cell_type": "code",
   "execution_count": 159,
   "id": "62a45f73",
   "metadata": {},
   "outputs": [
    {
     "data": {
      "text/plain": [
       "178"
      ]
     },
     "execution_count": 159,
     "metadata": {},
     "output_type": "execute_result"
    }
   ],
   "source": [
    "50 + (32 * 4)"
   ]
  },
  {
   "cell_type": "code",
   "execution_count": 160,
   "id": "127adc6c",
   "metadata": {},
   "outputs": [
    {
     "data": {
      "text/plain": [
       "35.0"
      ]
     },
     "execution_count": 160,
     "metadata": {},
     "output_type": "execute_result"
    }
   ],
   "source": [
    "(10 * 3) + (25 / 5)"
   ]
  },
  {
   "cell_type": "code",
   "execution_count": 161,
   "id": "41232bc6",
   "metadata": {},
   "outputs": [
    {
     "data": {
      "text/plain": [
       "2417851639229258349412352"
      ]
     },
     "execution_count": 161,
     "metadata": {},
     "output_type": "execute_result"
    }
   ],
   "source": [
    "2 ** (3 ** 4)"
   ]
  },
  {
   "cell_type": "code",
   "execution_count": 163,
   "id": "7c98ccf2",
   "metadata": {},
   "outputs": [
    {
     "data": {
      "text/plain": [
       "26"
      ]
     },
     "execution_count": 163,
     "metadata": {},
     "output_type": "execute_result"
    }
   ],
   "source": [
    "3 + 5 + 9 * 2\n",
    "#((3 + 5) + (9 * 2))"
   ]
  },
  {
   "cell_type": "code",
   "execution_count": 164,
   "id": "f6c80610",
   "metadata": {},
   "outputs": [
    {
     "data": {
      "text/plain": [
       "6"
      ]
     },
     "execution_count": 164,
     "metadata": {},
     "output_type": "execute_result"
    }
   ],
   "source": [
    "#what is the precedence order?\n",
    "(5 + 3) - 2"
   ]
  },
  {
   "cell_type": "code",
   "execution_count": 165,
   "id": "c4f592a1",
   "metadata": {},
   "outputs": [
    {
     "data": {
      "text/plain": [
       "0"
      ]
     },
     "execution_count": 165,
     "metadata": {},
     "output_type": "execute_result"
    }
   ],
   "source": [
    "5 - (2 + 3)"
   ]
  },
  {
   "cell_type": "code",
   "execution_count": 167,
   "id": "9a4663f6",
   "metadata": {},
   "outputs": [
    {
     "data": {
      "text/plain": [
       "6.0"
      ]
     },
     "execution_count": 167,
     "metadata": {},
     "output_type": "execute_result"
    }
   ],
   "source": [
    "#4 + 3 ** 2/3 - 1\n",
    "(4 + (3 ** 2) / (3))-1"
   ]
  },
  {
   "cell_type": "code",
   "execution_count": 168,
   "id": "18e1e325",
   "metadata": {},
   "outputs": [
    {
     "data": {
      "text/plain": [
       "1"
      ]
     },
     "execution_count": 168,
     "metadata": {},
     "output_type": "execute_result"
    }
   ],
   "source": [
    "#5 * 2 % 3\n",
    "(5 * 2) % 3"
   ]
  },
  {
   "cell_type": "code",
   "execution_count": 169,
   "id": "8f073dfd",
   "metadata": {},
   "outputs": [
    {
     "data": {
      "text/plain": [
       "26"
      ]
     },
     "execution_count": 169,
     "metadata": {},
     "output_type": "execute_result"
    }
   ],
   "source": [
    "#3 + 5 + 9 * 2\n",
    "(3 + 5) + (9 * 2)"
   ]
  },
  {
   "cell_type": "code",
   "execution_count": null,
   "id": "8482fd3c",
   "metadata": {},
   "outputs": [],
   "source": []
  },
  {
   "cell_type": "code",
   "execution_count": null,
   "id": "8c23c4b5",
   "metadata": {},
   "outputs": [],
   "source": []
  },
  {
   "cell_type": "code",
   "execution_count": null,
   "id": "7164986b",
   "metadata": {},
   "outputs": [],
   "source": []
  },
  {
   "cell_type": "code",
   "execution_count": null,
   "id": "0c1172ee",
   "metadata": {},
   "outputs": [],
   "source": []
  },
  {
   "cell_type": "code",
   "execution_count": null,
   "id": "d4ec1892",
   "metadata": {},
   "outputs": [],
   "source": []
  },
  {
   "cell_type": "code",
   "execution_count": null,
   "id": "341d3484",
   "metadata": {},
   "outputs": [],
   "source": []
  },
  {
   "cell_type": "code",
   "execution_count": null,
   "id": "dfe13cd1",
   "metadata": {},
   "outputs": [],
   "source": []
  },
  {
   "cell_type": "code",
   "execution_count": null,
   "id": "1d7012a8",
   "metadata": {},
   "outputs": [],
   "source": []
  },
  {
   "cell_type": "code",
   "execution_count": null,
   "id": "0fbfe896",
   "metadata": {},
   "outputs": [],
   "source": []
  }
 ],
 "metadata": {
  "kernelspec": {
   "display_name": "Python 3 (ipykernel)",
   "language": "python",
   "name": "python3"
  },
  "language_info": {
   "codemirror_mode": {
    "name": "ipython",
    "version": 3
   },
   "file_extension": ".py",
   "mimetype": "text/x-python",
   "name": "python",
   "nbconvert_exporter": "python",
   "pygments_lexer": "ipython3",
   "version": "3.9.7"
  }
 },
 "nbformat": 4,
 "nbformat_minor": 5
}

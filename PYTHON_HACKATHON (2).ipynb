{
 "cells": [
  {
   "cell_type": "markdown",
   "id": "8ffc6d52",
   "metadata": {},
   "source": [
    "# The Shopping Cart"
   ]
  },
  {
   "cell_type": "code",
   "execution_count": 11,
   "id": "561491d9",
   "metadata": {},
   "outputs": [
    {
     "name": "stdout",
     "output_type": "stream",
     "text": [
      "   item.no    product      price\n"
     ]
    }
   ],
   "source": [
    "\n",
    "#print(\"area of a circle with radius %d : %d\" %(r, areaofcircle))\n",
    "\n",
    "print(\"%10s %10s %10s\" %(\"item.no\",\"product\",\"price\"))\n",
    "print\n",
    "\n",
    "\n",
    "# shopping_cart= {}\n",
    "#         print(\"Welcome to the cart we offer\n",
    "#               \"biscuits\" :  20\n",
    "#               \"Cereals\" : 90 \n",
    "#               \"oats\" : 40\n",
    "#               \"rice\" : 80)\n",
    "\n",
    "# price = {\"biscuits\":  20, \"Cereals\":  90, \"oat\":  40, \"rice\":  80}\n",
    "#     shopping_basket = {}\n",
    "\n",
    "#     print(\"\"\"Welcome to the cart!\n",
    "#           \\nThese are the items we offer\n",
    "#           \\n1. biscuits: £1.50\n",
    "#           \\n2. Cereals: £2.00\n",
    "#           \\n3. oats: £1.00\n",
    "#           \\n4.rice: 80\"\"\")\n",
    "\n",
    "#     buy_another_flag = 1\n",
    "#     total_cost, total = 0, 0\n",
    "\n",
    "#     while buy_another_flag != 0:\n",
    "#         option = int(input(\"Which drink would you like to purchase?: \"))\n",
    "\n",
    "#         if option == 1:\n",
    "#             qnty = int(input(\"Enter the quantity: \"))\n",
    "#             total = qnty * 1.50\n",
    "#             print(\"The price is: \" + str(total))\n",
    "#         elif option == 2:\n",
    "#             qnty = int(input(\"Enter the quantity: \"))\n",
    "#             total = qnty * 2.00\n",
    "#             print(\"The price is: \" + str(total))\n",
    "#         elif option == 3:\n",
    "#             qnty = int(input(\"Enter the quantity: \"))\n",
    "#             total = qnty * 1.00\n",
    "#             print(\"The price is: \" + str(total))\n",
    "#         elif option == 4:\n",
    "#             qnty = int(input(\"Enter the quantity: \"))\n",
    "#             total = qnty * 0.50\n",
    "#             print(\"The price is: \" + str(total))\n",
    "\n",
    "#         total_cost += total\n",
    "\n",
    "#         buy_another_flag = int(input(\"Would you like another item? enter Yes (1) or No (0):\"))\n",
    "#     print(\"The total price of your basket is: \", total_cost)"
   ]
  },
  {
   "cell_type": "code",
   "execution_count": null,
   "id": "d93e496e",
   "metadata": {},
   "outputs": [],
   "source": []
  }
 ],
 "metadata": {
  "kernelspec": {
   "display_name": "Python 3 (ipykernel)",
   "language": "python",
   "name": "python3"
  },
  "language_info": {
   "codemirror_mode": {
    "name": "ipython",
    "version": 3
   },
   "file_extension": ".py",
   "mimetype": "text/x-python",
   "name": "python",
   "nbconvert_exporter": "python",
   "pygments_lexer": "ipython3",
   "version": "3.9.7"
  }
 },
 "nbformat": 4,
 "nbformat_minor": 5
}
